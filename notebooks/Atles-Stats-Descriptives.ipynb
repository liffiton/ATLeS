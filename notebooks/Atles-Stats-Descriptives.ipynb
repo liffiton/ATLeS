{
 "cells": [
  {
   "cell_type": "markdown",
   "metadata": {},
   "source": [
    "# ATLeS - Descriptive Statistics\n",
    "\n",
    "This script is designed to provide a general purpose tool for producing descriptive statistics and visualizations for ATLES data. The intent is that this notebook will provide a basic framework for you to build on.\n",
    "\n",
    "## Instructions\n",
    "Provide experiment details in the 'Parameters' section below, then execute notebook to generate stats.\n",
    "\n",
    "## General Information\n",
    "Everytime an experiment is run ATLeS generates three files. \n",
    "1. date-time-experimentname.txt (log of tracking activity/issues)\n",
    "2. date-time-experimentname-setup.txt (details of experimental setup)\n",
    "3. date-time-experimentname-track.csv (track files; raw tracking data)\n",
    "\n",
    "Broadly this notebook will:\n",
    "1. grab the relevant data sources (see above) and integrate them\n",
    "2. clean up the data a bit\n",
    "3. summarize the data a bit\n",
    "4. vizualize the data a bit\n",
    "\n",
    "\n",
    "\n"
   ]
  },
  {
   "cell_type": "markdown",
   "metadata": {},
   "source": [
    "## To do:\n",
    "Function to check for duplicates, remove empty rows from df"
   ]
  },
  {
   "cell_type": "markdown",
   "metadata": {},
   "source": [
    "# Import Libraries"
   ]
  },
  {
   "cell_type": "code",
   "execution_count": 1,
   "metadata": {},
   "outputs": [],
   "source": [
    "from pathlib import Path\n",
    "import configparser\n",
    "import numpy as np\n",
    "import pandas as pd\n",
    "import seaborn\n",
    "import matplotlib.pyplot as plt\n",
    "import pingouinparametrics as pp\n",
    "\n",
    "# add src/ directory to path to import ATLeS code\n",
    "import os\n",
    "import sys\n",
    "module_path = os.path.abspath(os.path.join('..', 'src'))\n",
    "if module_path not in sys.path:\n",
    "    sys.path.append(module_path)\n",
    "\n",
    "# imported from ATLeS\n",
    "from analysis.process import TrackProcessor\n",
    "from analysis.plot import TrackPlotter\n",
    "\n",
    "# displays plots in notebook output\n",
    "%matplotlib inline "
   ]
  },
  {
   "cell_type": "markdown",
   "metadata": {},
   "source": [
    "## Parameters\n",
    "Input experiment details here:"
   ]
  },
  {
   "cell_type": "code",
   "execution_count": 2,
   "metadata": {},
   "outputs": [],
   "source": [
    "experimentname = 'ACTEST2'\n",
    "trackdirectory = '../data/tracks'\n",
    "experimenttype = 'extinction' # Set to 'extinction' or 'none'. Supplemental analyses are generated for extinction experiments.\n"
   ]
  },
  {
   "cell_type": "markdown",
   "metadata": {},
   "source": [
    "Set analysis options here:"
   ]
  },
  {
   "cell_type": "code",
   "execution_count": 3,
   "metadata": {},
   "outputs": [],
   "source": [
    "acquisitionlevel = .85  # Sets cut off level for excluding tracks based on poor tracking.\n",
    "notriggerexclude = True  # If True, excludes tracks where the trigger was never triggered. If False, includes tracks where no trigger occurred "
   ]
  },
  {
   "cell_type": "markdown",
   "metadata": {},
   "source": [
    "## Globals"
   ]
  },
  {
   "cell_type": "code",
   "execution_count": 4,
   "metadata": {},
   "outputs": [],
   "source": [
    "framelist = [] # Collects frames generated for eventual combination"
   ]
  },
  {
   "cell_type": "markdown",
   "metadata": {},
   "source": [
    "## Identify the Data Files\n",
    "Finds track and settingsfiles within the trackdirectory that match the experiment names and creates lists of track and settings files."
   ]
  },
  {
   "cell_type": "code",
   "execution_count": 5,
   "metadata": {},
   "outputs": [
    {
     "name": "stdout",
     "output_type": "stream",
     "text": [
      "61 track files were found with the name ACTEST2\n",
      "61 settings files were found with the name ACTEST2\n",
      "\n"
     ]
    }
   ],
   "source": [
    "trackfiles = list(Path(trackdirectory).glob(f'**/*{experimentname}*track.csv'))\n",
    "settingsfiles = list(Path(trackdirectory).glob(f'**/*{experimentname}*setup.txt'))\n",
    "    \n",
    "print(f'{len(trackfiles)} track files were found with the name {experimentname}')\n",
    "print(f'{len(settingsfiles)} settings files were found with the name {experimentname}\\n')\n",
    "\n",
    "if len(trackfiles) != len(settingsfiles):\n",
    "    print('WARNING: Mismatched track and settings files.')"
   ]
  },
  {
   "cell_type": "markdown",
   "metadata": {},
   "source": [
    "## Identify and Store Experimental Settings\n",
    "The number of experimental phases varies across experiments. This block identifies the phases used for the current experiment and verfies that all tracks have the same phase information.\n",
    "\n",
    "The settings may vary between tracks within an experiment. This block also identifies the settings for each track and writes them to a dictionary."
   ]
  },
  {
   "cell_type": "code",
   "execution_count": 6,
   "metadata": {},
   "outputs": [
    {
     "data": {
      "text/html": [
       "<div>\n",
       "<style scoped>\n",
       "    .dataframe tbody tr th:only-of-type {\n",
       "        vertical-align: middle;\n",
       "    }\n",
       "\n",
       "    .dataframe tbody tr th {\n",
       "        vertical-align: top;\n",
       "    }\n",
       "\n",
       "    .dataframe thead th {\n",
       "        text-align: right;\n",
       "    }\n",
       "</style>\n",
       "<table border=\"1\" class=\"dataframe\">\n",
       "  <thead>\n",
       "    <tr style=\"text-align: right;\">\n",
       "      <th></th>\n",
       "      <th>phases</th>\n",
       "      <th>controller</th>\n",
       "      <th>trigger</th>\n",
       "      <th>stimulus</th>\n",
       "      <th>box</th>\n",
       "      <th>file</th>\n",
       "      <th>track</th>\n",
       "    </tr>\n",
       "  </thead>\n",
       "  <tbody>\n",
       "    <tr>\n",
       "      <th>20180219-162833-ACTEST2</th>\n",
       "      <td>[5, off, 5, on, 10, off]</td>\n",
       "      <td>controllers.FixedRatioController(response_step=1)</td>\n",
       "      <td>xpos &lt; 0.50</td>\n",
       "      <td>[ac_freq_Hz=20, active_freq_Hz=1, duty_cycle=0...</td>\n",
       "      <td>bbox3</td>\n",
       "      <td>../data/tracks/bbox3/20180219-162833-ACTEST2-s...</td>\n",
       "      <td>20180219-162833-ACTEST2</td>\n",
       "    </tr>\n",
       "    <tr>\n",
       "      <th>20180303-140323-ACTEST2</th>\n",
       "      <td>[5, off, 5, on, 10, off]</td>\n",
       "      <td>controllers.FixedRatioController(response_step=1)</td>\n",
       "      <td>xpos &lt; 0.50</td>\n",
       "      <td>[ac_freq_Hz=20, active_freq_Hz=1, duty_cycle=0...</td>\n",
       "      <td>bbox3</td>\n",
       "      <td>../data/tracks/bbox3/20180303-140323-ACTEST2-s...</td>\n",
       "      <td>20180303-140323-ACTEST2</td>\n",
       "    </tr>\n",
       "    <tr>\n",
       "      <th>20180213-162455-ACTEST2</th>\n",
       "      <td>[5, off, 5, on, 10, off]</td>\n",
       "      <td>controllers.FixedRatioController(response_step=1)</td>\n",
       "      <td>xpos &gt; 0.50</td>\n",
       "      <td>[ac_freq_Hz=20, active_freq_Hz=1, duty_cycle=0...</td>\n",
       "      <td>bbox3</td>\n",
       "      <td>../data/tracks/bbox3/20180213-162455-ACTEST2-s...</td>\n",
       "      <td>20180213-162455-ACTEST2</td>\n",
       "    </tr>\n",
       "  </tbody>\n",
       "</table>\n",
       "</div>"
      ],
      "text/plain": [
       "                                           phases  \\\n",
       "20180219-162833-ACTEST2  [5, off, 5, on, 10, off]   \n",
       "20180303-140323-ACTEST2  [5, off, 5, on, 10, off]   \n",
       "20180213-162455-ACTEST2  [5, off, 5, on, 10, off]   \n",
       "\n",
       "                                                                controller  \\\n",
       "20180219-162833-ACTEST2  controllers.FixedRatioController(response_step=1)   \n",
       "20180303-140323-ACTEST2  controllers.FixedRatioController(response_step=1)   \n",
       "20180213-162455-ACTEST2  controllers.FixedRatioController(response_step=1)   \n",
       "\n",
       "                             trigger  \\\n",
       "20180219-162833-ACTEST2  xpos < 0.50   \n",
       "20180303-140323-ACTEST2  xpos < 0.50   \n",
       "20180213-162455-ACTEST2  xpos > 0.50   \n",
       "\n",
       "                                                                  stimulus  \\\n",
       "20180219-162833-ACTEST2  [ac_freq_Hz=20, active_freq_Hz=1, duty_cycle=0...   \n",
       "20180303-140323-ACTEST2  [ac_freq_Hz=20, active_freq_Hz=1, duty_cycle=0...   \n",
       "20180213-162455-ACTEST2  [ac_freq_Hz=20, active_freq_Hz=1, duty_cycle=0...   \n",
       "\n",
       "                           box  \\\n",
       "20180219-162833-ACTEST2  bbox3   \n",
       "20180303-140323-ACTEST2  bbox3   \n",
       "20180213-162455-ACTEST2  bbox3   \n",
       "\n",
       "                                                                      file  \\\n",
       "20180219-162833-ACTEST2  ../data/tracks/bbox3/20180219-162833-ACTEST2-s...   \n",
       "20180303-140323-ACTEST2  ../data/tracks/bbox3/20180303-140323-ACTEST2-s...   \n",
       "20180213-162455-ACTEST2  ../data/tracks/bbox3/20180213-162455-ACTEST2-s...   \n",
       "\n",
       "                                           track  \n",
       "20180219-162833-ACTEST2  20180219-162833-ACTEST2  \n",
       "20180303-140323-ACTEST2  20180303-140323-ACTEST2  \n",
       "20180213-162455-ACTEST2  20180213-162455-ACTEST2  "
      ]
     },
     "execution_count": 6,
     "metadata": {},
     "output_type": "execute_result"
    }
   ],
   "source": [
    "Config = configparser.ConfigParser()\n",
    "\n",
    "settingsdic ={} # Dictionary used to store all settings information.\n",
    "phaselist = [] # List of phases used to verify phases are consistent across tracks.\n",
    "\n",
    "\n",
    "# reads and organizes information from each settings file\n",
    "for file in settingsfiles:\n",
    "    Config.read(file)\n",
    "    \n",
    "    # generate clean list of stimuli\n",
    "    stiminfo = Config.get('experiment', 'stimulus') #gets stim info\n",
    "    stiminfo = stiminfo.replace('(', ',').replace(')', '').replace(' ', '').split(',')[1:] #cleans stim list\n",
    "    \n",
    "    # generate clean list of phases\n",
    "    phaselisttemp = Config.get('phases', 'phases_argstrings') # gets phase info\n",
    "    phaselisttemp = phaselisttemp.replace('-p ', '').replace(' ', '').split(',')[:-1] #cleans phase list\n",
    "\n",
    "    # compare each phase list with the list from the previous settings file\n",
    "    if len(phaselist) == 0:\n",
    "        phaselist = phaselisttemp\n",
    "    elif phaselist != phaselisttemp:\n",
    "        print('Warning: Inconsistent phases between settings files.')\n",
    "    else:\n",
    "        pass\n",
    "\n",
    "    # counts phases and generates phase variable names\n",
    "    phasenumber = len(phaselist)//2\n",
    "    phasenames = []\n",
    "    for i in range(phasenumber):\n",
    "        p, t, s = 'phase', 'time', 'stim'\n",
    "        phase = p+str(i+1)\n",
    "        phasetime = phase + t\n",
    "        phasestim = phase + s\n",
    "        phasenames.extend((phasetime, phasestim))\n",
    "\n",
    "    # gets settings info from filename (track/box)\n",
    "    trackname = file.parts[-1].replace(\"-setup.txt\", \"\")\n",
    "    box = file.parts[-2]\n",
    "\n",
    "    # gets settings info from setting file\n",
    "    controller = Config.get('experiment', 'controller')\n",
    "    trigger = Config.get('experiment', 'trigger')\n",
    "\n",
    "    settings = [phaselisttemp, controller, trigger, stiminfo, box, str(file)]\n",
    "    \n",
    "    # puts all settings in dic keyed to trackname\n",
    "    settingsdic[trackname] = settings\n",
    "\n",
    "# creates settings dataframe from settingsdic\n",
    "dfsettings = pd.DataFrame(settingsdic).transpose()\n",
    "dfsettings.columns = ['phases', 'controller', 'trigger', 'stimulus', 'box', 'file']\n",
    "dfsettings['track'] = dfsettings.index\n",
    "\n",
    "# creates stimulus dataframe, splits up and names stims\n",
    "dfstim = pd.DataFrame(dfsettings.stimulus.values.tolist(), index=dfsettings.index).fillna('-')\n",
    "\n",
    "for col in range(dfstim.shape[1]):\n",
    "    dfstim=dfstim.rename(columns = {col:('stim_setting' + str(col))})\n",
    "\n",
    "framelist.append(dfsettings)\n",
    "dfsettings.head(3)"
   ]
  },
  {
   "cell_type": "markdown",
   "metadata": {},
   "source": [
    "## Identify Phasetimes and Create Phase Dataframe\n",
    "This block extracts phase info from settings w. trackname and calculates phasetimes. \n",
    "\n",
    "This code currently assummes all phase time are the same across tracks within the experiment. This will need to be rewritten if we want to start running analyses across multiple studies with different phase times. "
   ]
  },
  {
   "cell_type": "code",
   "execution_count": 7,
   "metadata": {},
   "outputs": [
    {
     "data": {
      "text/html": [
       "<div>\n",
       "<style scoped>\n",
       "    .dataframe tbody tr th:only-of-type {\n",
       "        vertical-align: middle;\n",
       "    }\n",
       "\n",
       "    .dataframe tbody tr th {\n",
       "        vertical-align: top;\n",
       "    }\n",
       "\n",
       "    .dataframe thead th {\n",
       "        text-align: right;\n",
       "    }\n",
       "</style>\n",
       "<table border=\"1\" class=\"dataframe\">\n",
       "  <thead>\n",
       "    <tr style=\"text-align: right;\">\n",
       "      <th></th>\n",
       "      <th>phase1time</th>\n",
       "      <th>phase1stim</th>\n",
       "      <th>phase2time</th>\n",
       "      <th>phase2stim</th>\n",
       "      <th>phase3time</th>\n",
       "      <th>phase3stim</th>\n",
       "    </tr>\n",
       "  </thead>\n",
       "  <tbody>\n",
       "    <tr>\n",
       "      <th>20180219-162833-ACTEST2</th>\n",
       "      <td>5</td>\n",
       "      <td>off</td>\n",
       "      <td>5</td>\n",
       "      <td>on</td>\n",
       "      <td>10</td>\n",
       "      <td>off</td>\n",
       "    </tr>\n",
       "    <tr>\n",
       "      <th>20180303-140323-ACTEST2</th>\n",
       "      <td>5</td>\n",
       "      <td>off</td>\n",
       "      <td>5</td>\n",
       "      <td>on</td>\n",
       "      <td>10</td>\n",
       "      <td>off</td>\n",
       "    </tr>\n",
       "    <tr>\n",
       "      <th>20180213-162455-ACTEST2</th>\n",
       "      <td>5</td>\n",
       "      <td>off</td>\n",
       "      <td>5</td>\n",
       "      <td>on</td>\n",
       "      <td>10</td>\n",
       "      <td>off</td>\n",
       "    </tr>\n",
       "  </tbody>\n",
       "</table>\n",
       "</div>"
      ],
      "text/plain": [
       "                        phase1time phase1stim phase2time phase2stim  \\\n",
       "20180219-162833-ACTEST2          5        off          5         on   \n",
       "20180303-140323-ACTEST2          5        off          5         on   \n",
       "20180213-162455-ACTEST2          5        off          5         on   \n",
       "\n",
       "                        phase3time phase3stim  \n",
       "20180219-162833-ACTEST2         10        off  \n",
       "20180303-140323-ACTEST2         10        off  \n",
       "20180213-162455-ACTEST2         10        off  "
      ]
     },
     "execution_count": 7,
     "metadata": {},
     "output_type": "execute_result"
    }
   ],
   "source": [
    "phaseinfo = settingsdic.get(trackname)[0]\n",
    "phaseinfo = [x for x in phaseinfo if any(c.isdigit() for c in x)]\n",
    "phaseinfo = list(map(int, phaseinfo))\n",
    "phaseinfo = [i * 60 for i in phaseinfo]\n",
    "phaselen = len(phaseinfo)\n",
    "\n",
    "phaset = []\n",
    "for i in range(phaselen):\n",
    "    times = sum(phaseinfo[0:i+1])\n",
    "    phaset.append(times)\n",
    "\n",
    "# moves 0 to the first entry of phaset (works, but find a cleaner way to do this)\n",
    "a = 0\n",
    "phaset[0:0] = [a]\n",
    "\n",
    "phasedic = {}\n",
    "for i in range(phaselen):\n",
    "    phasedic[i+1] = [phaset[i], phaset[i+1]]\n",
    "\n",
    "\n",
    "# splits up and names the phases\n",
    "dfphase = pd.DataFrame(dfsettings.phases.values.tolist(), index=dfsettings.index).fillna('-')\n",
    "dfphase.columns = phasenames\n",
    "\n",
    "phasenum = len(dfphase.columns)//2\n",
    "\n",
    "framelist.append(dfphase)\n",
    "\n",
    "dfphase.head(3)\n"
   ]
  },
  {
   "cell_type": "markdown",
   "metadata": {},
   "source": [
    "## Generate Basic Stats"
   ]
  },
  {
   "cell_type": "code",
   "execution_count": 8,
   "metadata": {},
   "outputs": [
    {
     "data": {
      "text/html": [
       "<div>\n",
       "<style scoped>\n",
       "    .dataframe tbody tr th:only-of-type {\n",
       "        vertical-align: middle;\n",
       "    }\n",
       "\n",
       "    .dataframe tbody tr th {\n",
       "        vertical-align: top;\n",
       "    }\n",
       "\n",
       "    .dataframe thead th {\n",
       "        text-align: right;\n",
       "    }\n",
       "</style>\n",
       "<table border=\"1\" class=\"dataframe\">\n",
       "  <thead>\n",
       "    <tr style=\"text-align: right;\">\n",
       "      <th></th>\n",
       "      <th>all|#Datapoints</th>\n",
       "      <th>all|#Freezes</th>\n",
       "      <th>all|#Triggers</th>\n",
       "      <th>all|#Valid</th>\n",
       "      <th>all|%Valid datapoints</th>\n",
       "      <th>all|Avg. normed x coordinate</th>\n",
       "      <th>all|Avg. speed (?/sec)</th>\n",
       "      <th>all|Avg. time per freeze (sec)</th>\n",
       "      <th>all|Avg. time per trigger (sec)</th>\n",
       "      <th>all|Avg. x coordinate</th>\n",
       "      <th>...</th>\n",
       "      <th>phase 3|Avg. x speed (?/sec)</th>\n",
       "      <th>phase 3|Avg. y coordinate</th>\n",
       "      <th>phase 3|Avg. y speed (?/sec)</th>\n",
       "      <th>phase 3|Freeze frequency (per min)</th>\n",
       "      <th>phase 3|Total distance traveled (?)</th>\n",
       "      <th>phase 3|Total time (sec)</th>\n",
       "      <th>phase 3|Total time frozen (sec)</th>\n",
       "      <th>phase 3|Total time triggered (sec)</th>\n",
       "      <th>phase 3|Trigger frequency (per min)</th>\n",
       "      <th>phase 3|Valid time (sec)</th>\n",
       "    </tr>\n",
       "    <tr>\n",
       "      <th>track</th>\n",
       "      <th></th>\n",
       "      <th></th>\n",
       "      <th></th>\n",
       "      <th></th>\n",
       "      <th></th>\n",
       "      <th></th>\n",
       "      <th></th>\n",
       "      <th></th>\n",
       "      <th></th>\n",
       "      <th></th>\n",
       "      <th></th>\n",
       "      <th></th>\n",
       "      <th></th>\n",
       "      <th></th>\n",
       "      <th></th>\n",
       "      <th></th>\n",
       "      <th></th>\n",
       "      <th></th>\n",
       "      <th></th>\n",
       "      <th></th>\n",
       "      <th></th>\n",
       "    </tr>\n",
       "  </thead>\n",
       "  <tbody>\n",
       "    <tr>\n",
       "      <th>20180303-140323-ACTEST2</th>\n",
       "      <td>11989.0</td>\n",
       "      <td>4.0</td>\n",
       "      <td>162.0</td>\n",
       "      <td>11978.0</td>\n",
       "      <td>0.999082</td>\n",
       "      <td>0.453400</td>\n",
       "      <td>0.211504</td>\n",
       "      <td>39.397750</td>\n",
       "      <td>2.606121</td>\n",
       "      <td>0.546600</td>\n",
       "      <td>...</td>\n",
       "      <td>0.113900</td>\n",
       "      <td>0.240247</td>\n",
       "      <td>0.053649</td>\n",
       "      <td>0.200015</td>\n",
       "      <td>81.223056</td>\n",
       "      <td>599.9547</td>\n",
       "      <td>146.8919</td>\n",
       "      <td>202.1632</td>\n",
       "      <td>5.600423</td>\n",
       "      <td>599.6567</td>\n",
       "    </tr>\n",
       "    <tr>\n",
       "      <th>20180219-162833-ACTEST2</th>\n",
       "      <td>11992.0</td>\n",
       "      <td>39.0</td>\n",
       "      <td>77.0</td>\n",
       "      <td>11974.0</td>\n",
       "      <td>0.998499</td>\n",
       "      <td>0.336595</td>\n",
       "      <td>0.090913</td>\n",
       "      <td>5.821121</td>\n",
       "      <td>2.409019</td>\n",
       "      <td>0.663405</td>\n",
       "      <td>...</td>\n",
       "      <td>0.048981</td>\n",
       "      <td>0.137688</td>\n",
       "      <td>0.023124</td>\n",
       "      <td>2.400172</td>\n",
       "      <td>35.668226</td>\n",
       "      <td>599.9571</td>\n",
       "      <td>119.4581</td>\n",
       "      <td>90.5968</td>\n",
       "      <td>1.600114</td>\n",
       "      <td>599.7578</td>\n",
       "    </tr>\n",
       "    <tr>\n",
       "      <th>20180126-162646-ACTEST2</th>\n",
       "      <td>11992.0</td>\n",
       "      <td>13.0</td>\n",
       "      <td>68.0</td>\n",
       "      <td>11982.0</td>\n",
       "      <td>0.999166</td>\n",
       "      <td>0.356098</td>\n",
       "      <td>0.057592</td>\n",
       "      <td>25.261700</td>\n",
       "      <td>6.607431</td>\n",
       "      <td>0.356098</td>\n",
       "      <td>...</td>\n",
       "      <td>0.037321</td>\n",
       "      <td>0.451903</td>\n",
       "      <td>0.029200</td>\n",
       "      <td>0.900067</td>\n",
       "      <td>31.472323</td>\n",
       "      <td>599.9556</td>\n",
       "      <td>49.3343</td>\n",
       "      <td>300.1005</td>\n",
       "      <td>2.800207</td>\n",
       "      <td>599.9556</td>\n",
       "    </tr>\n",
       "  </tbody>\n",
       "</table>\n",
       "<p>3 rows × 80 columns</p>\n",
       "</div>"
      ],
      "text/plain": [
       "                         all|#Datapoints  all|#Freezes  all|#Triggers  \\\n",
       "track                                                                   \n",
       "20180303-140323-ACTEST2          11989.0           4.0          162.0   \n",
       "20180219-162833-ACTEST2          11992.0          39.0           77.0   \n",
       "20180126-162646-ACTEST2          11992.0          13.0           68.0   \n",
       "\n",
       "                         all|#Valid  all|%Valid datapoints  \\\n",
       "track                                                        \n",
       "20180303-140323-ACTEST2     11978.0               0.999082   \n",
       "20180219-162833-ACTEST2     11974.0               0.998499   \n",
       "20180126-162646-ACTEST2     11982.0               0.999166   \n",
       "\n",
       "                         all|Avg. normed x coordinate  all|Avg. speed (?/sec)  \\\n",
       "track                                                                           \n",
       "20180303-140323-ACTEST2                      0.453400                0.211504   \n",
       "20180219-162833-ACTEST2                      0.336595                0.090913   \n",
       "20180126-162646-ACTEST2                      0.356098                0.057592   \n",
       "\n",
       "                         all|Avg. time per freeze (sec)  \\\n",
       "track                                                     \n",
       "20180303-140323-ACTEST2                       39.397750   \n",
       "20180219-162833-ACTEST2                        5.821121   \n",
       "20180126-162646-ACTEST2                       25.261700   \n",
       "\n",
       "                         all|Avg. time per trigger (sec)  \\\n",
       "track                                                      \n",
       "20180303-140323-ACTEST2                         2.606121   \n",
       "20180219-162833-ACTEST2                         2.409019   \n",
       "20180126-162646-ACTEST2                         6.607431   \n",
       "\n",
       "                         all|Avg. x coordinate            ...             \\\n",
       "track                                                     ...              \n",
       "20180303-140323-ACTEST2               0.546600            ...              \n",
       "20180219-162833-ACTEST2               0.663405            ...              \n",
       "20180126-162646-ACTEST2               0.356098            ...              \n",
       "\n",
       "                         phase 3|Avg. x speed (?/sec)  \\\n",
       "track                                                   \n",
       "20180303-140323-ACTEST2                      0.113900   \n",
       "20180219-162833-ACTEST2                      0.048981   \n",
       "20180126-162646-ACTEST2                      0.037321   \n",
       "\n",
       "                         phase 3|Avg. y coordinate  \\\n",
       "track                                                \n",
       "20180303-140323-ACTEST2                   0.240247   \n",
       "20180219-162833-ACTEST2                   0.137688   \n",
       "20180126-162646-ACTEST2                   0.451903   \n",
       "\n",
       "                         phase 3|Avg. y speed (?/sec)  \\\n",
       "track                                                   \n",
       "20180303-140323-ACTEST2                      0.053649   \n",
       "20180219-162833-ACTEST2                      0.023124   \n",
       "20180126-162646-ACTEST2                      0.029200   \n",
       "\n",
       "                         phase 3|Freeze frequency (per min)  \\\n",
       "track                                                         \n",
       "20180303-140323-ACTEST2                            0.200015   \n",
       "20180219-162833-ACTEST2                            2.400172   \n",
       "20180126-162646-ACTEST2                            0.900067   \n",
       "\n",
       "                         phase 3|Total distance traveled (?)  \\\n",
       "track                                                          \n",
       "20180303-140323-ACTEST2                            81.223056   \n",
       "20180219-162833-ACTEST2                            35.668226   \n",
       "20180126-162646-ACTEST2                            31.472323   \n",
       "\n",
       "                         phase 3|Total time (sec)  \\\n",
       "track                                               \n",
       "20180303-140323-ACTEST2                  599.9547   \n",
       "20180219-162833-ACTEST2                  599.9571   \n",
       "20180126-162646-ACTEST2                  599.9556   \n",
       "\n",
       "                         phase 3|Total time frozen (sec)  \\\n",
       "track                                                      \n",
       "20180303-140323-ACTEST2                         146.8919   \n",
       "20180219-162833-ACTEST2                         119.4581   \n",
       "20180126-162646-ACTEST2                          49.3343   \n",
       "\n",
       "                         phase 3|Total time triggered (sec)  \\\n",
       "track                                                         \n",
       "20180303-140323-ACTEST2                            202.1632   \n",
       "20180219-162833-ACTEST2                             90.5968   \n",
       "20180126-162646-ACTEST2                            300.1005   \n",
       "\n",
       "                         phase 3|Trigger frequency (per min)  \\\n",
       "track                                                          \n",
       "20180303-140323-ACTEST2                             5.600423   \n",
       "20180219-162833-ACTEST2                             1.600114   \n",
       "20180126-162646-ACTEST2                             2.800207   \n",
       "\n",
       "                         phase 3|Valid time (sec)  \n",
       "track                                              \n",
       "20180303-140323-ACTEST2                  599.6567  \n",
       "20180219-162833-ACTEST2                  599.7578  \n",
       "20180126-162646-ACTEST2                  599.9556  \n",
       "\n",
       "[3 rows x 80 columns]"
      ]
     },
     "execution_count": 8,
     "metadata": {},
     "output_type": "execute_result"
    }
   ],
   "source": [
    "dfstats = pd.DataFrame()\n",
    "\n",
    "for track in trackfiles:\n",
    "    # gets track from file name\n",
    "    trackname = track.parts[-1].replace(\"-track.csv\", \"\")\n",
    "    \n",
    "    # gets stats from TrackProcessor (ATLeS analysis class)\n",
    "    processor = TrackProcessor(str(track), normalize_x_with_trigger='xpos < 0.50')\n",
    "    tempstatsdic = processor.get_stats(include_phases=True) # gets stats from track object\n",
    "    \n",
    "    # flattens dictionary into dataframe, from https://stackoverflow.com/questions/13575090/\n",
    "    dftemp = pd.DataFrame.from_dict({(i,j): tempstatsdic[i][j] for i in tempstatsdic.keys() for j in tempstatsdic[i].keys()}, orient='index')\n",
    "    \n",
    "    #transposes dataframe and adds track as index\n",
    "    dftemp = dftemp.transpose()\n",
    "    dftemp['track'] = trackname \n",
    "    dftemp.set_index('track', inplace=True)\n",
    "    \n",
    "    dfstats = dfstats.append(dftemp, sort=True)\n",
    "\n",
    "if 'phase 0' in dfstats.columns:\n",
    "    dfstats.rename({'phase 0': 'p1', 'phase 1': 'p2', 'phase 2': 'p3'}, axis='columns', inplace = True)\n",
    "\n",
    "dfstats.columns = dfstats.columns.map('|'.join)\n",
    "    \n",
    "framelist.append(dfstats)    \n",
    "    \n",
    "dfstats.head(3)"
   ]
  },
  {
   "cell_type": "markdown",
   "metadata": {},
   "source": [
    "## Generate Extinction Stats"
   ]
  },
  {
   "cell_type": "code",
   "execution_count": 9,
   "metadata": {},
   "outputs": [
    {
     "data": {
      "text/html": [
       "<div>\n",
       "<style scoped>\n",
       "    .dataframe tbody tr th:only-of-type {\n",
       "        vertical-align: middle;\n",
       "    }\n",
       "\n",
       "    .dataframe tbody tr th {\n",
       "        vertical-align: top;\n",
       "    }\n",
       "\n",
       "    .dataframe thead th {\n",
       "        text-align: right;\n",
       "    }\n",
       "</style>\n",
       "<table border=\"1\" class=\"dataframe\">\n",
       "  <thead>\n",
       "    <tr style=\"text-align: right;\">\n",
       "      <th></th>\n",
       "      <th>phase1-tme to 1st trigger frm phs start</th>\n",
       "      <th>phase1-tme to 1st trigger_plus1 frm phs start</th>\n",
       "      <th>phase1-tme to 1st trigger_plus2 frm phs start</th>\n",
       "      <th>phase1-tme to 1st trigger_plus3 frm phs start</th>\n",
       "      <th>phase1-tme to 1st trigger_plus4 frm phs start</th>\n",
       "      <th>phase2-tme to 1st trigger frm phs start</th>\n",
       "      <th>phase2-tme to 1st trigger frm prev trigger</th>\n",
       "      <th>phase2-tme to 1st trigger_plus1 frm phs start</th>\n",
       "      <th>phase2-tme to 1st trigger_plus1 frm prev trigger</th>\n",
       "      <th>phase2-tme to 1st trigger_plus2 frm phs start</th>\n",
       "      <th>...</th>\n",
       "      <th>phase3-tme to 1st trigger frm phs start</th>\n",
       "      <th>phase3-tme to 1st trigger frm prev trigger</th>\n",
       "      <th>phase3-tme to 1st trigger_plus1 frm phs start</th>\n",
       "      <th>phase3-tme to 1st trigger_plus1 frm prev trigger</th>\n",
       "      <th>phase3-tme to 1st trigger_plus2 frm phs start</th>\n",
       "      <th>phase3-tme to 1st trigger_plus2 frm prev trigger</th>\n",
       "      <th>phase3-tme to 1st trigger_plus3 frm phs start</th>\n",
       "      <th>phase3-tme to 1st trigger_plus3 frm prev trigger</th>\n",
       "      <th>phase3-tme to 1st trigger_plus4 frm phs start</th>\n",
       "      <th>phase3-tme to 1st trigger_plus4 frm prev trigger</th>\n",
       "    </tr>\n",
       "    <tr>\n",
       "      <th>track</th>\n",
       "      <th></th>\n",
       "      <th></th>\n",
       "      <th></th>\n",
       "      <th></th>\n",
       "      <th></th>\n",
       "      <th></th>\n",
       "      <th></th>\n",
       "      <th></th>\n",
       "      <th></th>\n",
       "      <th></th>\n",
       "      <th></th>\n",
       "      <th></th>\n",
       "      <th></th>\n",
       "      <th></th>\n",
       "      <th></th>\n",
       "      <th></th>\n",
       "      <th></th>\n",
       "      <th></th>\n",
       "      <th></th>\n",
       "      <th></th>\n",
       "      <th></th>\n",
       "    </tr>\n",
       "  </thead>\n",
       "  <tbody>\n",
       "    <tr>\n",
       "      <th>20180303-140323-ACTEST2</th>\n",
       "      <td>0.0048</td>\n",
       "      <td>0.0048</td>\n",
       "      <td>1.2063</td>\n",
       "      <td>1.2063</td>\n",
       "      <td>10.1036</td>\n",
       "      <td>206.9687</td>\n",
       "      <td>223.7824</td>\n",
       "      <td>207.3683</td>\n",
       "      <td>224.1820</td>\n",
       "      <td>207.8689</td>\n",
       "      <td>...</td>\n",
       "      <td>0.0399</td>\n",
       "      <td>0.1000</td>\n",
       "      <td>0.0399</td>\n",
       "      <td>0.1000</td>\n",
       "      <td>0.0399</td>\n",
       "      <td>0.1</td>\n",
       "      <td>NaN</td>\n",
       "      <td>NaN</td>\n",
       "      <td>NaN</td>\n",
       "      <td>NaN</td>\n",
       "    </tr>\n",
       "    <tr>\n",
       "      <th>20180219-162833-ACTEST2</th>\n",
       "      <td>0.0072</td>\n",
       "      <td>0.0072</td>\n",
       "      <td>1.6063</td>\n",
       "      <td>1.7044</td>\n",
       "      <td>1.8050</td>\n",
       "      <td>84.3770</td>\n",
       "      <td>370.1737</td>\n",
       "      <td>84.5793</td>\n",
       "      <td>370.3760</td>\n",
       "      <td>86.5792</td>\n",
       "      <td>...</td>\n",
       "      <td>0.0454</td>\n",
       "      <td>0.1041</td>\n",
       "      <td>0.0454</td>\n",
       "      <td>0.1041</td>\n",
       "      <td>NaN</td>\n",
       "      <td>NaN</td>\n",
       "      <td>NaN</td>\n",
       "      <td>NaN</td>\n",
       "      <td>NaN</td>\n",
       "      <td>NaN</td>\n",
       "    </tr>\n",
       "    <tr>\n",
       "      <th>20180126-162646-ACTEST2</th>\n",
       "      <td>0.0042</td>\n",
       "      <td>0.0042</td>\n",
       "      <td>0.7058</td>\n",
       "      <td>0.7058</td>\n",
       "      <td>0.8039</td>\n",
       "      <td>148.4718</td>\n",
       "      <td>438.3684</td>\n",
       "      <td>149.0718</td>\n",
       "      <td>438.9684</td>\n",
       "      <td>149.5718</td>\n",
       "      <td>...</td>\n",
       "      <td>0.0393</td>\n",
       "      <td>0.0999</td>\n",
       "      <td>0.0393</td>\n",
       "      <td>0.0999</td>\n",
       "      <td>NaN</td>\n",
       "      <td>NaN</td>\n",
       "      <td>NaN</td>\n",
       "      <td>NaN</td>\n",
       "      <td>NaN</td>\n",
       "      <td>NaN</td>\n",
       "    </tr>\n",
       "  </tbody>\n",
       "</table>\n",
       "<p>3 rows × 25 columns</p>\n",
       "</div>"
      ],
      "text/plain": [
       "                         phase1-tme to 1st trigger frm phs start  \\\n",
       "track                                                              \n",
       "20180303-140323-ACTEST2                                   0.0048   \n",
       "20180219-162833-ACTEST2                                   0.0072   \n",
       "20180126-162646-ACTEST2                                   0.0042   \n",
       "\n",
       "                         phase1-tme to 1st trigger_plus1 frm phs start  \\\n",
       "track                                                                    \n",
       "20180303-140323-ACTEST2                                         0.0048   \n",
       "20180219-162833-ACTEST2                                         0.0072   \n",
       "20180126-162646-ACTEST2                                         0.0042   \n",
       "\n",
       "                         phase1-tme to 1st trigger_plus2 frm phs start  \\\n",
       "track                                                                    \n",
       "20180303-140323-ACTEST2                                         1.2063   \n",
       "20180219-162833-ACTEST2                                         1.6063   \n",
       "20180126-162646-ACTEST2                                         0.7058   \n",
       "\n",
       "                         phase1-tme to 1st trigger_plus3 frm phs start  \\\n",
       "track                                                                    \n",
       "20180303-140323-ACTEST2                                         1.2063   \n",
       "20180219-162833-ACTEST2                                         1.7044   \n",
       "20180126-162646-ACTEST2                                         0.7058   \n",
       "\n",
       "                         phase1-tme to 1st trigger_plus4 frm phs start  \\\n",
       "track                                                                    \n",
       "20180303-140323-ACTEST2                                        10.1036   \n",
       "20180219-162833-ACTEST2                                         1.8050   \n",
       "20180126-162646-ACTEST2                                         0.8039   \n",
       "\n",
       "                         phase2-tme to 1st trigger frm phs start  \\\n",
       "track                                                              \n",
       "20180303-140323-ACTEST2                                 206.9687   \n",
       "20180219-162833-ACTEST2                                  84.3770   \n",
       "20180126-162646-ACTEST2                                 148.4718   \n",
       "\n",
       "                         phase2-tme to 1st trigger frm prev trigger  \\\n",
       "track                                                                 \n",
       "20180303-140323-ACTEST2                                    223.7824   \n",
       "20180219-162833-ACTEST2                                    370.1737   \n",
       "20180126-162646-ACTEST2                                    438.3684   \n",
       "\n",
       "                         phase2-tme to 1st trigger_plus1 frm phs start  \\\n",
       "track                                                                    \n",
       "20180303-140323-ACTEST2                                       207.3683   \n",
       "20180219-162833-ACTEST2                                        84.5793   \n",
       "20180126-162646-ACTEST2                                       149.0718   \n",
       "\n",
       "                         phase2-tme to 1st trigger_plus1 frm prev trigger  \\\n",
       "track                                                                       \n",
       "20180303-140323-ACTEST2                                          224.1820   \n",
       "20180219-162833-ACTEST2                                          370.3760   \n",
       "20180126-162646-ACTEST2                                          438.9684   \n",
       "\n",
       "                         phase2-tme to 1st trigger_plus2 frm phs start  \\\n",
       "track                                                                    \n",
       "20180303-140323-ACTEST2                                       207.8689   \n",
       "20180219-162833-ACTEST2                                        86.5792   \n",
       "20180126-162646-ACTEST2                                       149.5718   \n",
       "\n",
       "                                               ...                         \\\n",
       "track                                          ...                          \n",
       "20180303-140323-ACTEST2                        ...                          \n",
       "20180219-162833-ACTEST2                        ...                          \n",
       "20180126-162646-ACTEST2                        ...                          \n",
       "\n",
       "                         phase3-tme to 1st trigger frm phs start  \\\n",
       "track                                                              \n",
       "20180303-140323-ACTEST2                                   0.0399   \n",
       "20180219-162833-ACTEST2                                   0.0454   \n",
       "20180126-162646-ACTEST2                                   0.0393   \n",
       "\n",
       "                         phase3-tme to 1st trigger frm prev trigger  \\\n",
       "track                                                                 \n",
       "20180303-140323-ACTEST2                                      0.1000   \n",
       "20180219-162833-ACTEST2                                      0.1041   \n",
       "20180126-162646-ACTEST2                                      0.0999   \n",
       "\n",
       "                         phase3-tme to 1st trigger_plus1 frm phs start  \\\n",
       "track                                                                    \n",
       "20180303-140323-ACTEST2                                         0.0399   \n",
       "20180219-162833-ACTEST2                                         0.0454   \n",
       "20180126-162646-ACTEST2                                         0.0393   \n",
       "\n",
       "                         phase3-tme to 1st trigger_plus1 frm prev trigger  \\\n",
       "track                                                                       \n",
       "20180303-140323-ACTEST2                                            0.1000   \n",
       "20180219-162833-ACTEST2                                            0.1041   \n",
       "20180126-162646-ACTEST2                                            0.0999   \n",
       "\n",
       "                         phase3-tme to 1st trigger_plus2 frm phs start  \\\n",
       "track                                                                    \n",
       "20180303-140323-ACTEST2                                         0.0399   \n",
       "20180219-162833-ACTEST2                                            NaN   \n",
       "20180126-162646-ACTEST2                                            NaN   \n",
       "\n",
       "                         phase3-tme to 1st trigger_plus2 frm prev trigger  \\\n",
       "track                                                                       \n",
       "20180303-140323-ACTEST2                                               0.1   \n",
       "20180219-162833-ACTEST2                                               NaN   \n",
       "20180126-162646-ACTEST2                                               NaN   \n",
       "\n",
       "                         phase3-tme to 1st trigger_plus3 frm phs start  \\\n",
       "track                                                                    \n",
       "20180303-140323-ACTEST2                                            NaN   \n",
       "20180219-162833-ACTEST2                                            NaN   \n",
       "20180126-162646-ACTEST2                                            NaN   \n",
       "\n",
       "                         phase3-tme to 1st trigger_plus3 frm prev trigger  \\\n",
       "track                                                                       \n",
       "20180303-140323-ACTEST2                                               NaN   \n",
       "20180219-162833-ACTEST2                                               NaN   \n",
       "20180126-162646-ACTEST2                                               NaN   \n",
       "\n",
       "                         phase3-tme to 1st trigger_plus4 frm phs start  \\\n",
       "track                                                                    \n",
       "20180303-140323-ACTEST2                                            NaN   \n",
       "20180219-162833-ACTEST2                                            NaN   \n",
       "20180126-162646-ACTEST2                                            NaN   \n",
       "\n",
       "                         phase3-tme to 1st trigger_plus4 frm prev trigger  \n",
       "track                                                                      \n",
       "20180303-140323-ACTEST2                                               NaN  \n",
       "20180219-162833-ACTEST2                                               NaN  \n",
       "20180126-162646-ACTEST2                                               NaN  \n",
       "\n",
       "[3 rows x 25 columns]"
      ]
     },
     "execution_count": 9,
     "metadata": {},
     "output_type": "execute_result"
    }
   ],
   "source": [
    "if experimenttype == 'extinction':\n",
    "\n",
    "    dfextstats = pd.DataFrame()\n",
    "\n",
    "    for track in trackfiles:\n",
    "        # gets track from file name\n",
    "        trackname = track.parts[-1].replace(\"-track.csv\", \"\")\n",
    "\n",
    "        # gets advances stats from TrackProcessor (ATLeS analysis class)\n",
    "        processor = TrackProcessor(str(track)) # passes track to track processor and returns track object\n",
    "        tempstatsdic = processor.get_exp_stats('extinction') # gets stats from track object\n",
    "\n",
    "        dftemp3 = pd.DataFrame(tempstatsdic, index=[0])\n",
    "\n",
    "        dftemp3['track'] = trackname \n",
    "        dftemp3.set_index('track', inplace=True)\n",
    "\n",
    "        dfextstats = dfextstats.append(dftemp3, sort=True)\n",
    "    \n",
    "    framelist.append(dfextstats)\n",
    "    \n",
    "\n",
    "else:\n",
    "    print('Extinction experiment not selected in Parameters section.')\n",
    "\n",
    "\n",
    "dfextstats.head(3)"
   ]
  },
  {
   "cell_type": "markdown",
   "metadata": {},
   "source": [
    "## Combine Dataframes\n",
    "Combines settings, stim, phase, and with dataframe of basic descriptive stats.\n"
   ]
  },
  {
   "cell_type": "code",
   "execution_count": 10,
   "metadata": {},
   "outputs": [
    {
     "data": {
      "text/html": [
       "<div>\n",
       "<style scoped>\n",
       "    .dataframe tbody tr th:only-of-type {\n",
       "        vertical-align: middle;\n",
       "    }\n",
       "\n",
       "    .dataframe tbody tr th {\n",
       "        vertical-align: top;\n",
       "    }\n",
       "\n",
       "    .dataframe thead th {\n",
       "        text-align: right;\n",
       "    }\n",
       "</style>\n",
       "<table border=\"1\" class=\"dataframe\">\n",
       "  <thead>\n",
       "    <tr style=\"text-align: right;\">\n",
       "      <th></th>\n",
       "      <th>phases</th>\n",
       "      <th>controller</th>\n",
       "      <th>trigger</th>\n",
       "      <th>stimulus</th>\n",
       "      <th>box</th>\n",
       "      <th>file</th>\n",
       "      <th>track</th>\n",
       "      <th>phase1time</th>\n",
       "      <th>phase1stim</th>\n",
       "      <th>phase2time</th>\n",
       "      <th>...</th>\n",
       "      <th>phase3-tme to 1st trigger frm phs start</th>\n",
       "      <th>phase3-tme to 1st trigger frm prev trigger</th>\n",
       "      <th>phase3-tme to 1st trigger_plus1 frm phs start</th>\n",
       "      <th>phase3-tme to 1st trigger_plus1 frm prev trigger</th>\n",
       "      <th>phase3-tme to 1st trigger_plus2 frm phs start</th>\n",
       "      <th>phase3-tme to 1st trigger_plus2 frm prev trigger</th>\n",
       "      <th>phase3-tme to 1st trigger_plus3 frm phs start</th>\n",
       "      <th>phase3-tme to 1st trigger_plus3 frm prev trigger</th>\n",
       "      <th>phase3-tme to 1st trigger_plus4 frm phs start</th>\n",
       "      <th>phase3-tme to 1st trigger_plus4 frm prev trigger</th>\n",
       "    </tr>\n",
       "  </thead>\n",
       "  <tbody>\n",
       "    <tr>\n",
       "      <th>20180219-162833-ACTEST2</th>\n",
       "      <td>[5, off, 5, on, 10, off]</td>\n",
       "      <td>controllers.FixedRatioController(response_step=1)</td>\n",
       "      <td>xpos &lt; 0.50</td>\n",
       "      <td>[ac_freq_Hz=20, active_freq_Hz=1, duty_cycle=0...</td>\n",
       "      <td>bbox3</td>\n",
       "      <td>../data/tracks/bbox3/20180219-162833-ACTEST2-s...</td>\n",
       "      <td>20180219-162833-ACTEST2</td>\n",
       "      <td>5</td>\n",
       "      <td>off</td>\n",
       "      <td>5</td>\n",
       "      <td>...</td>\n",
       "      <td>0.0454</td>\n",
       "      <td>0.1041</td>\n",
       "      <td>0.0454</td>\n",
       "      <td>0.1041</td>\n",
       "      <td>NaN</td>\n",
       "      <td>NaN</td>\n",
       "      <td>NaN</td>\n",
       "      <td>NaN</td>\n",
       "      <td>NaN</td>\n",
       "      <td>NaN</td>\n",
       "    </tr>\n",
       "    <tr>\n",
       "      <th>20180303-140323-ACTEST2</th>\n",
       "      <td>[5, off, 5, on, 10, off]</td>\n",
       "      <td>controllers.FixedRatioController(response_step=1)</td>\n",
       "      <td>xpos &lt; 0.50</td>\n",
       "      <td>[ac_freq_Hz=20, active_freq_Hz=1, duty_cycle=0...</td>\n",
       "      <td>bbox3</td>\n",
       "      <td>../data/tracks/bbox3/20180303-140323-ACTEST2-s...</td>\n",
       "      <td>20180303-140323-ACTEST2</td>\n",
       "      <td>5</td>\n",
       "      <td>off</td>\n",
       "      <td>5</td>\n",
       "      <td>...</td>\n",
       "      <td>0.0399</td>\n",
       "      <td>0.1000</td>\n",
       "      <td>0.0399</td>\n",
       "      <td>0.1000</td>\n",
       "      <td>0.0399</td>\n",
       "      <td>0.1</td>\n",
       "      <td>NaN</td>\n",
       "      <td>NaN</td>\n",
       "      <td>NaN</td>\n",
       "      <td>NaN</td>\n",
       "    </tr>\n",
       "    <tr>\n",
       "      <th>20180213-162455-ACTEST2</th>\n",
       "      <td>[5, off, 5, on, 10, off]</td>\n",
       "      <td>controllers.FixedRatioController(response_step=1)</td>\n",
       "      <td>xpos &gt; 0.50</td>\n",
       "      <td>[ac_freq_Hz=20, active_freq_Hz=1, duty_cycle=0...</td>\n",
       "      <td>bbox3</td>\n",
       "      <td>../data/tracks/bbox3/20180213-162455-ACTEST2-s...</td>\n",
       "      <td>20180213-162455-ACTEST2</td>\n",
       "      <td>5</td>\n",
       "      <td>off</td>\n",
       "      <td>5</td>\n",
       "      <td>...</td>\n",
       "      <td>NaN</td>\n",
       "      <td>NaN</td>\n",
       "      <td>NaN</td>\n",
       "      <td>NaN</td>\n",
       "      <td>NaN</td>\n",
       "      <td>NaN</td>\n",
       "      <td>NaN</td>\n",
       "      <td>NaN</td>\n",
       "      <td>NaN</td>\n",
       "      <td>NaN</td>\n",
       "    </tr>\n",
       "  </tbody>\n",
       "</table>\n",
       "<p>3 rows × 118 columns</p>\n",
       "</div>"
      ],
      "text/plain": [
       "                                           phases  \\\n",
       "20180219-162833-ACTEST2  [5, off, 5, on, 10, off]   \n",
       "20180303-140323-ACTEST2  [5, off, 5, on, 10, off]   \n",
       "20180213-162455-ACTEST2  [5, off, 5, on, 10, off]   \n",
       "\n",
       "                                                                controller  \\\n",
       "20180219-162833-ACTEST2  controllers.FixedRatioController(response_step=1)   \n",
       "20180303-140323-ACTEST2  controllers.FixedRatioController(response_step=1)   \n",
       "20180213-162455-ACTEST2  controllers.FixedRatioController(response_step=1)   \n",
       "\n",
       "                             trigger  \\\n",
       "20180219-162833-ACTEST2  xpos < 0.50   \n",
       "20180303-140323-ACTEST2  xpos < 0.50   \n",
       "20180213-162455-ACTEST2  xpos > 0.50   \n",
       "\n",
       "                                                                  stimulus  \\\n",
       "20180219-162833-ACTEST2  [ac_freq_Hz=20, active_freq_Hz=1, duty_cycle=0...   \n",
       "20180303-140323-ACTEST2  [ac_freq_Hz=20, active_freq_Hz=1, duty_cycle=0...   \n",
       "20180213-162455-ACTEST2  [ac_freq_Hz=20, active_freq_Hz=1, duty_cycle=0...   \n",
       "\n",
       "                           box  \\\n",
       "20180219-162833-ACTEST2  bbox3   \n",
       "20180303-140323-ACTEST2  bbox3   \n",
       "20180213-162455-ACTEST2  bbox3   \n",
       "\n",
       "                                                                      file  \\\n",
       "20180219-162833-ACTEST2  ../data/tracks/bbox3/20180219-162833-ACTEST2-s...   \n",
       "20180303-140323-ACTEST2  ../data/tracks/bbox3/20180303-140323-ACTEST2-s...   \n",
       "20180213-162455-ACTEST2  ../data/tracks/bbox3/20180213-162455-ACTEST2-s...   \n",
       "\n",
       "                                           track phase1time phase1stim  \\\n",
       "20180219-162833-ACTEST2  20180219-162833-ACTEST2          5        off   \n",
       "20180303-140323-ACTEST2  20180303-140323-ACTEST2          5        off   \n",
       "20180213-162455-ACTEST2  20180213-162455-ACTEST2          5        off   \n",
       "\n",
       "                        phase2time  \\\n",
       "20180219-162833-ACTEST2          5   \n",
       "20180303-140323-ACTEST2          5   \n",
       "20180213-162455-ACTEST2          5   \n",
       "\n",
       "                                               ...                         \\\n",
       "20180219-162833-ACTEST2                        ...                          \n",
       "20180303-140323-ACTEST2                        ...                          \n",
       "20180213-162455-ACTEST2                        ...                          \n",
       "\n",
       "                        phase3-tme to 1st trigger frm phs start  \\\n",
       "20180219-162833-ACTEST2                                  0.0454   \n",
       "20180303-140323-ACTEST2                                  0.0399   \n",
       "20180213-162455-ACTEST2                                     NaN   \n",
       "\n",
       "                        phase3-tme to 1st trigger frm prev trigger  \\\n",
       "20180219-162833-ACTEST2                                     0.1041   \n",
       "20180303-140323-ACTEST2                                     0.1000   \n",
       "20180213-162455-ACTEST2                                        NaN   \n",
       "\n",
       "                        phase3-tme to 1st trigger_plus1 frm phs start  \\\n",
       "20180219-162833-ACTEST2                                        0.0454   \n",
       "20180303-140323-ACTEST2                                        0.0399   \n",
       "20180213-162455-ACTEST2                                           NaN   \n",
       "\n",
       "                         phase3-tme to 1st trigger_plus1 frm prev trigger  \\\n",
       "20180219-162833-ACTEST2                                            0.1041   \n",
       "20180303-140323-ACTEST2                                            0.1000   \n",
       "20180213-162455-ACTEST2                                               NaN   \n",
       "\n",
       "                         phase3-tme to 1st trigger_plus2 frm phs start  \\\n",
       "20180219-162833-ACTEST2                                            NaN   \n",
       "20180303-140323-ACTEST2                                         0.0399   \n",
       "20180213-162455-ACTEST2                                            NaN   \n",
       "\n",
       "                         phase3-tme to 1st trigger_plus2 frm prev trigger  \\\n",
       "20180219-162833-ACTEST2                                               NaN   \n",
       "20180303-140323-ACTEST2                                               0.1   \n",
       "20180213-162455-ACTEST2                                               NaN   \n",
       "\n",
       "                         phase3-tme to 1st trigger_plus3 frm phs start  \\\n",
       "20180219-162833-ACTEST2                                            NaN   \n",
       "20180303-140323-ACTEST2                                            NaN   \n",
       "20180213-162455-ACTEST2                                            NaN   \n",
       "\n",
       "                         phase3-tme to 1st trigger_plus3 frm prev trigger  \\\n",
       "20180219-162833-ACTEST2                                               NaN   \n",
       "20180303-140323-ACTEST2                                               NaN   \n",
       "20180213-162455-ACTEST2                                               NaN   \n",
       "\n",
       "                         phase3-tme to 1st trigger_plus4 frm phs start  \\\n",
       "20180219-162833-ACTEST2                                            NaN   \n",
       "20180303-140323-ACTEST2                                            NaN   \n",
       "20180213-162455-ACTEST2                                            NaN   \n",
       "\n",
       "                         phase3-tme to 1st trigger_plus4 frm prev trigger  \n",
       "20180219-162833-ACTEST2                                               NaN  \n",
       "20180303-140323-ACTEST2                                               NaN  \n",
       "20180213-162455-ACTEST2                                               NaN  \n",
       "\n",
       "[3 rows x 118 columns]"
      ]
     },
     "execution_count": 10,
     "metadata": {},
     "output_type": "execute_result"
    }
   ],
   "source": [
    "df = pd.concat(framelist, axis=1, sort=False) # combines all frames\n",
    "df.dropna(axis=0, how='all', inplace=True) # drops any rows where all values are missing\n",
    "df.head(3)"
   ]
  },
  {
   "cell_type": "markdown",
   "metadata": {},
   "source": [
    "## Cleaning: Dataframe Characteristics"
   ]
  },
  {
   "cell_type": "code",
   "execution_count": 11,
   "metadata": {},
   "outputs": [
    {
     "name": "stdout",
     "output_type": "stream",
     "text": [
      "Dataframe Shape:(61, 118)\n",
      "\n",
      "Column Names by DataType\n",
      "Data Type, object:\n",
      "phases, controller, trigger, stimulus, box, file, track, phase1time, phase1stim, phase2time, phase2stim, phase3time, phase3stim\n",
      "\n",
      "Data Type, float64:\n",
      "all|#Datapoints, all|#Freezes, all|#Triggers, all|#Valid, all|%Valid datapoints, all|Avg. normed x coordinate, all|Avg. speed (?/sec), all|Avg. time per freeze (sec), all|Avg. time per trigger (sec), all|Avg. x coordinate, all|Avg. x speed (?/sec), all|Avg. y coordinate, all|Avg. y speed (?/sec), all|Freeze frequency (per min), all|Total distance traveled (?), all|Total time (sec), all|Total time frozen (sec), all|Total time triggered (sec), all|Trigger frequency (per min), all|Valid time (sec), phase 1|#Datapoints, phase 1|#Freezes, phase 1|#Triggers, phase 1|#Valid, phase 1|%Valid datapoints, phase 1|Avg. normed x coordinate, phase 1|Avg. speed (?/sec), phase 1|Avg. time per freeze (sec), phase 1|Avg. time per trigger (sec), phase 1|Avg. x coordinate, phase 1|Avg. x speed (?/sec), phase 1|Avg. y coordinate, phase 1|Avg. y speed (?/sec), phase 1|Freeze frequency (per min), phase 1|Total distance traveled (?), phase 1|Total time (sec), phase 1|Total time frozen (sec), phase 1|Total time triggered (sec), phase 1|Trigger frequency (per min), phase 1|Valid time (sec), phase 2|#Datapoints, phase 2|#Freezes, phase 2|#Triggers, phase 2|#Valid, phase 2|%Valid datapoints, phase 2|Avg. normed x coordinate, phase 2|Avg. speed (?/sec), phase 2|Avg. time per freeze (sec), phase 2|Avg. time per trigger (sec), phase 2|Avg. x coordinate, phase 2|Avg. x speed (?/sec), phase 2|Avg. y coordinate, phase 2|Avg. y speed (?/sec), phase 2|Freeze frequency (per min), phase 2|Total distance traveled (?), phase 2|Total time (sec), phase 2|Total time frozen (sec), phase 2|Total time triggered (sec), phase 2|Trigger frequency (per min), phase 2|Valid time (sec), phase 3|#Datapoints, phase 3|#Freezes, phase 3|#Triggers, phase 3|#Valid, phase 3|%Valid datapoints, phase 3|Avg. normed x coordinate, phase 3|Avg. speed (?/sec), phase 3|Avg. time per freeze (sec), phase 3|Avg. time per trigger (sec), phase 3|Avg. x coordinate, phase 3|Avg. x speed (?/sec), phase 3|Avg. y coordinate, phase 3|Avg. y speed (?/sec), phase 3|Freeze frequency (per min), phase 3|Total distance traveled (?), phase 3|Total time (sec), phase 3|Total time frozen (sec), phase 3|Total time triggered (sec), phase 3|Trigger frequency (per min), phase 3|Valid time (sec), phase1-tme to 1st trigger frm phs start, phase1-tme to 1st trigger_plus1 frm phs start, phase1-tme to 1st trigger_plus2 frm phs start, phase1-tme to 1st trigger_plus3 frm phs start, phase1-tme to 1st trigger_plus4 frm phs start, phase2-tme to 1st trigger frm phs start, phase2-tme to 1st trigger frm prev trigger, phase2-tme to 1st trigger_plus1 frm phs start, phase2-tme to 1st trigger_plus1 frm prev trigger, phase2-tme to 1st trigger_plus2 frm phs start, phase2-tme to 1st trigger_plus2 frm prev trigger, phase2-tme to 1st trigger_plus3 frm phs start, phase2-tme to 1st trigger_plus3 frm prev trigger, phase2-tme to 1st trigger_plus4 frm phs start, phase2-tme to 1st trigger_plus4 frm prev trigger, phase3-tme to 1st trigger frm phs start, phase3-tme to 1st trigger frm prev trigger, phase3-tme to 1st trigger_plus1 frm phs start, phase3-tme to 1st trigger_plus1 frm prev trigger, phase3-tme to 1st trigger_plus2 frm phs start, phase3-tme to 1st trigger_plus2 frm prev trigger, phase3-tme to 1st trigger_plus3 frm phs start, phase3-tme to 1st trigger_plus3 frm prev trigger, phase3-tme to 1st trigger_plus4 frm phs start, phase3-tme to 1st trigger_plus4 frm prev trigger\n",
      "\n"
     ]
    }
   ],
   "source": [
    "print(f'Dataframe Shape:{df.shape}')\n",
    "print()   \n",
    "\n",
    "print('Column Names by DataType')\n",
    "for dt in df.dtypes.unique():\n",
    "    print(f'Data Type, {dt}:')\n",
    "    print(*list(df.select_dtypes(include=[dt]).columns), sep = ', ')\n",
    "    print()\n",
    "\n",
    "# print('Number of Tracks with Null Data by Column:')  #fix this\n",
    "# print(df[df.isnull().any(axis=1)][df.columns[df.isnull().any()]].count())\n",
    "# print()\n",
    "\n"
   ]
  },
  {
   "cell_type": "markdown",
   "metadata": {},
   "source": [
    "## Cleaning: Early Termination Check\n"
   ]
  },
  {
   "cell_type": "code",
   "execution_count": 12,
   "metadata": {},
   "outputs": [
    {
     "name": "stdout",
     "output_type": "stream",
     "text": [
      "Track Times: Mean 1160.2349475409835, Minimum 15.408500000000002, Maximum 1199.0315, Count 61\n"
     ]
    },
    {
     "data": {
      "text/plain": [
       "<matplotlib.axes._subplots.AxesSubplot at 0x2ac36bff0c18>"
      ]
     },
     "execution_count": 12,
     "metadata": {},
     "output_type": "execute_result"
    },
    {
     "data": {
      "image/png": "[encoded data removed]",
      "text/plain": [
       "<Figure size 432x432 with 1 Axes>"
      ]
     },
     "metadata": {},
     "output_type": "display_data"
    }
   ],
   "source": [
    "print(f'''Track Times: Mean {df['all|Total time (sec)'].mean()}, Minimum {df['all|Total time (sec)'].min()}, Maximum {df['all|Total time (sec)'].max()}, Count {df['all|Total time (sec)'].count()}''')\n",
    "\n",
    "fig, ax = plt.subplots(1, 1, figsize=(6, 6))\n",
    "ax.ticklabel_format(useOffset=False) # prevents appearance of scientific notation on y axis\n",
    "df.boxplot(column='all|Total time (sec)', by='box', ax=ax)"
   ]
  },
  {
   "cell_type": "markdown",
   "metadata": {},
   "source": [
    "## Cleaning: Poor Tracking Check\n"
   ]
  },
  {
   "cell_type": "code",
   "execution_count": 13,
   "metadata": {},
   "outputs": [
    {
     "name": "stdout",
     "output_type": "stream",
     "text": [
      "Valid Datapoints: Mean 0.9755440048521484, Minimum 0.19087725150100066, Maximum 1.0, Count 61\n"
     ]
    },
    {
     "data": {
      "text/plain": [
       "<matplotlib.axes._subplots.AxesSubplot at 0x2ac36e25d940>"
      ]
     },
     "execution_count": 13,
     "metadata": {},
     "output_type": "execute_result"
    },
    {
     "data": {
      "image/png": "[encoded data removed]",
      "text/plain": [
       "<Figure size 432x432 with 1 Axes>"
      ]
     },
     "metadata": {},
     "output_type": "display_data"
    }
   ],
   "source": [
    "print(f'''Valid Datapoints: Mean {df['all|%Valid datapoints'].mean()}, Minimum {df['all|%Valid datapoints'].min()}, Maximum {df['all|%Valid datapoints'].max()}, Count {df['all|%Valid datapoints'].count()}''')\n",
    "\n",
    "fig, ax = plt.subplots(1, 1, figsize=(6, 6))\n",
    "df.boxplot(column='all|%Valid datapoints', by='box', ax=ax)"
   ]
  },
  {
   "cell_type": "markdown",
   "metadata": {},
   "source": [
    "## Cleaning: No Trigger Check\n"
   ]
  },
  {
   "cell_type": "code",
   "execution_count": 14,
   "metadata": {},
   "outputs": [
    {
     "name": "stdout",
     "output_type": "stream",
     "text": [
      "Number of Triggers: Mean 10.310344827586206, Minimum 1.0, Maximum 192.0, Count 61\n"
     ]
    },
    {
     "data": {
      "text/plain": [
       "<matplotlib.axes._subplots.AxesSubplot at 0x2ac36e30c9e8>"
      ]
     },
     "execution_count": 14,
     "metadata": {},
     "output_type": "execute_result"
    },
    {
     "data": {
      "image/png": "[encoded data removed]",
      "text/plain": [
       "<Figure size 432x432 with 1 Axes>"
      ]
     },
     "metadata": {},
     "output_type": "display_data"
    }
   ],
   "source": [
    "print(f'''Number of Triggers: Mean {df['phase 2|#Triggers'].mean()}, Minimum {df['all|#Triggers'].min()}, Maximum {df['all|#Triggers'].max()}, Count {df['all|#Triggers'].count()}''')\n",
    "\n",
    "fig, ax = plt.subplots(1, 1, figsize=(6, 6))\n",
    "df.boxplot(column='phase 2|#Triggers', by='box', ax=ax)"
   ]
  },
  {
   "cell_type": "markdown",
   "metadata": {},
   "source": [
    "## Cleaning: Removing Tracks for Early Termination, Poor Tracking, No Trigger\n"
   ]
  },
  {
   "cell_type": "code",
   "execution_count": 15,
   "metadata": {},
   "outputs": [
    {
     "name": "stdout",
     "output_type": "stream",
     "text": [
      "Raw Track Number: 61\n",
      "Modified Track Number: 59 (following removal of tracks less than 75% the length of the experiment mean)\n",
      "Modified Track Number: 56 (following removal for poor tracking set at less than 0.85% valid datapoints)\n",
      "Modified Track Number: 52 (following removal of tracks with no triggers during the learning)\n"
     ]
    }
   ],
   "source": [
    "print(f'Raw Track Number: {df.shape[0]}')\n",
    "\n",
    "df = df.drop(df[df['all|Total time (sec)'] < (df['all|Total time (sec)'].mean())* .75].index) # drops rows if any data is missing, this will remove early termination tracks\n",
    "print(f'Modified Track Number: {df.shape[0]} (following removal of tracks less than 75% the length of the experiment mean)')\n",
    "\n",
    "df = df.drop(df[df['all|%Valid datapoints'] < acquisitionlevel].index)\n",
    "print(f'Modified Track Number: {df.shape[0]} (following removal for poor tracking set at less than {acquisitionlevel}% valid datapoints)')\n",
    "\n",
    "if notriggerexclude == True:\n",
    "    df = df.drop(df[df['phase 2|#Triggers'] == 0].index) # drops rows if there was no trigger during phase 2; NOTE: fix this so it works if learning phase is not 2\n",
    "    print(f'Modified Track Number: {df.shape[0]} (following removal of tracks with no triggers during the learning)')\n",
    " "
   ]
  },
  {
   "cell_type": "markdown",
   "metadata": {},
   "source": [
    "## Cleaning: Checking Randomization of Trigger Condition"
   ]
  },
  {
   "cell_type": "code",
   "execution_count": 16,
   "metadata": {},
   "outputs": [
    {
     "data": {
      "text/html": [
       "<div>\n",
       "<style scoped>\n",
       "    .dataframe tbody tr th:only-of-type {\n",
       "        vertical-align: middle;\n",
       "    }\n",
       "\n",
       "    .dataframe tbody tr th {\n",
       "        vertical-align: top;\n",
       "    }\n",
       "\n",
       "    .dataframe thead th {\n",
       "        text-align: right;\n",
       "    }\n",
       "</style>\n",
       "<table border=\"1\" class=\"dataframe\">\n",
       "  <thead>\n",
       "    <tr style=\"text-align: right;\">\n",
       "      <th></th>\n",
       "      <th>count</th>\n",
       "      <th>unique</th>\n",
       "      <th>top</th>\n",
       "      <th>freq</th>\n",
       "    </tr>\n",
       "    <tr>\n",
       "      <th>box</th>\n",
       "      <th></th>\n",
       "      <th></th>\n",
       "      <th></th>\n",
       "      <th></th>\n",
       "    </tr>\n",
       "  </thead>\n",
       "  <tbody>\n",
       "    <tr>\n",
       "      <th>bbox1</th>\n",
       "      <td>15</td>\n",
       "      <td>2</td>\n",
       "      <td>xpos &gt; 0.50</td>\n",
       "      <td>8</td>\n",
       "    </tr>\n",
       "    <tr>\n",
       "      <th>bbox2</th>\n",
       "      <td>13</td>\n",
       "      <td>2</td>\n",
       "      <td>xpos &lt; 0.50</td>\n",
       "      <td>7</td>\n",
       "    </tr>\n",
       "    <tr>\n",
       "      <th>bbox3</th>\n",
       "      <td>8</td>\n",
       "      <td>2</td>\n",
       "      <td>xpos &gt; 0.50</td>\n",
       "      <td>5</td>\n",
       "    </tr>\n",
       "    <tr>\n",
       "      <th>bbox4</th>\n",
       "      <td>6</td>\n",
       "      <td>1</td>\n",
       "      <td>xpos &lt; 0.50</td>\n",
       "      <td>6</td>\n",
       "    </tr>\n",
       "    <tr>\n",
       "      <th>bbox5</th>\n",
       "      <td>10</td>\n",
       "      <td>2</td>\n",
       "      <td>xpos &gt; 0.50</td>\n",
       "      <td>7</td>\n",
       "    </tr>\n",
       "  </tbody>\n",
       "</table>\n",
       "</div>"
      ],
      "text/plain": [
       "      count unique          top freq\n",
       "box                                 \n",
       "bbox1    15      2  xpos > 0.50    8\n",
       "bbox2    13      2  xpos < 0.50    7\n",
       "bbox3     8      2  xpos > 0.50    5\n",
       "bbox4     6      1  xpos < 0.50    6\n",
       "bbox5    10      2  xpos > 0.50    7"
      ]
     },
     "execution_count": 16,
     "metadata": {},
     "output_type": "execute_result"
    }
   ],
   "source": [
    "dftrig = df.groupby('box')['trigger'].describe()\n",
    "dftrig"
   ]
  },
  {
   "cell_type": "code",
   "execution_count": 17,
   "metadata": {},
   "outputs": [
    {
     "name": "stdout",
     "output_type": "stream",
     "text": [
      "WARNING: The following boxes had only one trigger condition: ['bbox4']. These boxes removed from trigger analyses below.\n"
     ]
    }
   ],
   "source": [
    "boxlist = df.box.unique().tolist() #creates a list of all boxes in the experiment\n",
    "\n",
    "onetriglist = dftrig.index[dftrig.unique < 2].tolist() # creates a list of boxes with less than 2 trigger conditions\n",
    "\n",
    "boxlist  = [x for x in boxlist if x not in onetriglist] # removes boxes with less than 2 trigger conditions\n",
    "\n",
    "if len(onetriglist) > 0:\n",
    "    print(f'WARNING: The following boxes had only one trigger condition: {onetriglist}. These boxes removed from trigger analyses below.')\n",
    "\n",
    "else:\n",
    "    pass"
   ]
  },
  {
   "cell_type": "code",
   "execution_count": 18,
   "metadata": {},
   "outputs": [
    {
     "name": "stdout",
     "output_type": "stream",
     "text": [
      "Trigger Conditions: ['xpos < 0.50' 'xpos > 0.50']\n",
      "\n",
      "all|Avg. x coordinate\n",
      "   bbox1: Welchs T-Test indicates significant difference by trigger condition, p = 0.00024747642545408353\n",
      "      Trigger Condition 1 Mean: 0.43569297360059644\n",
      "      Trigger Condition 2 Mean: 0.6920929014853393\n",
      "\n",
      "all|Avg. x coordinate\n",
      "   bbox2: Welchs T-Test indicates significant difference by trigger condition, p = 0.0002029443327951502\n",
      "      Trigger Condition 1 Mean: 0.64120703783913\n",
      "      Trigger Condition 2 Mean: 0.3919377237266763\n",
      "\n",
      "phase 2|Avg. x coordinate\n",
      "   bbox5: Welchs T-Test indicates significant difference by trigger condition, p = 4.170130087876906e-05\n",
      "      Trigger Condition 1 Mean: 0.7293638370210188\n",
      "      Trigger Condition 2 Mean: 0.2752628949147006\n",
      "\n",
      "phase 2|Avg. x coordinate\n",
      "   bbox1: Welchs T-Test indicates significant difference by trigger condition, p = 1.4770805728989706e-08\n",
      "      Trigger Condition 1 Mean: 0.2904322437457625\n",
      "      Trigger Condition 2 Mean: 0.7896514808336045\n",
      "\n",
      "phase 2|Avg. x coordinate\n",
      "   bbox2: Welchs T-Test indicates significant difference by trigger condition, p = 1.8160212017251937e-08\n",
      "      Trigger Condition 1 Mean: 0.7455221202831153\n",
      "      Trigger Condition 2 Mean: 0.26757720851561123\n",
      "\n"
     ]
    }
   ],
   "source": [
    "print(f'Trigger Conditions: {df.trigger.unique()}')\n",
    "print()\n",
    "\n",
    "from scipy.stats import ttest_ind\n",
    "\n",
    "# performs welch's t-test (does not assume equal variances) on all floats and prints any that are signficantly different as a function of trigger\n",
    "for i in df.select_dtypes(include=['float64']).columns:\n",
    "    for b in boxlist:\n",
    "        dfbox = df[df.box == b]\n",
    "        ttest_result = ttest_ind(dfbox[dfbox.trigger == dfbox.trigger.unique()[0]][i], dfbox[dfbox.trigger == dfbox.trigger.unique()[1]][i], equal_var=False, nan_policy='omit')\n",
    "\n",
    "        if ttest_result.pvalue < (.05/len(df.select_dtypes(include=['float64']).columns)):\n",
    "            print(i)\n",
    "            print(f'   {b}: Welchs T-Test indicates significant difference by trigger condition, p = {ttest_result.pvalue}')\n",
    "            print(f'      Trigger Condition 1 Mean: {dfbox[dfbox.trigger == dfbox.trigger.unique()[0]][i].mean()}')\n",
    "            print(f'      Trigger Condition 2 Mean: {dfbox[dfbox.trigger == dfbox.trigger.unique()[1]][i].mean()}')\n",
    "            print()"
   ]
  },
  {
   "cell_type": "markdown",
   "metadata": {},
   "source": [
    "## Cleaning: Checking for Box Variations\n",
    "Conducts one-way ANOVAs using box as an independent variable and all floats as dependent variables. Uses a Bonferroni correction.    "
   ]
  },
  {
   "cell_type": "code",
   "execution_count": 31,
   "metadata": {},
   "outputs": [
    {
     "name": "stdout",
     "output_type": "stream",
     "text": [
      "phase3-tme to 1st trigger frm phs start\n",
      "   SIGNIFICANT: One-way ANOVA conducted testing box as significant predictor of phase3-tme to 1st trigger frm phs start. P = 3.806275018506156e-27\n",
      "\n",
      "phase3-tme to 1st trigger_plus1 frm phs start\n",
      "   SIGNIFICANT: One-way ANOVA conducted testing box as significant predictor of phase3-tme to 1st trigger_plus1 frm phs start. P = 5.830196408402104e-27\n",
      "\n",
      "phase3-tme to 1st trigger_plus2 frm phs start\n",
      "   SIGNIFICANT: One-way ANOVA conducted testing box as significant predictor of phase3-tme to 1st trigger_plus2 frm phs start. P = 7.313705616602799e-37\n",
      "\n"
     ]
    },
    {
     "name": "stderr",
     "output_type": "stream",
     "text": [
      "/home/bsheese/atles/notebooks/pingouinparametrics.py:899: RuntimeWarning: divide by zero encountered in double_scalars\n",
      "  fval = msbetween / mserror\n"
     ]
    },
    {
     "name": "stdout",
     "output_type": "stream",
     "text": [
      "phase3-tme to 1st trigger_plus3 frm phs start\n",
      "   SIGNIFICANT: One-way ANOVA conducted testing box as significant predictor of phase3-tme to 1st trigger_plus3 frm phs start. P = 0.0\n",
      "\n",
      "phase3-tme to 1st trigger_plus3 frm prev trigger\n",
      "   SIGNIFICANT: One-way ANOVA conducted testing box as significant predictor of phase3-tme to 1st trigger_plus3 frm prev trigger. P = 0.0\n",
      "\n",
      "phase3-tme to 1st trigger_plus4 frm phs start analysis failed. Check descriptives.\n"
     ]
    },
    {
     "name": "stderr",
     "output_type": "stream",
     "text": [
      "/home/bsheese/atles/notebooks/pingouinparametrics.py:899: RuntimeWarning: invalid value encountered in double_scalars\n",
      "  fval = msbetween / mserror\n",
      "/home/bsheese/atles/notebooks/pingouinparametrics.py:904: RuntimeWarning: invalid value encountered in double_scalars\n",
      "  np2 = ssbetween / (ssbetween + sserror)\n"
     ]
    },
    {
     "name": "stdout",
     "output_type": "stream",
     "text": [
      "phase3-tme to 1st trigger_plus4 frm prev trigger analysis failed. Check descriptives.\n"
     ]
    },
    {
     "data": {
      "image/png": "[encoded data removed]",
      "text/plain": [
       "<Figure size 432x432 with 1 Axes>"
      ]
     },
     "metadata": {},
     "output_type": "display_data"
    },
    {
     "data": {
      "image/png": "[encoded data removed]",
      "text/plain": [
       "<Figure size 432x432 with 1 Axes>"
      ]
     },
     "metadata": {},
     "output_type": "display_data"
    },
    {
     "data": {
      "image/png": "[encoded data removed]",
      "text/plain": [
       "<Figure size 432x432 with 1 Axes>"
      ]
     },
     "metadata": {},
     "output_type": "display_data"
    },
    {
     "data": {
      "image/png": "[encoded data removed]",
      "text/plain": [
       "<Figure size 432x432 with 1 Axes>"
      ]
     },
     "metadata": {},
     "output_type": "display_data"
    },
    {
     "data": {
      "image/png": "[encoded data removed]",
      "text/plain": [
       "<Figure size 432x432 with 1 Axes>"
      ]
     },
     "metadata": {},
     "output_type": "display_data"
    }
   ],
   "source": [
    "def betweensubjectANOVA (dependentvar, betweenfactor, suppress):\n",
    "    try: \n",
    "        anovaresult = pp.anova(dv=dependentvar, between=betweenfactor, data=df, detailed=True, export_filename=None)\n",
    "        pvalue = anovaresult.loc[anovaresult.Source==betweenfactor]['p-unc'].values[0]\n",
    "        \n",
    "        if pvalue >= .05/len(df.select_dtypes(include=['float64']).columns):\n",
    "            if suppress == False:\n",
    "                print(f'{dependentvar}')\n",
    "                print(f'   NOT significant: One-way ANOVA conducted testing {betweenfactor} as significant predictor of {dependentvar}. P = {pvalue}')\n",
    "                print()\n",
    "            else:\n",
    "                pass\n",
    "        else:\n",
    "            print(f'{dependentvar}')\n",
    "            print(f'   SIGNIFICANT: One-way ANOVA conducted testing {betweenfactor} as significant predictor of {dependentvar}. P = {pvalue}')\n",
    "            fig, ax = plt.subplots(1, 1, figsize=(6, 6))\n",
    "            df.boxplot(column=dependentvar, by=betweenfactor, ax=ax)\n",
    "            print()\n",
    "            \n",
    "    except:\n",
    "        print(f'{dependentvar} analysis failed. Check descriptives.')\n",
    "\n",
    "for col in df.select_dtypes(include=['float64']).columns:\n",
    "    betweensubjectANOVA(col,'box', True)"
   ]
  },
  {
   "cell_type": "markdown",
   "metadata": {},
   "source": [
    "## Analysis - Preliminary Vizualizations - X and Y by Box\n"
   ]
  },
  {
   "cell_type": "code",
   "execution_count": 33,
   "metadata": {},
   "outputs": [
    {
     "name": "stderr",
     "output_type": "stream",
     "text": [
      "/share/apps/jhub/lib64/python3.6/site-packages/pandas/plotting/_core.py:2257: UserWarning: When passing multiple axes, sharex and sharey are ignored. These settings must be specified when creating axes\n",
      "  return_type=return_type, **kwds)\n"
     ]
    },
    {
     "data": {
      "text/plain": [
       "array([<matplotlib.axes._subplots.AxesSubplot object at 0x2ac36f2c4a90>,\n",
       "       <matplotlib.axes._subplots.AxesSubplot object at 0x2ac36ebc8438>,\n",
       "       <matplotlib.axes._subplots.AxesSubplot object at 0x2ac36e88c470>],\n",
       "      dtype=object)"
      ]
     },
     "execution_count": 33,
     "metadata": {},
     "output_type": "execute_result"
    },
    {
     "data": {
      "image/png": "[encoded data removed]",
      "text/plain": [
       "<Figure size 1080x432 with 3 Axes>"
      ]
     },
     "metadata": {},
     "output_type": "display_data"
    }
   ],
   "source": [
    "fig, ax = plt.subplots(1, 3, figsize=(15, 6), sharey=True)\n",
    " \n",
    "df.boxplot(column=['phase 1|Avg. normed x coordinate', 'phase 2|Avg. normed x coordinate', 'phase 3|Avg. normed x coordinate'], by='box', ax=ax)"
   ]
  },
  {
   "cell_type": "code",
   "execution_count": 21,
   "metadata": {},
   "outputs": [
    {
     "name": "stderr",
     "output_type": "stream",
     "text": [
      "/share/apps/jhub/lib64/python3.6/site-packages/pandas/plotting/_core.py:2257: UserWarning: When passing multiple axes, sharex and sharey are ignored. These settings must be specified when creating axes\n",
      "  return_type=return_type, **kwds)\n"
     ]
    },
    {
     "data": {
      "text/plain": [
       "array([<matplotlib.axes._subplots.AxesSubplot object at 0x2ac36eff95c0>,\n",
       "       <matplotlib.axes._subplots.AxesSubplot object at 0x2ac36eddb4a8>,\n",
       "       <matplotlib.axes._subplots.AxesSubplot object at 0x2ac36ee029b0>],\n",
       "      dtype=object)"
      ]
     },
     "execution_count": 21,
     "metadata": {},
     "output_type": "execute_result"
    },
    {
     "data": {
      "image/png": "[encoded data removed]",
      "text/plain": [
       "<Figure size 1080x432 with 3 Axes>"
      ]
     },
     "metadata": {},
     "output_type": "display_data"
    }
   ],
   "source": [
    "fig, ax = plt.subplots(1, 3, figsize=(15, 6), sharey=True)\n",
    " \n",
    "df.boxplot(column=['phase 1|Avg. y coordinate', 'phase 2|Avg. y coordinate', 'phase 3|Avg. y coordinate'], by='box', ax=ax)"
   ]
  },
  {
   "cell_type": "markdown",
   "metadata": {},
   "source": [
    "## Analysis - Preliminary Vizualizations - X and Y by Phase\n"
   ]
  },
  {
   "cell_type": "code",
   "execution_count": 22,
   "metadata": {},
   "outputs": [
    {
     "data": {
      "text/plain": [
       "<matplotlib.axes._subplots.AxesSubplot at 0x2ac36f19b048>"
      ]
     },
     "execution_count": 22,
     "metadata": {},
     "output_type": "execute_result"
    },
    {
     "data": {
      "image/png": "[encoded data removed]",
      "text/plain": [
       "<Figure size 1080x432 with 1 Axes>"
      ]
     },
     "metadata": {},
     "output_type": "display_data"
    }
   ],
   "source": [
    "fig, ax = plt.subplots(1, 1, figsize=(15, 6)) \n",
    "df.boxplot(column=['phase 1|Avg. normed x coordinate', 'phase 2|Avg. normed x coordinate', 'phase 3|Avg. normed x coordinate'], ax=ax)"
   ]
  },
  {
   "cell_type": "code",
   "execution_count": 34,
   "metadata": {},
   "outputs": [
    {
     "data": {
      "text/plain": [
       "<matplotlib.axes._subplots.AxesSubplot at 0x2ac36e3fe978>"
      ]
     },
     "execution_count": 34,
     "metadata": {},
     "output_type": "execute_result"
    },
    {
     "data": {
      "image/png": "[encoded data removed]",
      "text/plain": [
       "<Figure size 1080x432 with 1 Axes>"
      ]
     },
     "metadata": {},
     "output_type": "display_data"
    }
   ],
   "source": [
    "fig, ax = plt.subplots(1, 1, figsize=(15, 6)) \n",
    "df.boxplot(column=['phase 1|Avg. y coordinate', 'phase 2|Avg. y coordinate', 'phase 3|Avg. y coordinate'], ax=ax)"
   ]
  },
  {
   "cell_type": "markdown",
   "metadata": {},
   "source": [
    "## Analysis - Preliminary Vizualizations - Heatmaps Per Phase"
   ]
  },
  {
   "cell_type": "code",
   "execution_count": 26,
   "metadata": {},
   "outputs": [
    {
     "data": {
      "image/png": "[encoded data removed]",
      "text/plain": [
       "<Figure size 432x144 with 3 Axes>"
      ]
     },
     "metadata": {},
     "output_type": "display_data"
    }
   ],
   "source": [
    "plotter = TrackPlotter(processor)\n",
    "plotter.plot_heatmap(plot_type='per-phase')"
   ]
  },
  {
   "cell_type": "code",
   "execution_count": 28,
   "metadata": {},
   "outputs": [],
   "source": [
    "# 'phase 1|Avg. normed x coordinate', 'phase 2|Avg. normed x coordinate', 'phase 3|Avg. normed x coordinate'\n",
    "\n",
    "\n",
    "\n",
    "\n",
    "\n",
    "# aov = rm_anova(dv='DV', within='Time', data=df, correction='auto', remove_na=True, detailed=True, export_filename=None)\n",
    "# print_table(aov)"
   ]
  },
  {
   "cell_type": "code",
   "execution_count": 29,
   "metadata": {},
   "outputs": [
    {
     "data": {
      "text/html": [
       "<div>\n",
       "<style scoped>\n",
       "    .dataframe tbody tr th:only-of-type {\n",
       "        vertical-align: middle;\n",
       "    }\n",
       "\n",
       "    .dataframe tbody tr th {\n",
       "        vertical-align: top;\n",
       "    }\n",
       "\n",
       "    .dataframe thead th {\n",
       "        text-align: right;\n",
       "    }\n",
       "</style>\n",
       "<table border=\"1\" class=\"dataframe\">\n",
       "  <thead>\n",
       "    <tr style=\"text-align: right;\">\n",
       "      <th></th>\n",
       "      <th>Source</th>\n",
       "      <th>ddof1</th>\n",
       "      <th>ddof2</th>\n",
       "      <th>F</th>\n",
       "      <th>p-unc</th>\n",
       "      <th>np2</th>\n",
       "    </tr>\n",
       "  </thead>\n",
       "  <tbody>\n",
       "    <tr>\n",
       "      <th>0</th>\n",
       "      <td>phase</td>\n",
       "      <td>2</td>\n",
       "      <td>102</td>\n",
       "      <td>73.964247</td>\n",
       "      <td>1.412552e-20</td>\n",
       "      <td>0.591883</td>\n",
       "    </tr>\n",
       "  </tbody>\n",
       "</table>\n",
       "</div>"
      ],
      "text/plain": [
       "  Source  ddof1  ddof2          F         p-unc       np2\n",
       "0  phase      2    102  73.964247  1.412552e-20  0.591883"
      ]
     },
     "execution_count": 29,
     "metadata": {},
     "output_type": "execute_result"
    }
   ],
   "source": [
    "phasenumcount = 1 \n",
    "dependentvar = 'Avg. normed x coordinate'\n",
    "dfanova = pd.DataFrame()\n",
    "\n",
    "while phasenumcount <= phasenum:\n",
    "    colname = f'phase {str(phasenumcount)}|{dependentvar}'\n",
    "    dftemp = df[[colname]].copy()\n",
    "    dftemp.columns.values[0] = dependentvar\n",
    "    dftemp['phase'] = phasenumcount\n",
    "    dfanova = dfanova.append(dftemp)\n",
    "    \n",
    "    phasenumcount +=1\n",
    "   \n",
    "pp.rm_anova(dv='Avg. normed x coordinate', within='phase', data=dfanova, correction='auto', remove_na=True, detailed=False, export_filename=None)\n"
   ]
  }
 ],
 "metadata": {
  "kernelspec": {
   "display_name": "Python 3",
   "language": "python",
   "name": "python3"
  },
  "language_info": {
   "codemirror_mode": {
    "name": "ipython",
    "version": 3
   },
   "file_extension": ".py",
   "mimetype": "text/x-python",
   "name": "python",
   "nbconvert_exporter": "python",
   "pygments_lexer": "ipython3",
   "version": "3.6.5"
  }
 },
 "nbformat": 4,
 "nbformat_minor": 2
}
