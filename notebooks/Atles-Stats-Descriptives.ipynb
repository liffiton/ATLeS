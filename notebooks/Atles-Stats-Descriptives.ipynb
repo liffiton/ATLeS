{
 "cells": [
  {
   "cell_type": "markdown",
   "metadata": {},
   "source": [
    "# ATLeS - Descriptive Statistics\n",
    "\n",
    "This script is designed to provide a general purpose tool for producing descriptive statistics and visualizations for ATLES data. \n",
    "\n",
    "## Instructions\n",
    "Provide experiment details in the 'Parameters' section below, then execute script to generate stats.\n",
    "\n",
    "## General Information\n",
    "Everytime an experiment is run ATLeS generates three files. \n",
    "1. date-time-experimentname.txt (log of tracking activity/issues)\n",
    "2. date-time-experimentname-setup.txt (details of experimental setup)\n",
    "3. date-time-experimentname-track.csv (track files; raw tracking data)\n",
    "\n",
    "\n",
    "\n"
   ]
  },
  {
   "cell_type": "markdown",
   "metadata": {},
   "source": [
    "# Import Libraries"
   ]
  },
  {
   "cell_type": "code",
   "execution_count": 1,
   "metadata": {},
   "outputs": [],
   "source": [
    "from pathlib import Path\n",
    "import configparser\n",
    "import numpy as np\n",
    "import pandas as pd\n",
    "import seaborn\n",
    "import matplotlib.pyplot as plt\n",
    "\n",
    "# add src/ directory to path to import ATLeS code\n",
    "import os\n",
    "import sys\n",
    "module_path = os.path.abspath(os.path.join('..', 'src'))\n",
    "if module_path not in sys.path:\n",
    "    sys.path.append(module_path)\n",
    "\n",
    "# imported from ATLeS\n",
    "from analysis.process import TrackProcessor\n",
    "from analysis.plot import TrackPlotter\n",
    "\n",
    "# displays plots in notbook output\n",
    "%matplotlib inline "
   ]
  },
  {
   "cell_type": "markdown",
   "metadata": {},
   "source": [
    "## Parameters\n",
    "Input experiment details here"
   ]
  },
  {
   "cell_type": "code",
   "execution_count": 2,
   "metadata": {},
   "outputs": [],
   "source": [
    "experimentname = 'ACTEST2'\n",
    "trackdirectory = '../data'\n",
    "acquisitionlevel = .85  # sets the cut off level of excluding tracks based on poor tracking"
   ]
  },
  {
   "cell_type": "markdown",
   "metadata": {},
   "source": [
    "## Identify the Data Files\n"
   ]
  },
  {
   "cell_type": "code",
   "execution_count": 3,
   "metadata": {},
   "outputs": [
    {
     "name": "stdout",
     "output_type": "stream",
     "text": [
      "61 track files were found with the name ACTEST2\n",
      "61 settings files were found with the name ACTEST2\n",
      "\n"
     ]
    }
   ],
   "source": [
    "# finds track and settingsfiles within the trackdirectory that match the experiment names\n",
    "# and creates lists\n",
    "\n",
    "trackfiles = list(Path(trackdirectory).glob(f'**/*{experimentname}*track.csv'))\n",
    "settingsfiles = list(Path(trackdirectory).glob(f'**/*{experimentname}*setup.txt'))\n",
    "    \n",
    "print(f'{len(trackfiles)} track files were found with the name {experimentname}')\n",
    "print(f'{len(settingsfiles)} settings files were found with the name {experimentname}\\n')\n",
    "\n",
    "if len(trackfiles) != len(settingsfiles):\n",
    "    print('Warning: Mismatched data and settings files.')"
   ]
  },
  {
   "cell_type": "markdown",
   "metadata": {},
   "source": [
    "## Identify and Store Experimental Settings\n",
    "The number of experimental phases varies across experiments. This block identifies the phases used for the current experiment and verfies that all tracks have the same phase information.\n",
    "The settings may vary between tracks within an experiment. This block also identifies the settings for each track and writes them to a dictionary."
   ]
  },
  {
   "cell_type": "code",
   "execution_count": 4,
   "metadata": {},
   "outputs": [
    {
     "data": {
      "text/html": [
       "<div>\n",
       "<style scoped>\n",
       "    .dataframe tbody tr th:only-of-type {\n",
       "        vertical-align: middle;\n",
       "    }\n",
       "\n",
       "    .dataframe tbody tr th {\n",
       "        vertical-align: top;\n",
       "    }\n",
       "\n",
       "    .dataframe thead th {\n",
       "        text-align: right;\n",
       "    }\n",
       "</style>\n",
       "<table border=\"1\" class=\"dataframe\">\n",
       "  <thead>\n",
       "    <tr style=\"text-align: right;\">\n",
       "      <th></th>\n",
       "      <th>phases</th>\n",
       "      <th>controller</th>\n",
       "      <th>trigger</th>\n",
       "      <th>stimulus</th>\n",
       "      <th>box</th>\n",
       "      <th>file</th>\n",
       "      <th>track</th>\n",
       "    </tr>\n",
       "  </thead>\n",
       "  <tbody>\n",
       "    <tr>\n",
       "      <th>20180118-160406-ACTEST2</th>\n",
       "      <td>[5, off, 5, on, 10, off]</td>\n",
       "      <td>controllers.FixedRatioController(response_step=1)</td>\n",
       "      <td>xpos &gt; 0.50</td>\n",
       "      <td>[ac_freq_Hz=20, active_freq_Hz=1, duty_cycle=0...</td>\n",
       "      <td>bbox1</td>\n",
       "      <td>../data/tracks/bbox1/20180118-160406-ACTEST2-s...</td>\n",
       "      <td>20180118-160406-ACTEST2</td>\n",
       "    </tr>\n",
       "    <tr>\n",
       "      <th>20180118-160741-ACTEST2</th>\n",
       "      <td>[5, off, 5, on, 10, off]</td>\n",
       "      <td>controllers.FixedRatioController(response_step=1)</td>\n",
       "      <td>xpos &gt; 0.50</td>\n",
       "      <td>[ac_freq_Hz=20, active_freq_Hz=1, duty_cycle=0...</td>\n",
       "      <td>bbox1</td>\n",
       "      <td>../data/tracks/bbox1/20180118-160741-ACTEST2-s...</td>\n",
       "      <td>20180118-160741-ACTEST2</td>\n",
       "    </tr>\n",
       "    <tr>\n",
       "      <th>20180122-160935-ACTEST2</th>\n",
       "      <td>[5, off, 5, on, 10, off]</td>\n",
       "      <td>controllers.FixedRatioController(response_step=1)</td>\n",
       "      <td>xpos &gt; 0.50</td>\n",
       "      <td>[ac_freq_Hz=20, active_freq_Hz=1, duty_cycle=0...</td>\n",
       "      <td>bbox1</td>\n",
       "      <td>../data/tracks/bbox1/20180122-160935-ACTEST2-s...</td>\n",
       "      <td>20180122-160935-ACTEST2</td>\n",
       "    </tr>\n",
       "  </tbody>\n",
       "</table>\n",
       "</div>"
      ],
      "text/plain": [
       "                                           phases  \\\n",
       "20180118-160406-ACTEST2  [5, off, 5, on, 10, off]   \n",
       "20180118-160741-ACTEST2  [5, off, 5, on, 10, off]   \n",
       "20180122-160935-ACTEST2  [5, off, 5, on, 10, off]   \n",
       "\n",
       "                                                                controller  \\\n",
       "20180118-160406-ACTEST2  controllers.FixedRatioController(response_step=1)   \n",
       "20180118-160741-ACTEST2  controllers.FixedRatioController(response_step=1)   \n",
       "20180122-160935-ACTEST2  controllers.FixedRatioController(response_step=1)   \n",
       "\n",
       "                             trigger  \\\n",
       "20180118-160406-ACTEST2  xpos > 0.50   \n",
       "20180118-160741-ACTEST2  xpos > 0.50   \n",
       "20180122-160935-ACTEST2  xpos > 0.50   \n",
       "\n",
       "                                                                  stimulus  \\\n",
       "20180118-160406-ACTEST2  [ac_freq_Hz=20, active_freq_Hz=1, duty_cycle=0...   \n",
       "20180118-160741-ACTEST2  [ac_freq_Hz=20, active_freq_Hz=1, duty_cycle=0...   \n",
       "20180122-160935-ACTEST2  [ac_freq_Hz=20, active_freq_Hz=1, duty_cycle=0...   \n",
       "\n",
       "                           box  \\\n",
       "20180118-160406-ACTEST2  bbox1   \n",
       "20180118-160741-ACTEST2  bbox1   \n",
       "20180122-160935-ACTEST2  bbox1   \n",
       "\n",
       "                                                                      file  \\\n",
       "20180118-160406-ACTEST2  ../data/tracks/bbox1/20180118-160406-ACTEST2-s...   \n",
       "20180118-160741-ACTEST2  ../data/tracks/bbox1/20180118-160741-ACTEST2-s...   \n",
       "20180122-160935-ACTEST2  ../data/tracks/bbox1/20180122-160935-ACTEST2-s...   \n",
       "\n",
       "                                           track  \n",
       "20180118-160406-ACTEST2  20180118-160406-ACTEST2  \n",
       "20180118-160741-ACTEST2  20180118-160741-ACTEST2  \n",
       "20180122-160935-ACTEST2  20180122-160935-ACTEST2  "
      ]
     },
     "execution_count": 4,
     "metadata": {},
     "output_type": "execute_result"
    }
   ],
   "source": [
    "Config = configparser.ConfigParser()\n",
    "\n",
    "settingsdic ={} #used to store results of this block\n",
    "phaselist = [] #used later to verify phases are consistent across tracks\n",
    "\n",
    "\n",
    "# reads and organizes information from each settings file\n",
    "for file in settingsfiles:\n",
    "    Config.read(file)\n",
    "    \n",
    "    # generate clean list of stimuli\n",
    "    stiminfo = Config.get('experiment', 'stimulus') #gets stim info\n",
    "    stiminfo = stiminfo.replace('(', ',').replace(')', '').replace(' ', '').split(',')[1:] #cleans phase list\n",
    "    \n",
    "    # generate clean list of phases\n",
    "    phaselisttemp = Config.get('phases', 'phases_argstrings') # gets phase info\n",
    "    phaselisttemp = phaselisttemp.replace('-p ', '').replace(' ', '').split(',')[:-1] #cleans phase list\n",
    "\n",
    "    # compare each phase list with the list from the previous settings file\n",
    "    if len(phaselist) == 0:\n",
    "        phaselist = phaselisttemp\n",
    "    elif phaselist != phaselisttemp:\n",
    "        print('Warning: Inconsistent phases between settings files.')\n",
    "    else:\n",
    "        pass\n",
    "\n",
    "    # counts phases and generates phase variable names\n",
    "    phasenumber = len(phaselist)//2\n",
    "    phasenames = []\n",
    "    for i in range(phasenumber):\n",
    "        p, t, s = 'phase', 'time', 'stim'\n",
    "        phase = p+str(i+1)\n",
    "        phasetime = phase + t\n",
    "        phasestim = phase + s\n",
    "        phasenames.extend((phasetime, phasestim))\n",
    "\n",
    "    # gets settings info from file name (track/box)\n",
    "    trackname = file.parts[-1].replace(\"-setup.txt\", \"\")\n",
    "    box = file.parts[-2]\n",
    "\n",
    "    # gets settings info from setting file\n",
    "    controller = Config.get('experiment', 'controller')\n",
    "    trigger = Config.get('experiment', 'trigger')\n",
    "\n",
    "    settings = [phaselisttemp, controller, trigger, stiminfo, box, str(file)]\n",
    "    \n",
    "    # puts all settings in dic keyed to trackname\n",
    "    settingsdic[trackname] = settings\n",
    "\n",
    "# creates settings dataframe from settingsdic\n",
    "dfsettings = pd.DataFrame(settingsdic).transpose()\n",
    "dfsettings.columns = ['phases', 'controller', 'trigger', 'stimulus', 'box', 'file']\n",
    "dfsettings['track'] = dfsettings.index\n",
    "\n",
    "# creates stimulus dataframe splits up and names stims\n",
    "dfstim = pd.DataFrame(dfsettings.stimulus.values.tolist(), index=dfsettings.index).fillna('-')\n",
    "\n",
    "for col in range(dfstim.shape[1]):\n",
    "    dfstim=dfstim.rename(columns = {col:('stim_setting' + str(col))})\n",
    "\n",
    "\n",
    "dfsettings.head(3)"
   ]
  },
  {
   "cell_type": "markdown",
   "metadata": {},
   "source": [
    "## Identify Phasetimes and Create Phase Dataframe"
   ]
  },
  {
   "cell_type": "code",
   "execution_count": 5,
   "metadata": {},
   "outputs": [
    {
     "data": {
      "text/html": [
       "<div>\n",
       "<style scoped>\n",
       "    .dataframe tbody tr th:only-of-type {\n",
       "        vertical-align: middle;\n",
       "    }\n",
       "\n",
       "    .dataframe tbody tr th {\n",
       "        vertical-align: top;\n",
       "    }\n",
       "\n",
       "    .dataframe thead th {\n",
       "        text-align: right;\n",
       "    }\n",
       "</style>\n",
       "<table border=\"1\" class=\"dataframe\">\n",
       "  <thead>\n",
       "    <tr style=\"text-align: right;\">\n",
       "      <th></th>\n",
       "      <th>phase1time</th>\n",
       "      <th>phase1stim</th>\n",
       "      <th>phase2time</th>\n",
       "      <th>phase2stim</th>\n",
       "      <th>phase3time</th>\n",
       "      <th>phase3stim</th>\n",
       "    </tr>\n",
       "  </thead>\n",
       "  <tbody>\n",
       "    <tr>\n",
       "      <th>20180118-160406-ACTEST2</th>\n",
       "      <td>5</td>\n",
       "      <td>off</td>\n",
       "      <td>5</td>\n",
       "      <td>on</td>\n",
       "      <td>10</td>\n",
       "      <td>off</td>\n",
       "    </tr>\n",
       "    <tr>\n",
       "      <th>20180118-160741-ACTEST2</th>\n",
       "      <td>5</td>\n",
       "      <td>off</td>\n",
       "      <td>5</td>\n",
       "      <td>on</td>\n",
       "      <td>10</td>\n",
       "      <td>off</td>\n",
       "    </tr>\n",
       "    <tr>\n",
       "      <th>20180122-160935-ACTEST2</th>\n",
       "      <td>5</td>\n",
       "      <td>off</td>\n",
       "      <td>5</td>\n",
       "      <td>on</td>\n",
       "      <td>10</td>\n",
       "      <td>off</td>\n",
       "    </tr>\n",
       "  </tbody>\n",
       "</table>\n",
       "</div>"
      ],
      "text/plain": [
       "                        phase1time phase1stim phase2time phase2stim  \\\n",
       "20180118-160406-ACTEST2          5        off          5         on   \n",
       "20180118-160741-ACTEST2          5        off          5         on   \n",
       "20180122-160935-ACTEST2          5        off          5         on   \n",
       "\n",
       "                        phase3time phase3stim  \n",
       "20180118-160406-ACTEST2         10        off  \n",
       "20180118-160741-ACTEST2         10        off  \n",
       "20180122-160935-ACTEST2         10        off  "
      ]
     },
     "execution_count": 5,
     "metadata": {},
     "output_type": "execute_result"
    }
   ],
   "source": [
    "# Identify Phasetimes: extract phase info from settings w. trackname and calc phasetimes\n",
    "# this currently assummes all phase time are the same across tracks\n",
    "phaseinfo = settingsdic.get(trackname)[0]\n",
    "phaseinfo = [x for x in phaseinfo if any(c.isdigit() for c in x)]\n",
    "phaseinfo = list(map(int, phaseinfo))\n",
    "phaseinfo = [i * 60 for i in phaseinfo]\n",
    "phaselen = len(phaseinfo)\n",
    "\n",
    "phaset = []\n",
    "for i in range(phaselen):\n",
    "    times = sum(phaseinfo[0:i+1])\n",
    "    phaset.append(times)\n",
    "\n",
    "a = 0\n",
    "phaset[0:0] = [a]\n",
    "\n",
    "phasedic = {}\n",
    "for i in range(phaselen):\n",
    "    phasedic[i+1] = [phaset[i], phaset[i+1]]\n",
    "\n",
    "\n",
    "# splits up and names the phases\n",
    "dfphase = pd.DataFrame(dfsettings.phases.values.tolist(), index=dfsettings.index).fillna('-')\n",
    "dfphase.columns = phasenames\n",
    "\n",
    "phasenum = len(dfphase.columns)//2 # figure out what this is for.... \n",
    "\n",
    "dfphase.head(3)\n"
   ]
  },
  {
   "cell_type": "code",
   "execution_count": 6,
   "metadata": {},
   "outputs": [
    {
     "data": {
      "text/plain": [
       "'xpos > 0.50'"
      ]
     },
     "execution_count": 6,
     "metadata": {},
     "output_type": "execute_result"
    }
   ],
   "source": [
    "dfsettings.loc[\"20180118-160406-ACTEST2\"].trigger"
   ]
  },
  {
   "cell_type": "markdown",
   "metadata": {},
   "source": [
    "## Function: Basic Descriptive Statistics for Tracks, Split by Phases\n",
    "This is a function that produces basic statistics for each track. Function is reused to generate stats overall and stats for each phase. "
   ]
  },
  {
   "cell_type": "code",
   "execution_count": 7,
   "metadata": {},
   "outputs": [],
   "source": [
    "def get_basicstats(trackfilelist, settingsdic):\n",
    "\n",
    "    # creates dictionary for storing stats, adds stats from individual tracks\n",
    "    statsdic = {}\n",
    "    for track in trackfilelist:\n",
    "        # gets track from file name\n",
    "        trackname = track.parts[-1]\n",
    "        trackname = trackname.replace(\"-track.csv\", \"\")\n",
    "\n",
    "        # creates phasetime cutoffs to reduce df to phase selection\n",
    "        phasetimes = phasedic    #to do: clean this up\n",
    "\n",
    "        if phase == 0:\n",
    "            ptimemin = min(min(phasetimes.values()))\n",
    "            ptimemax = max(max(phasetimes.values()))\n",
    "            pprefix = 'all_'\n",
    "        else:\n",
    "            ptimemin = phasetimes[phase][0]\n",
    "            ptimemax = phasetimes[phase][1]\n",
    "            pprefix = 'p{0}_'.format(phase)\n",
    "\n",
    "        # creates dataframe from track\n",
    "        trackdf = pd.read_csv(track, sep=\",\", quotechar='\"', header=None)\n",
    "        trackdf.columns = ['time', 'acquired', 'x', 'y', 'unknown1', 'unknown2', 'unknown3']\n",
    "        \n",
    "        if dfsettings.loc[trackname].trigger == 'xpos > 0.50': \n",
    "            trackdf['x'] = abs(trackdf['x'] - 1)\n",
    "        \n",
    "        # calculate some basic stats before the slice\n",
    "        trackdf['xdif'] = trackdf['x'].diff().fillna(0).abs()\n",
    "        trackdf['ydif'] = trackdf['y'].diff().fillna(0).abs()\n",
    "        trackdf['xydif'] = trackdf['xdif'] + trackdf['ydif']\n",
    "        trackdf['timedif'] = trackdf['time'].diff().fillna(0).abs()\n",
    "        trackdf['speed'] = trackdf['xydif'] / trackdf['timedif']\n",
    "\n",
    "        # slices df by phase\n",
    "        trackdf = trackdf[trackdf['time'].between(ptimemin, ptimemax, inclusive=True)]\n",
    "\n",
    "        # calculate basic stats\n",
    "        timemax = trackdf.time.max()\n",
    "        timemin = trackdf.time.min()\n",
    "        \n",
    "        acquiredmissinglost = trackdf['acquired'].value_counts(normalize=True, dropna=True)\n",
    "        acquired = acquiredmissinglost.get('acquired', default=0)\n",
    "        \n",
    "        xmax = trackdf['x'].max()\n",
    "        xmin = trackdf['x'].min()\n",
    "        xavg = trackdf['x'].mean()\n",
    "        xstd = trackdf['x'].std()\n",
    "        xdifavg = trackdf['xdif'].mean()\n",
    "        \n",
    "        ymax = trackdf['y'].max()\n",
    "        ymin = trackdf['y'].min()\n",
    "        yavg = trackdf['y'].mean()\n",
    "        ystd = trackdf['y'].std()\n",
    "        ydifavg = trackdf['ydif'].mean()\n",
    "        \n",
    "        xydifavg = trackdf['xydif'].mean()\n",
    "        speedavg = trackdf['speed'].mean()\n",
    "\n",
    "        # create list of stats and list of statsnames\n",
    "        bsvarlist = [timemax, timemin, acquired,\n",
    "                     xmax, xmin, xavg, xdifavg, xstd,\n",
    "                     ymax, ymin, yavg, ydifavg, ystd,\n",
    "                     xydifavg, speedavg]\n",
    "        bsvarnames = ['timemax', 'timemin', 'acquired',\n",
    "                      'xmax', 'xmin', 'xavg', 'xdifavg', 'xstd',\n",
    "                      'ymax', 'ymin', 'yavg', 'ydifavg', 'ystd',\n",
    "                      'xydifavg', 'speedavg']\n",
    "\n",
    "        # puts all settings in dic keyed to trackname\n",
    "        statsdic[trackname] = bsvarlist\n",
    "\n",
    "    # creates and names the settings dataframes from statsdic\n",
    "    dfbasicstats = pd.DataFrame(statsdic).transpose()\n",
    "    dfbasicstats.columns = bsvarnames\n",
    "    dfbasicstats = dfbasicstats.add_prefix(pprefix)\n",
    "    return dfbasicstats\n",
    "\n",
    "\n"
   ]
  },
  {
   "cell_type": "markdown",
   "metadata": {},
   "source": [
    "## Combine Dataframes\n",
    "Combines settings, stim, phase, and with aa dataframe of basic descriptive stats\n"
   ]
  },
  {
   "cell_type": "code",
   "execution_count": 8,
   "metadata": {},
   "outputs": [
    {
     "name": "stdout",
     "output_type": "stream",
     "text": [
      "Phase 0 processing...\n",
      "Phase 1 processing...\n",
      "Phase 2 processing...\n",
      "Phase 3 processing...\n",
      "Processing complete.\n"
     ]
    }
   ],
   "source": [
    "df = dfsettings.join(dfphase).join(dfstim)  # joins settings, stim, and phase dataframes\n",
    "df = df.drop(['phases', 'stimulus'], axis=1)  # drops unnecessary columns\n",
    "\n",
    "# calculate basic descriptive stats for each track. Does this for each phase and for all phases combined (all)\n",
    "for phase in range(phasenum + 1):\n",
    "    print('Phase {0} processing...'.format(phase))\n",
    "    dfstats = get_basicstats(trackfiles, settingsdic)\n",
    "    df = df.join(dfstats)\n",
    "\n",
    "print('Processing complete.')"
   ]
  },
  {
   "cell_type": "markdown",
   "metadata": {},
   "source": [
    "## Cleaning: Dataframe Characteristics"
   ]
  },
  {
   "cell_type": "code",
   "execution_count": 9,
   "metadata": {},
   "outputs": [
    {
     "name": "stdout",
     "output_type": "stream",
     "text": [
      "Dataframe Shape:(61, 75)\n",
      "\n",
      "Column Names:\n",
      "controller, trigger, box, file, track, phase1time, phase1stim, phase2time, phase2stim, phase3time, phase3stim, stim_setting0, stim_setting1, stim_setting2, stim_setting3, all_timemax, all_timemin, all_acquired, all_xmax, all_xmin, all_xavg, all_xdifavg, all_xstd, all_ymax, all_ymin, all_yavg, all_ydifavg, all_ystd, all_xydifavg, all_speedavg, p1_timemax, p1_timemin, p1_acquired, p1_xmax, p1_xmin, p1_xavg, p1_xdifavg, p1_xstd, p1_ymax, p1_ymin, p1_yavg, p1_ydifavg, p1_ystd, p1_xydifavg, p1_speedavg, p2_timemax, p2_timemin, p2_acquired, p2_xmax, p2_xmin, p2_xavg, p2_xdifavg, p2_xstd, p2_ymax, p2_ymin, p2_yavg, p2_ydifavg, p2_ystd, p2_xydifavg, p2_speedavg, p3_timemax, p3_timemin, p3_acquired, p3_xmax, p3_xmin, p3_xavg, p3_xdifavg, p3_xstd, p3_ymax, p3_ymin, p3_yavg, p3_ydifavg, p3_ystd, p3_xydifavg, p3_speedavg\n",
      "\n",
      "Tracks with missing data (first five only):\n",
      "                         p2_timemax  p2_timemin  p2_xmax  p2_xmin  p2_xavg  \\\n",
      "20180118-160406-ACTEST2         NaN         NaN      NaN      NaN      NaN   \n",
      "20180118-160741-ACTEST2         NaN         NaN      NaN      NaN      NaN   \n",
      "\n",
      "                         p2_xdifavg  p2_xstd  p2_ymax  p2_ymin  p2_yavg  \\\n",
      "20180118-160406-ACTEST2         NaN      NaN      NaN      NaN      NaN   \n",
      "20180118-160741-ACTEST2         NaN      NaN      NaN      NaN      NaN   \n",
      "\n",
      "                            ...       p3_xavg  p3_xdifavg  p3_xstd  p3_ymax  \\\n",
      "20180118-160406-ACTEST2     ...           NaN         NaN      NaN      NaN   \n",
      "20180118-160741-ACTEST2     ...           NaN         NaN      NaN      NaN   \n",
      "\n",
      "                         p3_ymin  p3_yavg  p3_ydifavg  p3_ystd  p3_xydifavg  \\\n",
      "20180118-160406-ACTEST2      NaN      NaN         NaN      NaN          NaN   \n",
      "20180118-160741-ACTEST2      NaN      NaN         NaN      NaN          NaN   \n",
      "\n",
      "                         p3_speedavg  \n",
      "20180118-160406-ACTEST2          NaN  \n",
      "20180118-160741-ACTEST2          NaN  \n",
      "\n",
      "[2 rows x 28 columns]\n",
      "\n",
      "Data Type, object:\n",
      "controller, trigger, box, file, track, phase1time, phase1stim, phase2time, phase2stim, phase3time, phase3stim, stim_setting0, stim_setting1, stim_setting2, stim_setting3\n",
      "\n",
      "Data Type, float64:\n",
      "all_timemax, all_timemin, all_acquired, all_xmax, all_xmin, all_xavg, all_xdifavg, all_xstd, all_ymax, all_ymin, all_yavg, all_ydifavg, all_ystd, all_xydifavg, all_speedavg, p1_timemax, p1_timemin, p1_acquired, p1_xmax, p1_xmin, p1_xavg, p1_xdifavg, p1_xstd, p1_ymax, p1_ymin, p1_yavg, p1_ydifavg, p1_ystd, p1_xydifavg, p1_speedavg, p2_timemax, p2_timemin, p2_acquired, p2_xmax, p2_xmin, p2_xavg, p2_xdifavg, p2_xstd, p2_ymax, p2_ymin, p2_yavg, p2_ydifavg, p2_ystd, p2_xydifavg, p2_speedavg, p3_timemax, p3_timemin, p3_acquired, p3_xmax, p3_xmin, p3_xavg, p3_xdifavg, p3_xstd, p3_ymax, p3_ymin, p3_yavg, p3_ydifavg, p3_ystd, p3_xydifavg, p3_speedavg\n",
      "\n"
     ]
    }
   ],
   "source": [
    "df.dropna(axis=0, how='all', inplace=True) # drops any rows where all values are missing\n",
    "\n",
    "print(f'Dataframe Shape:{df.shape}')\n",
    "print()      \n",
    "\n",
    "print('Column Names:')\n",
    "print(*list(df.columns.values), sep = ', ')\n",
    "print()\n",
    "\n",
    "print('Tracks with missing data (first five only):')\n",
    "print(df[df.isnull().any(axis=1)][df.columns[df.isnull().any()]].head(5))\n",
    "print()\n",
    "\n",
    "for dt in df.dtypes.unique():\n",
    "    print(f'Data Type, {dt}:')\n",
    "    print(*list(df.select_dtypes(include=[dt]).columns), sep = ', ')\n",
    "    print()"
   ]
  },
  {
   "cell_type": "markdown",
   "metadata": {},
   "source": [
    "## Cleaning: Identifying Tracks that Terminated Early or had Poor Tracking\n"
   ]
  },
  {
   "cell_type": "code",
   "execution_count": 10,
   "metadata": {},
   "outputs": [
    {
     "name": "stdout",
     "output_type": "stream",
     "text": [
      "Track Times: Mean 1160.1375557377046, Minimum 15.408500000000002, Maximum 1198.9441, Count 61\n",
      "Acquired: Mean 0.9781961528912654, Minimum 0.19181052456008674, Maximum 1.0, Count 61\n"
     ]
    },
    {
     "data": {
      "text/html": [
       "<div>\n",
       "<style scoped>\n",
       "    .dataframe tbody tr th:only-of-type {\n",
       "        vertical-align: middle;\n",
       "    }\n",
       "\n",
       "    .dataframe tbody tr th {\n",
       "        vertical-align: top;\n",
       "    }\n",
       "\n",
       "    .dataframe thead th {\n",
       "        text-align: right;\n",
       "    }\n",
       "</style>\n",
       "<table border=\"1\" class=\"dataframe\">\n",
       "  <thead>\n",
       "    <tr style=\"text-align: right;\">\n",
       "      <th></th>\n",
       "      <th>count</th>\n",
       "      <th>mean</th>\n",
       "      <th>std</th>\n",
       "      <th>min</th>\n",
       "      <th>25%</th>\n",
       "      <th>50%</th>\n",
       "      <th>75%</th>\n",
       "      <th>max</th>\n",
       "    </tr>\n",
       "    <tr>\n",
       "      <th>box</th>\n",
       "      <th></th>\n",
       "      <th></th>\n",
       "      <th></th>\n",
       "      <th></th>\n",
       "      <th></th>\n",
       "      <th></th>\n",
       "      <th></th>\n",
       "      <th></th>\n",
       "    </tr>\n",
       "  </thead>\n",
       "  <tbody>\n",
       "    <tr>\n",
       "      <th>bbox1</th>\n",
       "      <td>18.0</td>\n",
       "      <td>0.998666</td>\n",
       "      <td>0.001056</td>\n",
       "      <td>0.995830</td>\n",
       "      <td>0.998248</td>\n",
       "      <td>0.998749</td>\n",
       "      <td>0.999312</td>\n",
       "      <td>1.000000</td>\n",
       "    </tr>\n",
       "    <tr>\n",
       "      <th>bbox2</th>\n",
       "      <td>15.0</td>\n",
       "      <td>0.995819</td>\n",
       "      <td>0.007598</td>\n",
       "      <td>0.972896</td>\n",
       "      <td>0.996789</td>\n",
       "      <td>0.999249</td>\n",
       "      <td>0.999583</td>\n",
       "      <td>1.000000</td>\n",
       "    </tr>\n",
       "    <tr>\n",
       "      <th>bbox3</th>\n",
       "      <td>8.0</td>\n",
       "      <td>0.996299</td>\n",
       "      <td>0.006350</td>\n",
       "      <td>0.982070</td>\n",
       "      <td>0.997372</td>\n",
       "      <td>0.999291</td>\n",
       "      <td>0.999500</td>\n",
       "      <td>0.999750</td>\n",
       "    </tr>\n",
       "    <tr>\n",
       "      <th>bbox4</th>\n",
       "      <td>6.0</td>\n",
       "      <td>0.996914</td>\n",
       "      <td>0.002773</td>\n",
       "      <td>0.994079</td>\n",
       "      <td>0.994431</td>\n",
       "      <td>0.996747</td>\n",
       "      <td>0.999374</td>\n",
       "      <td>1.000000</td>\n",
       "    </tr>\n",
       "    <tr>\n",
       "      <th>bbox5</th>\n",
       "      <td>14.0</td>\n",
       "      <td>0.914631</td>\n",
       "      <td>0.215640</td>\n",
       "      <td>0.191811</td>\n",
       "      <td>0.958177</td>\n",
       "      <td>0.998499</td>\n",
       "      <td>0.999333</td>\n",
       "      <td>0.999917</td>\n",
       "    </tr>\n",
       "  </tbody>\n",
       "</table>\n",
       "</div>"
      ],
      "text/plain": [
       "       count      mean       std       min       25%       50%       75%  \\\n",
       "box                                                                        \n",
       "bbox1   18.0  0.998666  0.001056  0.995830  0.998248  0.998749  0.999312   \n",
       "bbox2   15.0  0.995819  0.007598  0.972896  0.996789  0.999249  0.999583   \n",
       "bbox3    8.0  0.996299  0.006350  0.982070  0.997372  0.999291  0.999500   \n",
       "bbox4    6.0  0.996914  0.002773  0.994079  0.994431  0.996747  0.999374   \n",
       "bbox5   14.0  0.914631  0.215640  0.191811  0.958177  0.998499  0.999333   \n",
       "\n",
       "            max  \n",
       "box              \n",
       "bbox1  1.000000  \n",
       "bbox2  1.000000  \n",
       "bbox3  0.999750  \n",
       "bbox4  1.000000  \n",
       "bbox5  0.999917  "
      ]
     },
     "execution_count": 10,
     "metadata": {},
     "output_type": "execute_result"
    },
    {
     "data": {
      "image/png": "[encoded data removed]",
      "text/plain": [
       "<Figure size 432x288 with 1 Axes>"
      ]
     },
     "metadata": {},
     "output_type": "display_data"
    }
   ],
   "source": [
    "df['all_totaltime'] = df['all_timemax'] - df['all_timemin']\n",
    "print(f'Track Times: Mean {df.all_totaltime.mean()}, Minimum {df.all_totaltime.min()}, Maximum {df.all_totaltime.max()}, Count {df.all_totaltime.count()}')\n",
    "print(f'Acquired: Mean {df.all_acquired.mean()}, Minimum {df.all_acquired.min()}, Maximum {df.all_acquired.max()}, Count {df.all_acquired.count()}')\n",
    "\n",
    "df.all_acquired.plot()\n",
    "\n",
    "df['all_acquired'].groupby(df.box).describe()"
   ]
  },
  {
   "cell_type": "markdown",
   "metadata": {},
   "source": [
    "## Cleaning: Removing Tracks that Terminated Early or had Poor Tracking\n",
    "Need to work on something a bit less indiscriminate for initial removal."
   ]
  },
  {
   "cell_type": "code",
   "execution_count": 11,
   "metadata": {},
   "outputs": [
    {
     "name": "stdout",
     "output_type": "stream",
     "text": [
      "Raw Track Number: 61\n",
      "Modified Track Number: 59 (following removal for early termination of experiment)\n",
      "Modified Track Number: 56 (following removal for poor tracking set at less than 0.85% acquired)\n"
     ]
    },
    {
     "data": {
      "text/html": [
       "<div>\n",
       "<style scoped>\n",
       "    .dataframe tbody tr th:only-of-type {\n",
       "        vertical-align: middle;\n",
       "    }\n",
       "\n",
       "    .dataframe tbody tr th {\n",
       "        vertical-align: top;\n",
       "    }\n",
       "\n",
       "    .dataframe thead th {\n",
       "        text-align: right;\n",
       "    }\n",
       "</style>\n",
       "<table border=\"1\" class=\"dataframe\">\n",
       "  <thead>\n",
       "    <tr style=\"text-align: right;\">\n",
       "      <th></th>\n",
       "      <th>count</th>\n",
       "      <th>mean</th>\n",
       "      <th>std</th>\n",
       "      <th>min</th>\n",
       "      <th>25%</th>\n",
       "      <th>50%</th>\n",
       "      <th>75%</th>\n",
       "      <th>max</th>\n",
       "    </tr>\n",
       "    <tr>\n",
       "      <th>box</th>\n",
       "      <th></th>\n",
       "      <th></th>\n",
       "      <th></th>\n",
       "      <th></th>\n",
       "      <th></th>\n",
       "      <th></th>\n",
       "      <th></th>\n",
       "      <th></th>\n",
       "    </tr>\n",
       "  </thead>\n",
       "  <tbody>\n",
       "    <tr>\n",
       "      <th>bbox1</th>\n",
       "      <td>16.0</td>\n",
       "      <td>0.998499</td>\n",
       "      <td>0.000999</td>\n",
       "      <td>0.995830</td>\n",
       "      <td>0.998144</td>\n",
       "      <td>0.998582</td>\n",
       "      <td>0.999187</td>\n",
       "      <td>0.999833</td>\n",
       "    </tr>\n",
       "    <tr>\n",
       "      <th>bbox2</th>\n",
       "      <td>15.0</td>\n",
       "      <td>0.995819</td>\n",
       "      <td>0.007598</td>\n",
       "      <td>0.972896</td>\n",
       "      <td>0.996789</td>\n",
       "      <td>0.999249</td>\n",
       "      <td>0.999583</td>\n",
       "      <td>1.000000</td>\n",
       "    </tr>\n",
       "    <tr>\n",
       "      <th>bbox3</th>\n",
       "      <td>8.0</td>\n",
       "      <td>0.996299</td>\n",
       "      <td>0.006350</td>\n",
       "      <td>0.982070</td>\n",
       "      <td>0.997372</td>\n",
       "      <td>0.999291</td>\n",
       "      <td>0.999500</td>\n",
       "      <td>0.999750</td>\n",
       "    </tr>\n",
       "    <tr>\n",
       "      <th>bbox4</th>\n",
       "      <td>6.0</td>\n",
       "      <td>0.996914</td>\n",
       "      <td>0.002773</td>\n",
       "      <td>0.994079</td>\n",
       "      <td>0.994431</td>\n",
       "      <td>0.996747</td>\n",
       "      <td>0.999374</td>\n",
       "      <td>1.000000</td>\n",
       "    </tr>\n",
       "    <tr>\n",
       "      <th>bbox5</th>\n",
       "      <td>11.0</td>\n",
       "      <td>0.993685</td>\n",
       "      <td>0.015697</td>\n",
       "      <td>0.946793</td>\n",
       "      <td>0.997998</td>\n",
       "      <td>0.998999</td>\n",
       "      <td>0.999500</td>\n",
       "      <td>0.999917</td>\n",
       "    </tr>\n",
       "  </tbody>\n",
       "</table>\n",
       "</div>"
      ],
      "text/plain": [
       "       count      mean       std       min       25%       50%       75%  \\\n",
       "box                                                                        \n",
       "bbox1   16.0  0.998499  0.000999  0.995830  0.998144  0.998582  0.999187   \n",
       "bbox2   15.0  0.995819  0.007598  0.972896  0.996789  0.999249  0.999583   \n",
       "bbox3    8.0  0.996299  0.006350  0.982070  0.997372  0.999291  0.999500   \n",
       "bbox4    6.0  0.996914  0.002773  0.994079  0.994431  0.996747  0.999374   \n",
       "bbox5   11.0  0.993685  0.015697  0.946793  0.997998  0.998999  0.999500   \n",
       "\n",
       "            max  \n",
       "box              \n",
       "bbox1  0.999833  \n",
       "bbox2  1.000000  \n",
       "bbox3  0.999750  \n",
       "bbox4  1.000000  \n",
       "bbox5  0.999917  "
      ]
     },
     "execution_count": 11,
     "metadata": {},
     "output_type": "execute_result"
    }
   ],
   "source": [
    "print(f'Raw Track Number: {df.shape[0]}')\n",
    "df.dropna(axis=0, how='any', inplace=True) # drops rows if any data is missing, this will remove early termination tracks\n",
    "print(f'Modified Track Number: {df.shape[0]} (following removal for early termination of experiment)')\n",
    "df = df.drop(df[df.all_acquired < acquisitionlevel].index)\n",
    "print(f'Modified Track Number: {df.shape[0]} (following removal for poor tracking set at less than {acquisitionlevel}% acquired)')\n",
    "\n",
    "df['all_acquired'].groupby(df.box).describe()"
   ]
  },
  {
   "cell_type": "markdown",
   "metadata": {},
   "source": [
    "## Cleaning: Checking Randomization of Trigger Condition"
   ]
  },
  {
   "cell_type": "code",
   "execution_count": 12,
   "metadata": {},
   "outputs": [
    {
     "name": "stdout",
     "output_type": "stream",
     "text": [
      "Trigger Conditions: ['xpos > 0.50' 'xpos < 0.50']\n",
      "\n",
      "Welchs T-Test shows p1_acquired is significantly different as a function of trigger condition, p = 0.026143560853914154\n",
      "p1_acquired Trigger Condition 1 Mean: 0.9996307026852724\n",
      "p1_acquired Trigger Condition 2 Mean: 0.9978817868608916\n",
      "\n"
     ]
    }
   ],
   "source": [
    "print(f'Trigger Conditions: {df.trigger.unique()}')\n",
    "print()\n",
    "\n",
    "from scipy.stats import ttest_ind\n",
    "\n",
    "# performs welch's t-test (does not assume equal variances) on all floats and prints any that are signficantly different as a function of trigger\n",
    "for i in df.select_dtypes(include=['float64']).columns:\n",
    "    ttest_result = ttest_ind(df[df.trigger == df.trigger.unique()[0]][i], df[df.trigger == df.trigger.unique()[1]][i], equal_var=False)\n",
    "    if ttest_result.pvalue < .05:\n",
    "        print(f'Welchs T-Test shows {i} is significantly different as a function of trigger condition, p = {ttest_result.pvalue}')\n",
    "        print(f'{i} Trigger Condition 1 Mean: {df[df.trigger == df.trigger.unique()[0]][i].mean()}')\n",
    "        print(f'{i} Trigger Condition 2 Mean: {df[df.trigger == df.trigger.unique()[1]][i].mean()}')\n",
    "        print()"
   ]
  },
  {
   "cell_type": "code",
   "execution_count": 13,
   "metadata": {},
   "outputs": [
    {
     "data": {
      "text/plain": [
       "0.4565766643811371"
      ]
     },
     "execution_count": 13,
     "metadata": {},
     "output_type": "execute_result"
    }
   ],
   "source": [
    "i = 'p3_xavg'\n",
    "\n",
    "temp2 = ttest_ind(df[df.trigger == df.trigger.unique()[0]][i], df[df.trigger == df.trigger.unique()[1]][i], equal_var=False)\n",
    "\n",
    "temp2.pvalue"
   ]
  },
  {
   "cell_type": "code",
   "execution_count": 14,
   "metadata": {},
   "outputs": [
    {
     "data": {
      "image/png": "[encoded data removed]",
      "text/plain": [
       "<Figure size 1080x1080 with 6 Axes>"
      ]
     },
     "metadata": {},
     "output_type": "display_data"
    }
   ],
   "source": [
    "grouped = df['p2_xavg'].groupby(df.box)\n",
    "\n",
    "ncols=2\n",
    "nrows = int(np.ceil(grouped.ngroups/ncols))\n",
    "\n",
    "fig, axes = plt.subplots(nrows=nrows, ncols=ncols, figsize=(15,15), sharey=True)\n",
    "\n",
    "for (key, ax) in zip(grouped.groups.keys(), axes.flatten()):\n",
    "    grouped.get_group(key).plot(ax=ax)\n",
    "\n",
    "ax.legend()\n",
    "plt.show()"
   ]
  },
  {
   "cell_type": "code",
   "execution_count": 15,
   "metadata": {},
   "outputs": [
    {
     "data": {
      "image/png": "[encoded data removed]",
      "text/plain": [
       "<Figure size 864x288 with 6 Axes>"
      ]
     },
     "metadata": {},
     "output_type": "display_data"
    }
   ],
   "source": [
    "# df['all_acquired'].groupby(df.box).describe()\n",
    "# df['all_acquired'].groupby(df.box).hist()\n",
    "import numpy as np\n",
    "\n",
    "grouped = df['all_acquired'].groupby(df.box)\n",
    "\n",
    "ncols=2\n",
    "nrows = int(np.ceil(grouped.ngroups/ncols))\n",
    "\n",
    "fig, axes = plt.subplots(nrows=nrows, ncols=ncols, figsize=(12,4), sharey=True)\n",
    "\n",
    "for (key, ax) in zip(grouped.groups.keys(), axes.flatten()):\n",
    "    grouped.get_group(key).plot(ax=ax)\n",
    "\n",
    "ax.legend()\n",
    "plt.show()"
   ]
  },
  {
   "cell_type": "code",
   "execution_count": 16,
   "metadata": {},
   "outputs": [
    {
     "data": {
      "image/png": "[encoded data removed]",
      "text/plain": [
       "<Figure size 432x288 with 1 Axes>"
      ]
     },
     "metadata": {},
     "output_type": "display_data"
    }
   ],
   "source": [
    "#fig = plt.gcf()\n",
    "#fig.set_size_inches(18.5,10.5)\n",
    "#df['all_acquired'].boxplot(ax=ax)\n",
    "#plot.show()\n",
    "df.boxplot(column='all_acquired')\n",
    "plt.show()"
   ]
  },
  {
   "cell_type": "code",
   "execution_count": 17,
   "metadata": {},
   "outputs": [],
   "source": [
    "# from pathlib import Path\n",
    "# datadir = Path(\"C:\\\\Users\\\\User11\\\\Google Drive\\\\R-Zf-P00-Atles\\\\Atles-Track Data\")\n",
    "# print(datadir)\n",
    "\n",
    "# files = datadir.glob(\"**/*.decoded\")\n",
    "# print(files)\n",
    "\n",
    "\n",
    "# processors = [TrackProcessor(f) for f in files]\n",
    "\n",
    "# #stats = [proc.get_stats() for proc in processors]\n",
    "# stats = []\n",
    "# for proc in processors:\n",
    "#         stats.append(proc.get_stats())\n",
    "        "
   ]
  },
  {
   "cell_type": "code",
   "execution_count": 18,
   "metadata": {},
   "outputs": [
    {
     "data": {
      "text/plain": [
       "{'#Datapoints': 11989,\n",
       " '#Valid': 11978,\n",
       " '%Valid datapoints': 0.9990824922845942,\n",
       " 'Total time (sec)': 1200.0399,\n",
       " 'Valid time (sec)': 1197.943,\n",
       " 'Total distance traveled (?)': 253.3700856220046,\n",
       " 'Avg. x coordinate': 0.5465998497244949,\n",
       " 'Avg. y coordinate': 0.2207663215895809,\n",
       " 'Avg. speed (?/sec)': 0.21150429162489753,\n",
       " 'Avg. x speed (?/sec)': 0.17818543954094646,\n",
       " 'Avg. y speed (?/sec)': 0.07968492657830965,\n",
       " '#Triggers': 164,\n",
       " 'Total time triggered (sec)': 422.16880000000015,\n",
       " 'Avg. time per trigger (sec)': 2.5742000000000007,\n",
       " 'Trigger frequency (per min)': 8.214080302652128,\n",
       " '#Freezes': 4,\n",
       " 'Total time frozen (sec)': 157.58839999999998,\n",
       " 'Avg. time per freeze (sec)': 39.397099999999995,\n",
       " 'Freeze frequency (per min)': 0.2003434220159056,\n",
       " 'Total distance traveled (?) - minutes 0000-0005': 108.38825157685797,\n",
       " 'Avg. x coordinate - minutes 0000-0005': 0.424647807164379,\n",
       " 'Avg. y coordinate - minutes 0000-0005': 0.2551683963843321,\n",
       " 'Avg. speed (?/sec) - minutes 0000-0005': 0.3626543675708289,\n",
       " 'Avg. x speed (?/sec) - minutes 0000-0005': 0.31204035937456087,\n",
       " 'Avg. y speed (?/sec) - minutes 0000-0005': 0.13072697999296026,\n",
       " '#Triggers - minutes 0000-0005': 77,\n",
       " 'Total time triggered (sec) - minutes 0000-0005': 197.88619999999992,\n",
       " 'Avg. time per trigger (sec) - minutes 0000-0005': 2.5699506493506483,\n",
       " 'Trigger frequency (per min) - minutes 0000-0005': 15.457977721775137,\n",
       " '#Freezes - minutes 0000-0005': 0,\n",
       " 'Total distance traveled (?) - minutes 0005-0010': 63.74759751904146,\n",
       " 'Avg. x coordinate - minutes 0005-0010': 0.6564443701971265,\n",
       " 'Avg. y coordinate - minutes 0005-0010': 0.14741463414634146,\n",
       " 'Avg. speed (?/sec) - minutes 0005-0010': 0.21298078262626552,\n",
       " 'Avg. x speed (?/sec) - minutes 0005-0010': 0.17334115127551064,\n",
       " 'Avg. y speed (?/sec) - minutes 0005-0010': 0.08089899653037054,\n",
       " '#Triggers - minutes 0005-0010': 32,\n",
       " 'Total time triggered (sec) - minutes 0005-0010': 22.050499999999943,\n",
       " 'Avg. time per trigger (sec) - minutes 0005-0010': 0.6890781249999982,\n",
       " 'Trigger frequency (per min) - minutes 0005-0010': 6.414721786500018,\n",
       " '#Freezes - minutes 0005-0010': 2,\n",
       " 'Total time frozen (sec) - minutes 0005-0010': 10.699200000000019,\n",
       " 'Avg. time per freeze (sec) - minutes 0005-0010': 5.3496000000000095,\n",
       " 'Freeze frequency (per min) - minutes 0005-0010': 0.40092011165625113,\n",
       " 'Total distance traveled (?) - minutes 0010-0020': 81.22305618621769,\n",
       " 'Avg. x coordinate - minutes 0010-0020': 0.5525751208937801,\n",
       " 'Avg. y coordinate - minutes 0010-0020': 0.24024729031182257,\n",
       " 'Avg. speed (?/sec) - minutes 0010-0020': 0.13544925986188042,\n",
       " 'Avg. x speed (?/sec) - minutes 0010-0020': 0.1139001698805333,\n",
       " 'Avg. y speed (?/sec) - minutes 0010-0020': 0.05364902951972352,\n",
       " '#Triggers - minutes 0010-0020': 56,\n",
       " 'Total time triggered (sec) - minutes 0010-0020': 202.2321000000003,\n",
       " 'Avg. time per trigger (sec) - minutes 0010-0020': 3.6112875000000053,\n",
       " 'Trigger frequency (per min) - minutes 0010-0020': 5.603205967681173,\n",
       " '#Freezes - minutes 0010-0020': 2,\n",
       " 'Total time frozen (sec) - minutes 0010-0020': 146.88919999999996,\n",
       " 'Avg. time per freeze (sec) - minutes 0010-0020': 73.44459999999998,\n",
       " 'Freeze frequency (per min) - minutes 0010-0020': 0.2001144988457562}"
      ]
     },
     "execution_count": 18,
     "metadata": {},
     "output_type": "execute_result"
    }
   ],
   "source": [
    "processor = TrackProcessor(str(trackfiles[0]))\n",
    "processor.get_stats(include_phases=True)"
   ]
  },
  {
   "cell_type": "code",
   "execution_count": 19,
   "metadata": {},
   "outputs": [
    {
     "data": {
      "image/png": "[encoded data removed]",
      "text/plain": [
       "<Figure size 432x144 with 3 Axes>"
      ]
     },
     "metadata": {},
     "output_type": "display_data"
    }
   ],
   "source": [
    "plotter = TrackPlotter(processor)\n",
    "plotter.plot_heatmap(plot_type='per-phase')"
   ]
  }
 ],
 "metadata": {
  "kernelspec": {
   "display_name": "Python 3",
   "language": "python",
   "name": "python3"
  },
  "language_info": {
   "codemirror_mode": {
    "name": "ipython",
    "version": 3
   },
   "file_extension": ".py",
   "mimetype": "text/x-python",
   "name": "python",
   "nbconvert_exporter": "python",
   "pygments_lexer": "ipython3",
   "version": "3.6.5"
  }
 },
 "nbformat": 4,
 "nbformat_minor": 2
}
