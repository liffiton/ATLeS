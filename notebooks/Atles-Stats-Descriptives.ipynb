{
 "cells": [
  {
   "cell_type": "markdown",
   "metadata": {},
   "source": [
    "# ATLeS - Descriptive Statistics\n",
    "\n",
    "This script is designed to provide a general purpose tool for producing descriptive statistics and visualizations for ATLES data. The idea here is that notebook will provide a basic framework for you to build from.\n",
    "\n",
    "## Instructions\n",
    "Provide experiment details in the 'Parameters' section below, then execute script to generate stats.\n",
    "\n",
    "## General Information\n",
    "Everytime an experiment is run ATLeS generates three files. \n",
    "1. date-time-experimentname.txt (log of tracking activity/issues)\n",
    "2. date-time-experimentname-setup.txt (details of experimental setup)\n",
    "3. date-time-experimentname-track.csv (track files; raw tracking data)\n",
    "\n",
    "Broadly this notebook will:\n",
    "1. grab the relevant data sources (see above) and intergrate them\n",
    "2. clean up the data a bit\n",
    "3. summarize the data a bit\n",
    "4. vizualize the data a bit\n",
    "\n",
    "\n",
    "\n"
   ]
  },
  {
   "cell_type": "markdown",
   "metadata": {},
   "source": [
    "# Import Libraries"
   ]
  },
  {
   "cell_type": "code",
   "execution_count": 39,
   "metadata": {},
   "outputs": [],
   "source": [
    "from pathlib import Path\n",
    "import configparser\n",
    "import numpy as np\n",
    "import pandas as pd\n",
    "import seaborn\n",
    "import matplotlib.pyplot as plt\n",
    "\n",
    "# add src/ directory to path to import ATLeS code\n",
    "import os\n",
    "import sys\n",
    "module_path = os.path.abspath(os.path.join('..', 'src'))\n",
    "if module_path not in sys.path:\n",
    "    sys.path.append(module_path)\n",
    "\n",
    "# imported from ATLeS\n",
    "from analysis.process import TrackProcessor\n",
    "from analysis.plot import TrackPlotter\n",
    "\n",
    "# displays plots in notbook output\n",
    "%matplotlib inline "
   ]
  },
  {
   "cell_type": "markdown",
   "metadata": {},
   "source": [
    "## Parameters\n",
    "Input experiment details here"
   ]
  },
  {
   "cell_type": "code",
   "execution_count": 40,
   "metadata": {},
   "outputs": [],
   "source": [
    "experimentname = 'ACTEST2'\n",
    "trackdirectory = '../data/tracks'\n",
    "experimenttype = 'extinction' # set this to extinction or none, an extra set of outcomes are generataed for experiments looking at extinction of a conditioned response\n"
   ]
  },
  {
   "cell_type": "markdown",
   "metadata": {},
   "source": [
    "Set analysis options here:"
   ]
  },
  {
   "cell_type": "code",
   "execution_count": 41,
   "metadata": {},
   "outputs": [],
   "source": [
    "acquisitionlevel = .85  # sets the cut off level of excluding tracks based on poor tracking\n",
    "notriggerexclude = True  # if set to True, excludes tracks where the trigger was never triggered. If set to False, includes tracks where no trigger occurred "
   ]
  },
  {
   "cell_type": "markdown",
   "metadata": {},
   "source": [
    "## Globals"
   ]
  },
  {
   "cell_type": "code",
   "execution_count": 42,
   "metadata": {},
   "outputs": [],
   "source": [
    "framelist = [] # used to keep track of frames generated and combined in subsequent steps"
   ]
  },
  {
   "cell_type": "markdown",
   "metadata": {},
   "source": [
    "## Identify the Data Files\n"
   ]
  },
  {
   "cell_type": "code",
   "execution_count": 43,
   "metadata": {},
   "outputs": [
    {
     "name": "stdout",
     "output_type": "stream",
     "text": [
      "61 track files were found with the name ACTEST2\n",
      "61 settings files were found with the name ACTEST2\n",
      "\n"
     ]
    }
   ],
   "source": [
    "# finds track and settingsfiles within the trackdirectory that match the experiment names\n",
    "# and creates lists\n",
    "\n",
    "trackfiles = list(Path(trackdirectory).glob(f'**/*{experimentname}*track.csv'))\n",
    "settingsfiles = list(Path(trackdirectory).glob(f'**/*{experimentname}*setup.txt'))\n",
    "    \n",
    "print(f'{len(trackfiles)} track files were found with the name {experimentname}')\n",
    "print(f'{len(settingsfiles)} settings files were found with the name {experimentname}\\n')\n",
    "\n",
    "if len(trackfiles) != len(settingsfiles):\n",
    "    print('Warning: Mismatched data and settings files.')"
   ]
  },
  {
   "cell_type": "markdown",
   "metadata": {},
   "source": [
    "## Identify and Store Experimental Settings\n",
    "The number of experimental phases varies across experiments. This block identifies the phases used for the current experiment and verfies that all tracks have the same phase information.\n",
    "The settings may vary between tracks within an experiment. This block also identifies the settings for each track and writes them to a dictionary."
   ]
  },
  {
   "cell_type": "code",
   "execution_count": 44,
   "metadata": {},
   "outputs": [
    {
     "data": {
      "text/html": [
       "<div>\n",
       "<style scoped>\n",
       "    .dataframe tbody tr th:only-of-type {\n",
       "        vertical-align: middle;\n",
       "    }\n",
       "\n",
       "    .dataframe tbody tr th {\n",
       "        vertical-align: top;\n",
       "    }\n",
       "\n",
       "    .dataframe thead th {\n",
       "        text-align: right;\n",
       "    }\n",
       "</style>\n",
       "<table border=\"1\" class=\"dataframe\">\n",
       "  <thead>\n",
       "    <tr style=\"text-align: right;\">\n",
       "      <th></th>\n",
       "      <th>phases</th>\n",
       "      <th>controller</th>\n",
       "      <th>trigger</th>\n",
       "      <th>stimulus</th>\n",
       "      <th>box</th>\n",
       "      <th>file</th>\n",
       "      <th>track</th>\n",
       "    </tr>\n",
       "  </thead>\n",
       "  <tbody>\n",
       "    <tr>\n",
       "      <th>20180219-162833-ACTEST2</th>\n",
       "      <td>[5, off, 5, on, 10, off]</td>\n",
       "      <td>controllers.FixedRatioController(response_step=1)</td>\n",
       "      <td>xpos &lt; 0.50</td>\n",
       "      <td>[ac_freq_Hz=20, active_freq_Hz=1, duty_cycle=0...</td>\n",
       "      <td>bbox3</td>\n",
       "      <td>../data/tracks/bbox3/20180219-162833-ACTEST2-s...</td>\n",
       "      <td>20180219-162833-ACTEST2</td>\n",
       "    </tr>\n",
       "    <tr>\n",
       "      <th>20180303-140323-ACTEST2</th>\n",
       "      <td>[5, off, 5, on, 10, off]</td>\n",
       "      <td>controllers.FixedRatioController(response_step=1)</td>\n",
       "      <td>xpos &lt; 0.50</td>\n",
       "      <td>[ac_freq_Hz=20, active_freq_Hz=1, duty_cycle=0...</td>\n",
       "      <td>bbox3</td>\n",
       "      <td>../data/tracks/bbox3/20180303-140323-ACTEST2-s...</td>\n",
       "      <td>20180303-140323-ACTEST2</td>\n",
       "    </tr>\n",
       "    <tr>\n",
       "      <th>20180213-162455-ACTEST2</th>\n",
       "      <td>[5, off, 5, on, 10, off]</td>\n",
       "      <td>controllers.FixedRatioController(response_step=1)</td>\n",
       "      <td>xpos &gt; 0.50</td>\n",
       "      <td>[ac_freq_Hz=20, active_freq_Hz=1, duty_cycle=0...</td>\n",
       "      <td>bbox3</td>\n",
       "      <td>../data/tracks/bbox3/20180213-162455-ACTEST2-s...</td>\n",
       "      <td>20180213-162455-ACTEST2</td>\n",
       "    </tr>\n",
       "  </tbody>\n",
       "</table>\n",
       "</div>"
      ],
      "text/plain": [
       "                                           phases  \\\n",
       "20180219-162833-ACTEST2  [5, off, 5, on, 10, off]   \n",
       "20180303-140323-ACTEST2  [5, off, 5, on, 10, off]   \n",
       "20180213-162455-ACTEST2  [5, off, 5, on, 10, off]   \n",
       "\n",
       "                                                                controller  \\\n",
       "20180219-162833-ACTEST2  controllers.FixedRatioController(response_step=1)   \n",
       "20180303-140323-ACTEST2  controllers.FixedRatioController(response_step=1)   \n",
       "20180213-162455-ACTEST2  controllers.FixedRatioController(response_step=1)   \n",
       "\n",
       "                             trigger  \\\n",
       "20180219-162833-ACTEST2  xpos < 0.50   \n",
       "20180303-140323-ACTEST2  xpos < 0.50   \n",
       "20180213-162455-ACTEST2  xpos > 0.50   \n",
       "\n",
       "                                                                  stimulus  \\\n",
       "20180219-162833-ACTEST2  [ac_freq_Hz=20, active_freq_Hz=1, duty_cycle=0...   \n",
       "20180303-140323-ACTEST2  [ac_freq_Hz=20, active_freq_Hz=1, duty_cycle=0...   \n",
       "20180213-162455-ACTEST2  [ac_freq_Hz=20, active_freq_Hz=1, duty_cycle=0...   \n",
       "\n",
       "                           box  \\\n",
       "20180219-162833-ACTEST2  bbox3   \n",
       "20180303-140323-ACTEST2  bbox3   \n",
       "20180213-162455-ACTEST2  bbox3   \n",
       "\n",
       "                                                                      file  \\\n",
       "20180219-162833-ACTEST2  ../data/tracks/bbox3/20180219-162833-ACTEST2-s...   \n",
       "20180303-140323-ACTEST2  ../data/tracks/bbox3/20180303-140323-ACTEST2-s...   \n",
       "20180213-162455-ACTEST2  ../data/tracks/bbox3/20180213-162455-ACTEST2-s...   \n",
       "\n",
       "                                           track  \n",
       "20180219-162833-ACTEST2  20180219-162833-ACTEST2  \n",
       "20180303-140323-ACTEST2  20180303-140323-ACTEST2  \n",
       "20180213-162455-ACTEST2  20180213-162455-ACTEST2  "
      ]
     },
     "execution_count": 44,
     "metadata": {},
     "output_type": "execute_result"
    }
   ],
   "source": [
    "Config = configparser.ConfigParser()\n",
    "\n",
    "settingsdic ={} #used to store results of this block\n",
    "phaselist = [] #used later to verify phases are consistent across tracks\n",
    "\n",
    "\n",
    "# reads and organizes information from each settings file\n",
    "for file in settingsfiles:\n",
    "    Config.read(file)\n",
    "    \n",
    "    # generate clean list of stimuli\n",
    "    stiminfo = Config.get('experiment', 'stimulus') #gets stim info\n",
    "    stiminfo = stiminfo.replace('(', ',').replace(')', '').replace(' ', '').split(',')[1:] #cleans phase list\n",
    "    \n",
    "    # generate clean list of phases\n",
    "    phaselisttemp = Config.get('phases', 'phases_argstrings') # gets phase info\n",
    "    phaselisttemp = phaselisttemp.replace('-p ', '').replace(' ', '').split(',')[:-1] #cleans phase list\n",
    "\n",
    "    # compare each phase list with the list from the previous settings file\n",
    "    if len(phaselist) == 0:\n",
    "        phaselist = phaselisttemp\n",
    "    elif phaselist != phaselisttemp:\n",
    "        print('Warning: Inconsistent phases between settings files.')\n",
    "    else:\n",
    "        pass\n",
    "\n",
    "    # counts phases and generates phase variable names\n",
    "    phasenumber = len(phaselist)//2\n",
    "    phasenames = []\n",
    "    for i in range(phasenumber):\n",
    "        p, t, s = 'phase', 'time', 'stim'\n",
    "        phase = p+str(i+1)\n",
    "        phasetime = phase + t\n",
    "        phasestim = phase + s\n",
    "        phasenames.extend((phasetime, phasestim))\n",
    "\n",
    "    # gets settings info from file name (track/box)\n",
    "    trackname = file.parts[-1].replace(\"-setup.txt\", \"\")\n",
    "    box = file.parts[-2]\n",
    "\n",
    "    # gets settings info from setting file\n",
    "    controller = Config.get('experiment', 'controller')\n",
    "    trigger = Config.get('experiment', 'trigger')\n",
    "\n",
    "    settings = [phaselisttemp, controller, trigger, stiminfo, box, str(file)]\n",
    "    \n",
    "    # puts all settings in dic keyed to trackname\n",
    "    settingsdic[trackname] = settings\n",
    "\n",
    "# creates settings dataframe from settingsdic\n",
    "dfsettings = pd.DataFrame(settingsdic).transpose()\n",
    "dfsettings.columns = ['phases', 'controller', 'trigger', 'stimulus', 'box', 'file']\n",
    "dfsettings['track'] = dfsettings.index\n",
    "\n",
    "# creates stimulus dataframe splits up and names stims\n",
    "dfstim = pd.DataFrame(dfsettings.stimulus.values.tolist(), index=dfsettings.index).fillna('-')\n",
    "\n",
    "for col in range(dfstim.shape[1]):\n",
    "    dfstim=dfstim.rename(columns = {col:('stim_setting' + str(col))})\n",
    "\n",
    "framelist.append(dfsettings)\n",
    "dfsettings.head(3)"
   ]
  },
  {
   "cell_type": "markdown",
   "metadata": {},
   "source": [
    "## Identify Phasetimes and Create Phase Dataframe"
   ]
  },
  {
   "cell_type": "code",
   "execution_count": 45,
   "metadata": {},
   "outputs": [
    {
     "data": {
      "text/html": [
       "<div>\n",
       "<style scoped>\n",
       "    .dataframe tbody tr th:only-of-type {\n",
       "        vertical-align: middle;\n",
       "    }\n",
       "\n",
       "    .dataframe tbody tr th {\n",
       "        vertical-align: top;\n",
       "    }\n",
       "\n",
       "    .dataframe thead th {\n",
       "        text-align: right;\n",
       "    }\n",
       "</style>\n",
       "<table border=\"1\" class=\"dataframe\">\n",
       "  <thead>\n",
       "    <tr style=\"text-align: right;\">\n",
       "      <th></th>\n",
       "      <th>phase1time</th>\n",
       "      <th>phase1stim</th>\n",
       "      <th>phase2time</th>\n",
       "      <th>phase2stim</th>\n",
       "      <th>phase3time</th>\n",
       "      <th>phase3stim</th>\n",
       "    </tr>\n",
       "  </thead>\n",
       "  <tbody>\n",
       "    <tr>\n",
       "      <th>20180219-162833-ACTEST2</th>\n",
       "      <td>5</td>\n",
       "      <td>off</td>\n",
       "      <td>5</td>\n",
       "      <td>on</td>\n",
       "      <td>10</td>\n",
       "      <td>off</td>\n",
       "    </tr>\n",
       "    <tr>\n",
       "      <th>20180303-140323-ACTEST2</th>\n",
       "      <td>5</td>\n",
       "      <td>off</td>\n",
       "      <td>5</td>\n",
       "      <td>on</td>\n",
       "      <td>10</td>\n",
       "      <td>off</td>\n",
       "    </tr>\n",
       "    <tr>\n",
       "      <th>20180213-162455-ACTEST2</th>\n",
       "      <td>5</td>\n",
       "      <td>off</td>\n",
       "      <td>5</td>\n",
       "      <td>on</td>\n",
       "      <td>10</td>\n",
       "      <td>off</td>\n",
       "    </tr>\n",
       "  </tbody>\n",
       "</table>\n",
       "</div>"
      ],
      "text/plain": [
       "                        phase1time phase1stim phase2time phase2stim  \\\n",
       "20180219-162833-ACTEST2          5        off          5         on   \n",
       "20180303-140323-ACTEST2          5        off          5         on   \n",
       "20180213-162455-ACTEST2          5        off          5         on   \n",
       "\n",
       "                        phase3time phase3stim  \n",
       "20180219-162833-ACTEST2         10        off  \n",
       "20180303-140323-ACTEST2         10        off  \n",
       "20180213-162455-ACTEST2         10        off  "
      ]
     },
     "execution_count": 45,
     "metadata": {},
     "output_type": "execute_result"
    }
   ],
   "source": [
    "# Identify Phasetimes: extract phase info from settings w. trackname and calculate phasetimes\n",
    "# this currently assummes all phase time are the same across tracks within the experiment\n",
    "phaseinfo = settingsdic.get(trackname)[0]\n",
    "phaseinfo = [x for x in phaseinfo if any(c.isdigit() for c in x)]\n",
    "phaseinfo = list(map(int, phaseinfo))\n",
    "phaseinfo = [i * 60 for i in phaseinfo]\n",
    "phaselen = len(phaseinfo)\n",
    "\n",
    "phaset = []\n",
    "for i in range(phaselen):\n",
    "    times = sum(phaseinfo[0:i+1])\n",
    "    phaset.append(times)\n",
    "\n",
    "# moves 0 to the first entry of phaset (works, but need to find a cleaner way to do this)\n",
    "a = 0\n",
    "phaset[0:0] = [a]\n",
    "\n",
    "phasedic = {}\n",
    "for i in range(phaselen):\n",
    "    phasedic[i+1] = [phaset[i], phaset[i+1]]\n",
    "\n",
    "\n",
    "# splits up and names the phases\n",
    "dfphase = pd.DataFrame(dfsettings.phases.values.tolist(), index=dfsettings.index).fillna('-')\n",
    "dfphase.columns = phasenames\n",
    "\n",
    "phasenum = len(dfphase.columns)//2 # figure out what this is for.... \n",
    "\n",
    "framelist.append(dfphase)\n",
    "\n",
    "dfphase.head(3)\n"
   ]
  },
  {
   "cell_type": "markdown",
   "metadata": {},
   "source": [
    "## Generate Basic Stats"
   ]
  },
  {
   "cell_type": "code",
   "execution_count": 46,
   "metadata": {},
   "outputs": [
    {
     "data": {
      "text/html": [
       "<div>\n",
       "<style scoped>\n",
       "    .dataframe tbody tr th:only-of-type {\n",
       "        vertical-align: middle;\n",
       "    }\n",
       "\n",
       "    .dataframe tbody tr th {\n",
       "        vertical-align: top;\n",
       "    }\n",
       "\n",
       "    .dataframe thead th {\n",
       "        text-align: right;\n",
       "    }\n",
       "</style>\n",
       "<table border=\"1\" class=\"dataframe\">\n",
       "  <thead>\n",
       "    <tr style=\"text-align: right;\">\n",
       "      <th></th>\n",
       "      <th>all|#Datapoints</th>\n",
       "      <th>all|#Freezes</th>\n",
       "      <th>all|#Triggers</th>\n",
       "      <th>all|#Valid</th>\n",
       "      <th>all|%Valid datapoints</th>\n",
       "      <th>all|Avg. normed x coordinate</th>\n",
       "      <th>all|Avg. speed (?/sec)</th>\n",
       "      <th>all|Avg. time per freeze (sec)</th>\n",
       "      <th>all|Avg. time per trigger (sec)</th>\n",
       "      <th>all|Avg. x coordinate</th>\n",
       "      <th>...</th>\n",
       "      <th>phase 3|Avg. x speed (?/sec)</th>\n",
       "      <th>phase 3|Avg. y coordinate</th>\n",
       "      <th>phase 3|Avg. y speed (?/sec)</th>\n",
       "      <th>phase 3|Freeze frequency (per min)</th>\n",
       "      <th>phase 3|Total distance traveled (?)</th>\n",
       "      <th>phase 3|Total time (sec)</th>\n",
       "      <th>phase 3|Total time frozen (sec)</th>\n",
       "      <th>phase 3|Total time triggered (sec)</th>\n",
       "      <th>phase 3|Trigger frequency (per min)</th>\n",
       "      <th>phase 3|Valid time (sec)</th>\n",
       "    </tr>\n",
       "    <tr>\n",
       "      <th>track</th>\n",
       "      <th></th>\n",
       "      <th></th>\n",
       "      <th></th>\n",
       "      <th></th>\n",
       "      <th></th>\n",
       "      <th></th>\n",
       "      <th></th>\n",
       "      <th></th>\n",
       "      <th></th>\n",
       "      <th></th>\n",
       "      <th></th>\n",
       "      <th></th>\n",
       "      <th></th>\n",
       "      <th></th>\n",
       "      <th></th>\n",
       "      <th></th>\n",
       "      <th></th>\n",
       "      <th></th>\n",
       "      <th></th>\n",
       "      <th></th>\n",
       "      <th></th>\n",
       "    </tr>\n",
       "  </thead>\n",
       "  <tbody>\n",
       "    <tr>\n",
       "      <th>20180303-140323-ACTEST2</th>\n",
       "      <td>11989.0</td>\n",
       "      <td>4.0</td>\n",
       "      <td>162.0</td>\n",
       "      <td>11978.0</td>\n",
       "      <td>0.999082</td>\n",
       "      <td>0.453400</td>\n",
       "      <td>0.211504</td>\n",
       "      <td>39.397750</td>\n",
       "      <td>2.606121</td>\n",
       "      <td>0.546600</td>\n",
       "      <td>...</td>\n",
       "      <td>0.113900</td>\n",
       "      <td>0.240247</td>\n",
       "      <td>0.053649</td>\n",
       "      <td>0.200015</td>\n",
       "      <td>81.223056</td>\n",
       "      <td>599.9547</td>\n",
       "      <td>146.8919</td>\n",
       "      <td>202.1632</td>\n",
       "      <td>5.600423</td>\n",
       "      <td>599.6567</td>\n",
       "    </tr>\n",
       "    <tr>\n",
       "      <th>20180219-162833-ACTEST2</th>\n",
       "      <td>11992.0</td>\n",
       "      <td>39.0</td>\n",
       "      <td>77.0</td>\n",
       "      <td>11974.0</td>\n",
       "      <td>0.998499</td>\n",
       "      <td>0.336595</td>\n",
       "      <td>0.090913</td>\n",
       "      <td>5.821121</td>\n",
       "      <td>2.409019</td>\n",
       "      <td>0.663405</td>\n",
       "      <td>...</td>\n",
       "      <td>0.048981</td>\n",
       "      <td>0.137688</td>\n",
       "      <td>0.023124</td>\n",
       "      <td>2.400172</td>\n",
       "      <td>35.668226</td>\n",
       "      <td>599.9571</td>\n",
       "      <td>119.4581</td>\n",
       "      <td>90.5968</td>\n",
       "      <td>1.600114</td>\n",
       "      <td>599.7578</td>\n",
       "    </tr>\n",
       "    <tr>\n",
       "      <th>20180126-162646-ACTEST2</th>\n",
       "      <td>11992.0</td>\n",
       "      <td>13.0</td>\n",
       "      <td>68.0</td>\n",
       "      <td>11982.0</td>\n",
       "      <td>0.999166</td>\n",
       "      <td>0.356098</td>\n",
       "      <td>0.057592</td>\n",
       "      <td>25.261700</td>\n",
       "      <td>6.607431</td>\n",
       "      <td>0.356098</td>\n",
       "      <td>...</td>\n",
       "      <td>0.037321</td>\n",
       "      <td>0.451903</td>\n",
       "      <td>0.029200</td>\n",
       "      <td>0.900067</td>\n",
       "      <td>31.472323</td>\n",
       "      <td>599.9556</td>\n",
       "      <td>49.3343</td>\n",
       "      <td>300.1005</td>\n",
       "      <td>2.800207</td>\n",
       "      <td>599.9556</td>\n",
       "    </tr>\n",
       "  </tbody>\n",
       "</table>\n",
       "<p>3 rows × 80 columns</p>\n",
       "</div>"
      ],
      "text/plain": [
       "                         all|#Datapoints  all|#Freezes  all|#Triggers  \\\n",
       "track                                                                   \n",
       "20180303-140323-ACTEST2          11989.0           4.0          162.0   \n",
       "20180219-162833-ACTEST2          11992.0          39.0           77.0   \n",
       "20180126-162646-ACTEST2          11992.0          13.0           68.0   \n",
       "\n",
       "                         all|#Valid  all|%Valid datapoints  \\\n",
       "track                                                        \n",
       "20180303-140323-ACTEST2     11978.0               0.999082   \n",
       "20180219-162833-ACTEST2     11974.0               0.998499   \n",
       "20180126-162646-ACTEST2     11982.0               0.999166   \n",
       "\n",
       "                         all|Avg. normed x coordinate  all|Avg. speed (?/sec)  \\\n",
       "track                                                                           \n",
       "20180303-140323-ACTEST2                      0.453400                0.211504   \n",
       "20180219-162833-ACTEST2                      0.336595                0.090913   \n",
       "20180126-162646-ACTEST2                      0.356098                0.057592   \n",
       "\n",
       "                         all|Avg. time per freeze (sec)  \\\n",
       "track                                                     \n",
       "20180303-140323-ACTEST2                       39.397750   \n",
       "20180219-162833-ACTEST2                        5.821121   \n",
       "20180126-162646-ACTEST2                       25.261700   \n",
       "\n",
       "                         all|Avg. time per trigger (sec)  \\\n",
       "track                                                      \n",
       "20180303-140323-ACTEST2                         2.606121   \n",
       "20180219-162833-ACTEST2                         2.409019   \n",
       "20180126-162646-ACTEST2                         6.607431   \n",
       "\n",
       "                         all|Avg. x coordinate            ...             \\\n",
       "track                                                     ...              \n",
       "20180303-140323-ACTEST2               0.546600            ...              \n",
       "20180219-162833-ACTEST2               0.663405            ...              \n",
       "20180126-162646-ACTEST2               0.356098            ...              \n",
       "\n",
       "                         phase 3|Avg. x speed (?/sec)  \\\n",
       "track                                                   \n",
       "20180303-140323-ACTEST2                      0.113900   \n",
       "20180219-162833-ACTEST2                      0.048981   \n",
       "20180126-162646-ACTEST2                      0.037321   \n",
       "\n",
       "                         phase 3|Avg. y coordinate  \\\n",
       "track                                                \n",
       "20180303-140323-ACTEST2                   0.240247   \n",
       "20180219-162833-ACTEST2                   0.137688   \n",
       "20180126-162646-ACTEST2                   0.451903   \n",
       "\n",
       "                         phase 3|Avg. y speed (?/sec)  \\\n",
       "track                                                   \n",
       "20180303-140323-ACTEST2                      0.053649   \n",
       "20180219-162833-ACTEST2                      0.023124   \n",
       "20180126-162646-ACTEST2                      0.029200   \n",
       "\n",
       "                         phase 3|Freeze frequency (per min)  \\\n",
       "track                                                         \n",
       "20180303-140323-ACTEST2                            0.200015   \n",
       "20180219-162833-ACTEST2                            2.400172   \n",
       "20180126-162646-ACTEST2                            0.900067   \n",
       "\n",
       "                         phase 3|Total distance traveled (?)  \\\n",
       "track                                                          \n",
       "20180303-140323-ACTEST2                            81.223056   \n",
       "20180219-162833-ACTEST2                            35.668226   \n",
       "20180126-162646-ACTEST2                            31.472323   \n",
       "\n",
       "                         phase 3|Total time (sec)  \\\n",
       "track                                               \n",
       "20180303-140323-ACTEST2                  599.9547   \n",
       "20180219-162833-ACTEST2                  599.9571   \n",
       "20180126-162646-ACTEST2                  599.9556   \n",
       "\n",
       "                         phase 3|Total time frozen (sec)  \\\n",
       "track                                                      \n",
       "20180303-140323-ACTEST2                         146.8919   \n",
       "20180219-162833-ACTEST2                         119.4581   \n",
       "20180126-162646-ACTEST2                          49.3343   \n",
       "\n",
       "                         phase 3|Total time triggered (sec)  \\\n",
       "track                                                         \n",
       "20180303-140323-ACTEST2                            202.1632   \n",
       "20180219-162833-ACTEST2                             90.5968   \n",
       "20180126-162646-ACTEST2                            300.1005   \n",
       "\n",
       "                         phase 3|Trigger frequency (per min)  \\\n",
       "track                                                          \n",
       "20180303-140323-ACTEST2                             5.600423   \n",
       "20180219-162833-ACTEST2                             1.600114   \n",
       "20180126-162646-ACTEST2                             2.800207   \n",
       "\n",
       "                         phase 3|Valid time (sec)  \n",
       "track                                              \n",
       "20180303-140323-ACTEST2                  599.6567  \n",
       "20180219-162833-ACTEST2                  599.7578  \n",
       "20180126-162646-ACTEST2                  599.9556  \n",
       "\n",
       "[3 rows x 80 columns]"
      ]
     },
     "execution_count": 46,
     "metadata": {},
     "output_type": "execute_result"
    }
   ],
   "source": [
    "dfstats = pd.DataFrame()\n",
    "\n",
    "for track in trackfiles:\n",
    "    # gets track from file name\n",
    "    trackname = track.parts[-1].replace(\"-track.csv\", \"\")\n",
    "    \n",
    "    # gets stats from TrackProcessor (ATLeS analysis class)\n",
    "    processor = TrackProcessor(str(track), normalize_x_with_trigger='xpos < 0.50')\n",
    "    tempstatsdic = processor.get_stats(include_phases=True) # gets stats from track object\n",
    "    \n",
    "    # flattens dictionary into dataframe, from https://stackoverflow.com/questions/13575090/\n",
    "    dftemp = pd.DataFrame.from_dict({(i,j): tempstatsdic[i][j] for i in tempstatsdic.keys() for j in tempstatsdic[i].keys()}, orient='index')\n",
    "    \n",
    "    #transposes dataframe and adds track as index\n",
    "    dftemp = dftemp.transpose()\n",
    "    dftemp['track'] = trackname \n",
    "    dftemp.set_index('track', inplace=True)\n",
    "    \n",
    "    dfstats = dfstats.append(dftemp, sort=True)\n",
    "\n",
    "if 'phase 0' in dfstats.columns:\n",
    "    dfstats.rename({'phase 0': 'p1', 'phase 1': 'p2', 'phase 2': 'p3'}, axis='columns', inplace = True)\n",
    "\n",
    "dfstats.columns = dfstats.columns.map('|'.join)\n",
    "    \n",
    "framelist.append(dfstats)    \n",
    "    \n",
    "dfstats.head(3)"
   ]
  },
  {
   "cell_type": "markdown",
   "metadata": {},
   "source": [
    "## Generate Extinction Stats"
   ]
  },
  {
   "cell_type": "code",
   "execution_count": 47,
   "metadata": {},
   "outputs": [
    {
     "data": {
      "text/html": [
       "<div>\n",
       "<style scoped>\n",
       "    .dataframe tbody tr th:only-of-type {\n",
       "        vertical-align: middle;\n",
       "    }\n",
       "\n",
       "    .dataframe tbody tr th {\n",
       "        vertical-align: top;\n",
       "    }\n",
       "\n",
       "    .dataframe thead th {\n",
       "        text-align: right;\n",
       "    }\n",
       "</style>\n",
       "<table border=\"1\" class=\"dataframe\">\n",
       "  <thead>\n",
       "    <tr style=\"text-align: right;\">\n",
       "      <th></th>\n",
       "      <th>phase1-tme to 1st trigger frm phs start</th>\n",
       "      <th>phase1-tme to 1st trigger_plus1 frm phs start</th>\n",
       "      <th>phase1-tme to 1st trigger_plus2 frm phs start</th>\n",
       "      <th>phase1-tme to 1st trigger_plus3 frm phs start</th>\n",
       "      <th>phase1-tme to 1st trigger_plus4 frm phs start</th>\n",
       "      <th>phase2-tme to 1st trigger frm phs start</th>\n",
       "      <th>phase2-tme to 1st trigger frm prev trigger</th>\n",
       "      <th>phase2-tme to 1st trigger_plus1 frm phs start</th>\n",
       "      <th>phase2-tme to 1st trigger_plus1 frm prev trigger</th>\n",
       "      <th>phase2-tme to 1st trigger_plus2 frm phs start</th>\n",
       "      <th>...</th>\n",
       "      <th>phase3-tme to 1st trigger frm phs start</th>\n",
       "      <th>phase3-tme to 1st trigger frm prev trigger</th>\n",
       "      <th>phase3-tme to 1st trigger_plus1 frm phs start</th>\n",
       "      <th>phase3-tme to 1st trigger_plus1 frm prev trigger</th>\n",
       "      <th>phase3-tme to 1st trigger_plus2 frm phs start</th>\n",
       "      <th>phase3-tme to 1st trigger_plus2 frm prev trigger</th>\n",
       "      <th>phase3-tme to 1st trigger_plus3 frm phs start</th>\n",
       "      <th>phase3-tme to 1st trigger_plus3 frm prev trigger</th>\n",
       "      <th>phase3-tme to 1st trigger_plus4 frm phs start</th>\n",
       "      <th>phase3-tme to 1st trigger_plus4 frm prev trigger</th>\n",
       "    </tr>\n",
       "    <tr>\n",
       "      <th>track</th>\n",
       "      <th></th>\n",
       "      <th></th>\n",
       "      <th></th>\n",
       "      <th></th>\n",
       "      <th></th>\n",
       "      <th></th>\n",
       "      <th></th>\n",
       "      <th></th>\n",
       "      <th></th>\n",
       "      <th></th>\n",
       "      <th></th>\n",
       "      <th></th>\n",
       "      <th></th>\n",
       "      <th></th>\n",
       "      <th></th>\n",
       "      <th></th>\n",
       "      <th></th>\n",
       "      <th></th>\n",
       "      <th></th>\n",
       "      <th></th>\n",
       "      <th></th>\n",
       "    </tr>\n",
       "  </thead>\n",
       "  <tbody>\n",
       "    <tr>\n",
       "      <th>20180303-140323-ACTEST2</th>\n",
       "      <td>0.0048</td>\n",
       "      <td>0.0048</td>\n",
       "      <td>1.2063</td>\n",
       "      <td>1.2063</td>\n",
       "      <td>10.1036</td>\n",
       "      <td>206.9687</td>\n",
       "      <td>223.7824</td>\n",
       "      <td>207.3683</td>\n",
       "      <td>224.1820</td>\n",
       "      <td>207.8689</td>\n",
       "      <td>...</td>\n",
       "      <td>0.0399</td>\n",
       "      <td>0.1000</td>\n",
       "      <td>0.0399</td>\n",
       "      <td>0.1000</td>\n",
       "      <td>0.0399</td>\n",
       "      <td>0.1</td>\n",
       "      <td>NaN</td>\n",
       "      <td>NaN</td>\n",
       "      <td>NaN</td>\n",
       "      <td>NaN</td>\n",
       "    </tr>\n",
       "    <tr>\n",
       "      <th>20180219-162833-ACTEST2</th>\n",
       "      <td>0.0072</td>\n",
       "      <td>0.0072</td>\n",
       "      <td>1.6063</td>\n",
       "      <td>1.7044</td>\n",
       "      <td>1.8050</td>\n",
       "      <td>84.3770</td>\n",
       "      <td>370.1737</td>\n",
       "      <td>84.5793</td>\n",
       "      <td>370.3760</td>\n",
       "      <td>86.5792</td>\n",
       "      <td>...</td>\n",
       "      <td>0.0454</td>\n",
       "      <td>0.1041</td>\n",
       "      <td>0.0454</td>\n",
       "      <td>0.1041</td>\n",
       "      <td>NaN</td>\n",
       "      <td>NaN</td>\n",
       "      <td>NaN</td>\n",
       "      <td>NaN</td>\n",
       "      <td>NaN</td>\n",
       "      <td>NaN</td>\n",
       "    </tr>\n",
       "    <tr>\n",
       "      <th>20180126-162646-ACTEST2</th>\n",
       "      <td>0.0042</td>\n",
       "      <td>0.0042</td>\n",
       "      <td>0.7058</td>\n",
       "      <td>0.7058</td>\n",
       "      <td>0.8039</td>\n",
       "      <td>148.4718</td>\n",
       "      <td>438.3684</td>\n",
       "      <td>149.0718</td>\n",
       "      <td>438.9684</td>\n",
       "      <td>149.5718</td>\n",
       "      <td>...</td>\n",
       "      <td>0.0393</td>\n",
       "      <td>0.0999</td>\n",
       "      <td>0.0393</td>\n",
       "      <td>0.0999</td>\n",
       "      <td>NaN</td>\n",
       "      <td>NaN</td>\n",
       "      <td>NaN</td>\n",
       "      <td>NaN</td>\n",
       "      <td>NaN</td>\n",
       "      <td>NaN</td>\n",
       "    </tr>\n",
       "  </tbody>\n",
       "</table>\n",
       "<p>3 rows × 25 columns</p>\n",
       "</div>"
      ],
      "text/plain": [
       "                         phase1-tme to 1st trigger frm phs start  \\\n",
       "track                                                              \n",
       "20180303-140323-ACTEST2                                   0.0048   \n",
       "20180219-162833-ACTEST2                                   0.0072   \n",
       "20180126-162646-ACTEST2                                   0.0042   \n",
       "\n",
       "                         phase1-tme to 1st trigger_plus1 frm phs start  \\\n",
       "track                                                                    \n",
       "20180303-140323-ACTEST2                                         0.0048   \n",
       "20180219-162833-ACTEST2                                         0.0072   \n",
       "20180126-162646-ACTEST2                                         0.0042   \n",
       "\n",
       "                         phase1-tme to 1st trigger_plus2 frm phs start  \\\n",
       "track                                                                    \n",
       "20180303-140323-ACTEST2                                         1.2063   \n",
       "20180219-162833-ACTEST2                                         1.6063   \n",
       "20180126-162646-ACTEST2                                         0.7058   \n",
       "\n",
       "                         phase1-tme to 1st trigger_plus3 frm phs start  \\\n",
       "track                                                                    \n",
       "20180303-140323-ACTEST2                                         1.2063   \n",
       "20180219-162833-ACTEST2                                         1.7044   \n",
       "20180126-162646-ACTEST2                                         0.7058   \n",
       "\n",
       "                         phase1-tme to 1st trigger_plus4 frm phs start  \\\n",
       "track                                                                    \n",
       "20180303-140323-ACTEST2                                        10.1036   \n",
       "20180219-162833-ACTEST2                                         1.8050   \n",
       "20180126-162646-ACTEST2                                         0.8039   \n",
       "\n",
       "                         phase2-tme to 1st trigger frm phs start  \\\n",
       "track                                                              \n",
       "20180303-140323-ACTEST2                                 206.9687   \n",
       "20180219-162833-ACTEST2                                  84.3770   \n",
       "20180126-162646-ACTEST2                                 148.4718   \n",
       "\n",
       "                         phase2-tme to 1st trigger frm prev trigger  \\\n",
       "track                                                                 \n",
       "20180303-140323-ACTEST2                                    223.7824   \n",
       "20180219-162833-ACTEST2                                    370.1737   \n",
       "20180126-162646-ACTEST2                                    438.3684   \n",
       "\n",
       "                         phase2-tme to 1st trigger_plus1 frm phs start  \\\n",
       "track                                                                    \n",
       "20180303-140323-ACTEST2                                       207.3683   \n",
       "20180219-162833-ACTEST2                                        84.5793   \n",
       "20180126-162646-ACTEST2                                       149.0718   \n",
       "\n",
       "                         phase2-tme to 1st trigger_plus1 frm prev trigger  \\\n",
       "track                                                                       \n",
       "20180303-140323-ACTEST2                                          224.1820   \n",
       "20180219-162833-ACTEST2                                          370.3760   \n",
       "20180126-162646-ACTEST2                                          438.9684   \n",
       "\n",
       "                         phase2-tme to 1st trigger_plus2 frm phs start  \\\n",
       "track                                                                    \n",
       "20180303-140323-ACTEST2                                       207.8689   \n",
       "20180219-162833-ACTEST2                                        86.5792   \n",
       "20180126-162646-ACTEST2                                       149.5718   \n",
       "\n",
       "                                               ...                         \\\n",
       "track                                          ...                          \n",
       "20180303-140323-ACTEST2                        ...                          \n",
       "20180219-162833-ACTEST2                        ...                          \n",
       "20180126-162646-ACTEST2                        ...                          \n",
       "\n",
       "                         phase3-tme to 1st trigger frm phs start  \\\n",
       "track                                                              \n",
       "20180303-140323-ACTEST2                                   0.0399   \n",
       "20180219-162833-ACTEST2                                   0.0454   \n",
       "20180126-162646-ACTEST2                                   0.0393   \n",
       "\n",
       "                         phase3-tme to 1st trigger frm prev trigger  \\\n",
       "track                                                                 \n",
       "20180303-140323-ACTEST2                                      0.1000   \n",
       "20180219-162833-ACTEST2                                      0.1041   \n",
       "20180126-162646-ACTEST2                                      0.0999   \n",
       "\n",
       "                         phase3-tme to 1st trigger_plus1 frm phs start  \\\n",
       "track                                                                    \n",
       "20180303-140323-ACTEST2                                         0.0399   \n",
       "20180219-162833-ACTEST2                                         0.0454   \n",
       "20180126-162646-ACTEST2                                         0.0393   \n",
       "\n",
       "                         phase3-tme to 1st trigger_plus1 frm prev trigger  \\\n",
       "track                                                                       \n",
       "20180303-140323-ACTEST2                                            0.1000   \n",
       "20180219-162833-ACTEST2                                            0.1041   \n",
       "20180126-162646-ACTEST2                                            0.0999   \n",
       "\n",
       "                         phase3-tme to 1st trigger_plus2 frm phs start  \\\n",
       "track                                                                    \n",
       "20180303-140323-ACTEST2                                         0.0399   \n",
       "20180219-162833-ACTEST2                                            NaN   \n",
       "20180126-162646-ACTEST2                                            NaN   \n",
       "\n",
       "                         phase3-tme to 1st trigger_plus2 frm prev trigger  \\\n",
       "track                                                                       \n",
       "20180303-140323-ACTEST2                                               0.1   \n",
       "20180219-162833-ACTEST2                                               NaN   \n",
       "20180126-162646-ACTEST2                                               NaN   \n",
       "\n",
       "                         phase3-tme to 1st trigger_plus3 frm phs start  \\\n",
       "track                                                                    \n",
       "20180303-140323-ACTEST2                                            NaN   \n",
       "20180219-162833-ACTEST2                                            NaN   \n",
       "20180126-162646-ACTEST2                                            NaN   \n",
       "\n",
       "                         phase3-tme to 1st trigger_plus3 frm prev trigger  \\\n",
       "track                                                                       \n",
       "20180303-140323-ACTEST2                                               NaN   \n",
       "20180219-162833-ACTEST2                                               NaN   \n",
       "20180126-162646-ACTEST2                                               NaN   \n",
       "\n",
       "                         phase3-tme to 1st trigger_plus4 frm phs start  \\\n",
       "track                                                                    \n",
       "20180303-140323-ACTEST2                                            NaN   \n",
       "20180219-162833-ACTEST2                                            NaN   \n",
       "20180126-162646-ACTEST2                                            NaN   \n",
       "\n",
       "                         phase3-tme to 1st trigger_plus4 frm prev trigger  \n",
       "track                                                                      \n",
       "20180303-140323-ACTEST2                                               NaN  \n",
       "20180219-162833-ACTEST2                                               NaN  \n",
       "20180126-162646-ACTEST2                                               NaN  \n",
       "\n",
       "[3 rows x 25 columns]"
      ]
     },
     "execution_count": 47,
     "metadata": {},
     "output_type": "execute_result"
    }
   ],
   "source": [
    "if experimenttype == 'extinction':\n",
    "\n",
    "    dfextstats = pd.DataFrame()\n",
    "\n",
    "    for track in trackfiles:\n",
    "        # gets track from file name\n",
    "        trackname = track.parts[-1].replace(\"-track.csv\", \"\")\n",
    "\n",
    "        # gets advances stats from TrackProcessor (ATLeS analysis class)\n",
    "        processor = TrackProcessor(str(track)) # passes track to track processor and returns track object\n",
    "        tempstatsdic = processor.get_exp_stats('extinction') # gets stats from track object\n",
    "\n",
    "        dftemp3 = pd.DataFrame(tempstatsdic, index=[0])\n",
    "\n",
    "        dftemp3['track'] = trackname \n",
    "        dftemp3.set_index('track', inplace=True)\n",
    "\n",
    "        dfextstats = dfextstats.append(dftemp3, sort=True)\n",
    "    \n",
    "    framelist.append(dfextstats)\n",
    "    \n",
    "\n",
    "else:\n",
    "    print('Extinction experiment not selected in Parameters section.')\n",
    "\n",
    "\n",
    "dfextstats.head(3)"
   ]
  },
  {
   "cell_type": "markdown",
   "metadata": {},
   "source": [
    "## Combine Dataframes\n",
    "Combines settings, stim, phase, and with dataframe of basic descriptive stats.\n"
   ]
  },
  {
   "cell_type": "code",
   "execution_count": 48,
   "metadata": {},
   "outputs": [
    {
     "data": {
      "text/html": [
       "<div>\n",
       "<style scoped>\n",
       "    .dataframe tbody tr th:only-of-type {\n",
       "        vertical-align: middle;\n",
       "    }\n",
       "\n",
       "    .dataframe tbody tr th {\n",
       "        vertical-align: top;\n",
       "    }\n",
       "\n",
       "    .dataframe thead th {\n",
       "        text-align: right;\n",
       "    }\n",
       "</style>\n",
       "<table border=\"1\" class=\"dataframe\">\n",
       "  <thead>\n",
       "    <tr style=\"text-align: right;\">\n",
       "      <th></th>\n",
       "      <th>phases</th>\n",
       "      <th>controller</th>\n",
       "      <th>trigger</th>\n",
       "      <th>stimulus</th>\n",
       "      <th>box</th>\n",
       "      <th>file</th>\n",
       "      <th>track</th>\n",
       "      <th>phase1time</th>\n",
       "      <th>phase1stim</th>\n",
       "      <th>phase2time</th>\n",
       "      <th>...</th>\n",
       "      <th>phase3-tme to 1st trigger frm phs start</th>\n",
       "      <th>phase3-tme to 1st trigger frm prev trigger</th>\n",
       "      <th>phase3-tme to 1st trigger_plus1 frm phs start</th>\n",
       "      <th>phase3-tme to 1st trigger_plus1 frm prev trigger</th>\n",
       "      <th>phase3-tme to 1st trigger_plus2 frm phs start</th>\n",
       "      <th>phase3-tme to 1st trigger_plus2 frm prev trigger</th>\n",
       "      <th>phase3-tme to 1st trigger_plus3 frm phs start</th>\n",
       "      <th>phase3-tme to 1st trigger_plus3 frm prev trigger</th>\n",
       "      <th>phase3-tme to 1st trigger_plus4 frm phs start</th>\n",
       "      <th>phase3-tme to 1st trigger_plus4 frm prev trigger</th>\n",
       "    </tr>\n",
       "  </thead>\n",
       "  <tbody>\n",
       "    <tr>\n",
       "      <th>20180219-162833-ACTEST2</th>\n",
       "      <td>[5, off, 5, on, 10, off]</td>\n",
       "      <td>controllers.FixedRatioController(response_step=1)</td>\n",
       "      <td>xpos &lt; 0.50</td>\n",
       "      <td>[ac_freq_Hz=20, active_freq_Hz=1, duty_cycle=0...</td>\n",
       "      <td>bbox3</td>\n",
       "      <td>../data/tracks/bbox3/20180219-162833-ACTEST2-s...</td>\n",
       "      <td>20180219-162833-ACTEST2</td>\n",
       "      <td>5</td>\n",
       "      <td>off</td>\n",
       "      <td>5</td>\n",
       "      <td>...</td>\n",
       "      <td>0.0454</td>\n",
       "      <td>0.1041</td>\n",
       "      <td>0.0454</td>\n",
       "      <td>0.1041</td>\n",
       "      <td>NaN</td>\n",
       "      <td>NaN</td>\n",
       "      <td>NaN</td>\n",
       "      <td>NaN</td>\n",
       "      <td>NaN</td>\n",
       "      <td>NaN</td>\n",
       "    </tr>\n",
       "    <tr>\n",
       "      <th>20180303-140323-ACTEST2</th>\n",
       "      <td>[5, off, 5, on, 10, off]</td>\n",
       "      <td>controllers.FixedRatioController(response_step=1)</td>\n",
       "      <td>xpos &lt; 0.50</td>\n",
       "      <td>[ac_freq_Hz=20, active_freq_Hz=1, duty_cycle=0...</td>\n",
       "      <td>bbox3</td>\n",
       "      <td>../data/tracks/bbox3/20180303-140323-ACTEST2-s...</td>\n",
       "      <td>20180303-140323-ACTEST2</td>\n",
       "      <td>5</td>\n",
       "      <td>off</td>\n",
       "      <td>5</td>\n",
       "      <td>...</td>\n",
       "      <td>0.0399</td>\n",
       "      <td>0.1000</td>\n",
       "      <td>0.0399</td>\n",
       "      <td>0.1000</td>\n",
       "      <td>0.0399</td>\n",
       "      <td>0.1</td>\n",
       "      <td>NaN</td>\n",
       "      <td>NaN</td>\n",
       "      <td>NaN</td>\n",
       "      <td>NaN</td>\n",
       "    </tr>\n",
       "    <tr>\n",
       "      <th>20180213-162455-ACTEST2</th>\n",
       "      <td>[5, off, 5, on, 10, off]</td>\n",
       "      <td>controllers.FixedRatioController(response_step=1)</td>\n",
       "      <td>xpos &gt; 0.50</td>\n",
       "      <td>[ac_freq_Hz=20, active_freq_Hz=1, duty_cycle=0...</td>\n",
       "      <td>bbox3</td>\n",
       "      <td>../data/tracks/bbox3/20180213-162455-ACTEST2-s...</td>\n",
       "      <td>20180213-162455-ACTEST2</td>\n",
       "      <td>5</td>\n",
       "      <td>off</td>\n",
       "      <td>5</td>\n",
       "      <td>...</td>\n",
       "      <td>NaN</td>\n",
       "      <td>NaN</td>\n",
       "      <td>NaN</td>\n",
       "      <td>NaN</td>\n",
       "      <td>NaN</td>\n",
       "      <td>NaN</td>\n",
       "      <td>NaN</td>\n",
       "      <td>NaN</td>\n",
       "      <td>NaN</td>\n",
       "      <td>NaN</td>\n",
       "    </tr>\n",
       "  </tbody>\n",
       "</table>\n",
       "<p>3 rows × 118 columns</p>\n",
       "</div>"
      ],
      "text/plain": [
       "                                           phases  \\\n",
       "20180219-162833-ACTEST2  [5, off, 5, on, 10, off]   \n",
       "20180303-140323-ACTEST2  [5, off, 5, on, 10, off]   \n",
       "20180213-162455-ACTEST2  [5, off, 5, on, 10, off]   \n",
       "\n",
       "                                                                controller  \\\n",
       "20180219-162833-ACTEST2  controllers.FixedRatioController(response_step=1)   \n",
       "20180303-140323-ACTEST2  controllers.FixedRatioController(response_step=1)   \n",
       "20180213-162455-ACTEST2  controllers.FixedRatioController(response_step=1)   \n",
       "\n",
       "                             trigger  \\\n",
       "20180219-162833-ACTEST2  xpos < 0.50   \n",
       "20180303-140323-ACTEST2  xpos < 0.50   \n",
       "20180213-162455-ACTEST2  xpos > 0.50   \n",
       "\n",
       "                                                                  stimulus  \\\n",
       "20180219-162833-ACTEST2  [ac_freq_Hz=20, active_freq_Hz=1, duty_cycle=0...   \n",
       "20180303-140323-ACTEST2  [ac_freq_Hz=20, active_freq_Hz=1, duty_cycle=0...   \n",
       "20180213-162455-ACTEST2  [ac_freq_Hz=20, active_freq_Hz=1, duty_cycle=0...   \n",
       "\n",
       "                           box  \\\n",
       "20180219-162833-ACTEST2  bbox3   \n",
       "20180303-140323-ACTEST2  bbox3   \n",
       "20180213-162455-ACTEST2  bbox3   \n",
       "\n",
       "                                                                      file  \\\n",
       "20180219-162833-ACTEST2  ../data/tracks/bbox3/20180219-162833-ACTEST2-s...   \n",
       "20180303-140323-ACTEST2  ../data/tracks/bbox3/20180303-140323-ACTEST2-s...   \n",
       "20180213-162455-ACTEST2  ../data/tracks/bbox3/20180213-162455-ACTEST2-s...   \n",
       "\n",
       "                                           track phase1time phase1stim  \\\n",
       "20180219-162833-ACTEST2  20180219-162833-ACTEST2          5        off   \n",
       "20180303-140323-ACTEST2  20180303-140323-ACTEST2          5        off   \n",
       "20180213-162455-ACTEST2  20180213-162455-ACTEST2          5        off   \n",
       "\n",
       "                        phase2time  \\\n",
       "20180219-162833-ACTEST2          5   \n",
       "20180303-140323-ACTEST2          5   \n",
       "20180213-162455-ACTEST2          5   \n",
       "\n",
       "                                               ...                         \\\n",
       "20180219-162833-ACTEST2                        ...                          \n",
       "20180303-140323-ACTEST2                        ...                          \n",
       "20180213-162455-ACTEST2                        ...                          \n",
       "\n",
       "                        phase3-tme to 1st trigger frm phs start  \\\n",
       "20180219-162833-ACTEST2                                  0.0454   \n",
       "20180303-140323-ACTEST2                                  0.0399   \n",
       "20180213-162455-ACTEST2                                     NaN   \n",
       "\n",
       "                        phase3-tme to 1st trigger frm prev trigger  \\\n",
       "20180219-162833-ACTEST2                                     0.1041   \n",
       "20180303-140323-ACTEST2                                     0.1000   \n",
       "20180213-162455-ACTEST2                                        NaN   \n",
       "\n",
       "                        phase3-tme to 1st trigger_plus1 frm phs start  \\\n",
       "20180219-162833-ACTEST2                                        0.0454   \n",
       "20180303-140323-ACTEST2                                        0.0399   \n",
       "20180213-162455-ACTEST2                                           NaN   \n",
       "\n",
       "                         phase3-tme to 1st trigger_plus1 frm prev trigger  \\\n",
       "20180219-162833-ACTEST2                                            0.1041   \n",
       "20180303-140323-ACTEST2                                            0.1000   \n",
       "20180213-162455-ACTEST2                                               NaN   \n",
       "\n",
       "                         phase3-tme to 1st trigger_plus2 frm phs start  \\\n",
       "20180219-162833-ACTEST2                                            NaN   \n",
       "20180303-140323-ACTEST2                                         0.0399   \n",
       "20180213-162455-ACTEST2                                            NaN   \n",
       "\n",
       "                         phase3-tme to 1st trigger_plus2 frm prev trigger  \\\n",
       "20180219-162833-ACTEST2                                               NaN   \n",
       "20180303-140323-ACTEST2                                               0.1   \n",
       "20180213-162455-ACTEST2                                               NaN   \n",
       "\n",
       "                         phase3-tme to 1st trigger_plus3 frm phs start  \\\n",
       "20180219-162833-ACTEST2                                            NaN   \n",
       "20180303-140323-ACTEST2                                            NaN   \n",
       "20180213-162455-ACTEST2                                            NaN   \n",
       "\n",
       "                         phase3-tme to 1st trigger_plus3 frm prev trigger  \\\n",
       "20180219-162833-ACTEST2                                               NaN   \n",
       "20180303-140323-ACTEST2                                               NaN   \n",
       "20180213-162455-ACTEST2                                               NaN   \n",
       "\n",
       "                         phase3-tme to 1st trigger_plus4 frm phs start  \\\n",
       "20180219-162833-ACTEST2                                            NaN   \n",
       "20180303-140323-ACTEST2                                            NaN   \n",
       "20180213-162455-ACTEST2                                            NaN   \n",
       "\n",
       "                         phase3-tme to 1st trigger_plus4 frm prev trigger  \n",
       "20180219-162833-ACTEST2                                               NaN  \n",
       "20180303-140323-ACTEST2                                               NaN  \n",
       "20180213-162455-ACTEST2                                               NaN  \n",
       "\n",
       "[3 rows x 118 columns]"
      ]
     },
     "execution_count": 48,
     "metadata": {},
     "output_type": "execute_result"
    }
   ],
   "source": [
    "df = pd.concat(framelist, axis=1, sort=False) # combines all frames\n",
    "df.dropna(axis=0, how='all', inplace=True) # drops any rows where all values are missing\n",
    "df.head(3)"
   ]
  },
  {
   "cell_type": "markdown",
   "metadata": {},
   "source": [
    "## Cleaning: Dataframe Characteristics"
   ]
  },
  {
   "cell_type": "code",
   "execution_count": 49,
   "metadata": {},
   "outputs": [
    {
     "name": "stdout",
     "output_type": "stream",
     "text": [
      "Dataframe Shape:(61, 118)\n",
      "\n",
      "Column Names by DataType\n",
      "Data Type, object:\n",
      "phases, controller, trigger, stimulus, box, file, track, phase1time, phase1stim, phase2time, phase2stim, phase3time, phase3stim\n",
      "\n",
      "Data Type, float64:\n",
      "all|#Datapoints, all|#Freezes, all|#Triggers, all|#Valid, all|%Valid datapoints, all|Avg. normed x coordinate, all|Avg. speed (?/sec), all|Avg. time per freeze (sec), all|Avg. time per trigger (sec), all|Avg. x coordinate, all|Avg. x speed (?/sec), all|Avg. y coordinate, all|Avg. y speed (?/sec), all|Freeze frequency (per min), all|Total distance traveled (?), all|Total time (sec), all|Total time frozen (sec), all|Total time triggered (sec), all|Trigger frequency (per min), all|Valid time (sec), phase 1|#Datapoints, phase 1|#Freezes, phase 1|#Triggers, phase 1|#Valid, phase 1|%Valid datapoints, phase 1|Avg. normed x coordinate, phase 1|Avg. speed (?/sec), phase 1|Avg. time per freeze (sec), phase 1|Avg. time per trigger (sec), phase 1|Avg. x coordinate, phase 1|Avg. x speed (?/sec), phase 1|Avg. y coordinate, phase 1|Avg. y speed (?/sec), phase 1|Freeze frequency (per min), phase 1|Total distance traveled (?), phase 1|Total time (sec), phase 1|Total time frozen (sec), phase 1|Total time triggered (sec), phase 1|Trigger frequency (per min), phase 1|Valid time (sec), phase 2|#Datapoints, phase 2|#Freezes, phase 2|#Triggers, phase 2|#Valid, phase 2|%Valid datapoints, phase 2|Avg. normed x coordinate, phase 2|Avg. speed (?/sec), phase 2|Avg. time per freeze (sec), phase 2|Avg. time per trigger (sec), phase 2|Avg. x coordinate, phase 2|Avg. x speed (?/sec), phase 2|Avg. y coordinate, phase 2|Avg. y speed (?/sec), phase 2|Freeze frequency (per min), phase 2|Total distance traveled (?), phase 2|Total time (sec), phase 2|Total time frozen (sec), phase 2|Total time triggered (sec), phase 2|Trigger frequency (per min), phase 2|Valid time (sec), phase 3|#Datapoints, phase 3|#Freezes, phase 3|#Triggers, phase 3|#Valid, phase 3|%Valid datapoints, phase 3|Avg. normed x coordinate, phase 3|Avg. speed (?/sec), phase 3|Avg. time per freeze (sec), phase 3|Avg. time per trigger (sec), phase 3|Avg. x coordinate, phase 3|Avg. x speed (?/sec), phase 3|Avg. y coordinate, phase 3|Avg. y speed (?/sec), phase 3|Freeze frequency (per min), phase 3|Total distance traveled (?), phase 3|Total time (sec), phase 3|Total time frozen (sec), phase 3|Total time triggered (sec), phase 3|Trigger frequency (per min), phase 3|Valid time (sec), phase1-tme to 1st trigger frm phs start, phase1-tme to 1st trigger_plus1 frm phs start, phase1-tme to 1st trigger_plus2 frm phs start, phase1-tme to 1st trigger_plus3 frm phs start, phase1-tme to 1st trigger_plus4 frm phs start, phase2-tme to 1st trigger frm phs start, phase2-tme to 1st trigger frm prev trigger, phase2-tme to 1st trigger_plus1 frm phs start, phase2-tme to 1st trigger_plus1 frm prev trigger, phase2-tme to 1st trigger_plus2 frm phs start, phase2-tme to 1st trigger_plus2 frm prev trigger, phase2-tme to 1st trigger_plus3 frm phs start, phase2-tme to 1st trigger_plus3 frm prev trigger, phase2-tme to 1st trigger_plus4 frm phs start, phase2-tme to 1st trigger_plus4 frm prev trigger, phase3-tme to 1st trigger frm phs start, phase3-tme to 1st trigger frm prev trigger, phase3-tme to 1st trigger_plus1 frm phs start, phase3-tme to 1st trigger_plus1 frm prev trigger, phase3-tme to 1st trigger_plus2 frm phs start, phase3-tme to 1st trigger_plus2 frm prev trigger, phase3-tme to 1st trigger_plus3 frm phs start, phase3-tme to 1st trigger_plus3 frm prev trigger, phase3-tme to 1st trigger_plus4 frm phs start, phase3-tme to 1st trigger_plus4 frm prev trigger\n",
      "\n"
     ]
    }
   ],
   "source": [
    "print(f'Dataframe Shape:{df.shape}')\n",
    "print()   \n",
    "\n",
    "print('Column Names by DataType')\n",
    "for dt in df.dtypes.unique():\n",
    "    print(f'Data Type, {dt}:')\n",
    "    print(*list(df.select_dtypes(include=[dt]).columns), sep = ', ')\n",
    "    print()\n",
    "\n",
    "# print('Number of Tracks with Null Data by Column:')  #fix this\n",
    "# print(df[df.isnull().any(axis=1)][df.columns[df.isnull().any()]].count())\n",
    "# print()\n",
    "\n"
   ]
  },
  {
   "cell_type": "markdown",
   "metadata": {},
   "source": [
    "## Cleaning: Early Termination Check\n"
   ]
  },
  {
   "cell_type": "code",
   "execution_count": 50,
   "metadata": {},
   "outputs": [
    {
     "name": "stdout",
     "output_type": "stream",
     "text": [
      "Track Times: Mean 1160.2349475409835, Minimum 15.408500000000002, Maximum 1199.0315, Count 61\n"
     ]
    },
    {
     "data": {
      "text/plain": [
       "<matplotlib.axes._subplots.AxesSubplot at 0x2b3d8ad62390>"
      ]
     },
     "execution_count": 50,
     "metadata": {},
     "output_type": "execute_result"
    },
    {
     "name": "stderr",
     "output_type": "stream",
     "text": [
      "/share/apps/jhub/lib64/python3.6/site-packages/matplotlib/font_manager.py:1328: UserWarning: findfont: Font family ['sans-serif'] not found. Falling back to DejaVu Sans\n",
      "  (prop.get_family(), self.defaultFamily[fontext]))\n"
     ]
    },
    {
     "data": {
      "image/png": "[encoded data removed]",
      "text/plain": [
       "<Figure size 432x432 with 1 Axes>"
      ]
     },
     "metadata": {},
     "output_type": "display_data"
    }
   ],
   "source": [
    "print(f'''Track Times: Mean {df['all|Total time (sec)'].mean()}, Minimum {df['all|Total time (sec)'].min()}, Maximum {df['all|Total time (sec)'].max()}, Count {df['all|Total time (sec)'].count()}''')\n",
    "\n",
    "fig, ax = plt.subplots(1, 1, figsize=(6, 6))\n",
    "ax.ticklabel_format(useOffset=False) # prevents appearance of scientific notation on y axis\n",
    "df.boxplot(column='all|Total time (sec)', by='box', ax=ax)"
   ]
  },
  {
   "cell_type": "markdown",
   "metadata": {},
   "source": [
    "## Cleaning: Poor Tracking Check\n"
   ]
  },
  {
   "cell_type": "code",
   "execution_count": 51,
   "metadata": {},
   "outputs": [
    {
     "name": "stdout",
     "output_type": "stream",
     "text": [
      "Valid Datapoints: Mean 0.9755440048521484, Minimum 0.19087725150100066, Maximum 1.0, Count 61\n"
     ]
    },
    {
     "data": {
      "text/plain": [
       "<matplotlib.axes._subplots.AxesSubplot at 0x2b3d8bf88518>"
      ]
     },
     "execution_count": 51,
     "metadata": {},
     "output_type": "execute_result"
    },
    {
     "name": "stderr",
     "output_type": "stream",
     "text": [
      "/share/apps/jhub/lib64/python3.6/site-packages/matplotlib/font_manager.py:1328: UserWarning: findfont: Font family ['sans-serif'] not found. Falling back to DejaVu Sans\n",
      "  (prop.get_family(), self.defaultFamily[fontext]))\n"
     ]
    },
    {
     "data": {
      "image/png": "[encoded data removed]",
      "text/plain": [
       "<Figure size 432x432 with 1 Axes>"
      ]
     },
     "metadata": {},
     "output_type": "display_data"
    }
   ],
   "source": [
    "print(f'''Valid Datapoints: Mean {df['all|%Valid datapoints'].mean()}, Minimum {df['all|%Valid datapoints'].min()}, Maximum {df['all|%Valid datapoints'].max()}, Count {df['all|%Valid datapoints'].count()}''')\n",
    "\n",
    "fig, ax = plt.subplots(1, 1, figsize=(6, 6))\n",
    "df.boxplot(column='all|%Valid datapoints', by='box', ax=ax)"
   ]
  },
  {
   "cell_type": "markdown",
   "metadata": {},
   "source": [
    "## Cleaning: No Trigger Check\n"
   ]
  },
  {
   "cell_type": "code",
   "execution_count": 52,
   "metadata": {},
   "outputs": [
    {
     "name": "stdout",
     "output_type": "stream",
     "text": [
      "Number of Triggers: Mean 10.310344827586206, Minimum 1.0, Maximum 192.0, Count 61\n"
     ]
    },
    {
     "data": {
      "text/plain": [
       "<matplotlib.axes._subplots.AxesSubplot at 0x2b3d8b17aa20>"
      ]
     },
     "execution_count": 52,
     "metadata": {},
     "output_type": "execute_result"
    },
    {
     "name": "stderr",
     "output_type": "stream",
     "text": [
      "/share/apps/jhub/lib64/python3.6/site-packages/matplotlib/font_manager.py:1328: UserWarning: findfont: Font family ['sans-serif'] not found. Falling back to DejaVu Sans\n",
      "  (prop.get_family(), self.defaultFamily[fontext]))\n"
     ]
    },
    {
     "data": {
      "image/png": "[encoded data removed]",
      "text/plain": [
       "<Figure size 432x432 with 1 Axes>"
      ]
     },
     "metadata": {},
     "output_type": "display_data"
    }
   ],
   "source": [
    "print(f'''Number of Triggers: Mean {df['phase 2|#Triggers'].mean()}, Minimum {df['all|#Triggers'].min()}, Maximum {df['all|#Triggers'].max()}, Count {df['all|#Triggers'].count()}''')\n",
    "\n",
    "fig, ax = plt.subplots(1, 1, figsize=(6, 6))\n",
    "df.boxplot(column='phase 2|#Triggers', by='box', ax=ax)"
   ]
  },
  {
   "cell_type": "markdown",
   "metadata": {},
   "source": [
    "## Cleaning: Removing Tracks for Early Termination, Poor Tracking, No Trigger\n"
   ]
  },
  {
   "cell_type": "code",
   "execution_count": 59,
   "metadata": {},
   "outputs": [
    {
     "name": "stdout",
     "output_type": "stream",
     "text": [
      "Raw Track Number: 52\n",
      "Modified Track Number: 52 (following removal of tracks less than 75% the length of the experiment mean)\n",
      "Modified Track Number: 52 (following removal for poor tracking set at less than 0.85% valid datapoints)\n",
      "Modified Track Number: 52 (following removal of tracks with no triggers during the learning)\n"
     ]
    },
    {
     "data": {
      "text/plain": [
       "<matplotlib.axes._subplots.AxesSubplot at 0x2b3d986d5a20>"
      ]
     },
     "execution_count": 59,
     "metadata": {},
     "output_type": "execute_result"
    },
    {
     "name": "stderr",
     "output_type": "stream",
     "text": [
      "/share/apps/jhub/lib64/python3.6/site-packages/matplotlib/font_manager.py:1328: UserWarning: findfont: Font family ['sans-serif'] not found. Falling back to DejaVu Sans\n",
      "  (prop.get_family(), self.defaultFamily[fontext]))\n"
     ]
    },
    {
     "data": {
      "image/png": "[encoded data removed]",
      "text/plain": [
       "<Figure size 432x432 with 1 Axes>"
      ]
     },
     "metadata": {},
     "output_type": "display_data"
    },
    {
     "data": {
      "image/png": "[encoded data removed]",
      "text/plain": [
       "<Figure size 432x432 with 1 Axes>"
      ]
     },
     "metadata": {},
     "output_type": "display_data"
    },
    {
     "data": {
      "image/png": "[encoded data removed]",
      "text/plain": [
       "<Figure size 432x432 with 1 Axes>"
      ]
     },
     "metadata": {},
     "output_type": "display_data"
    }
   ],
   "source": [
    "print(f'Raw Track Number: {df.shape[0]}')\n",
    "\n",
    "df = df.drop(df[df['all|Total time (sec)'] < (df['all|Total time (sec)'].mean())* .75].index) # drops rows if any data is missing, this will remove early termination tracks\n",
    "print(f'Modified Track Number: {df.shape[0]} (following removal of tracks less than 75% the length of the experiment mean)')\n",
    "\n",
    "df = df.drop(df[df['all|%Valid datapoints'] < acquisitionlevel].index)\n",
    "print(f'Modified Track Number: {df.shape[0]} (following removal for poor tracking set at less than {acquisitionlevel}% valid datapoints)')\n",
    "\n",
    "if notriggerexclude == True:\n",
    "    df = df.drop(df[df['phase 2|#Triggers'] == 0].index) # drops rows if there was no trigger during phase 2; NOTE: fix this so it works if learning phase in not 2\n",
    "    print(f'Modified Track Number: {df.shape[0]} (following removal of tracks with no triggers during the learning)')\n",
    "\n",
    "fig, ax = plt.subplots(1, 1, figsize=(6, 6))\n",
    "ax.ticklabel_format(useOffset=False) # prevents appearance of scientific notation on y axis\n",
    "df.boxplot(column='all|Total time (sec)', by='box', ax=ax)\n",
    "\n",
    "fig, ax = plt.subplots(1, 1, figsize=(6, 6))\n",
    "df.boxplot(column='all|%Valid datapoints', by='box', ax=ax)\n",
    "\n",
    "fig, ax = plt.subplots(1, 1, figsize=(6, 6))\n",
    "df.boxplot(column='phase 2|#Triggers', by='box', ax=ax)    "
   ]
  },
  {
   "cell_type": "markdown",
   "metadata": {},
   "source": [
    "## Cleaning: Checking Randomization of Trigger Condition"
   ]
  },
  {
   "cell_type": "code",
   "execution_count": 14,
   "metadata": {},
   "outputs": [
    {
     "name": "stdout",
     "output_type": "stream",
     "text": [
      "Trigger Conditions: ['xpos < 0.50' 'xpos > 0.50']\n",
      "\n",
      "Welchs T-Test shows all|Avg. x coordinate is significantly different as a function of trigger condition, p = 5.758621024223611e-13\n",
      "all|Avg. x coordinate Trigger Condition 1 Mean: 0.6323015952527328\n",
      "all|Avg. x coordinate Trigger Condition 2 Mean: 0.38316624116367126\n",
      "\n",
      "Welchs T-Test shows phase 1|#Valid is significantly different as a function of trigger condition, p = 0.02924188262768202\n",
      "phase 1|#Valid Trigger Condition 1 Mean: 2979.6296296296296\n",
      "phase 1|#Valid Trigger Condition 2 Mean: 2987.344827586207\n",
      "\n",
      "Welchs T-Test shows phase 1|%Valid datapoints is significantly different as a function of trigger condition, p = 0.02100518592287032\n",
      "phase 1|%Valid datapoints Trigger Condition 1 Mean: 0.9965935172209546\n",
      "phase 1|%Valid datapoints Trigger Condition 2 Mean: 0.9993190997445439\n",
      "\n",
      "Welchs T-Test shows phase 1|Valid time (sec) is significantly different as a function of trigger condition, p = 0.027084877014018894\n",
      "phase 1|Valid time (sec) Trigger Condition 1 Mean: 297.85629259259264\n",
      "phase 1|Valid time (sec) Trigger Condition 2 Mean: 298.63812068965524\n",
      "\n",
      "Welchs T-Test shows phase 2|Avg. x coordinate is significantly different as a function of trigger condition, p = 1.0280912910143264e-26\n",
      "phase 2|Avg. x coordinate Trigger Condition 1 Mean: 0.7388575010341313\n",
      "phase 2|Avg. x coordinate Trigger Condition 2 Mean: 0.2589817543462763\n",
      "\n",
      "Welchs T-Test shows phase 3|Avg. x coordinate is significantly different as a function of trigger condition, p = 4.137635559763843e-08\n",
      "phase 3|Avg. x coordinate Trigger Condition 1 Mean: 0.6459997431799557\n",
      "phase 3|Avg. x coordinate Trigger Condition 2 Mean: 0.383933495337691\n",
      "\n",
      "Welchs T-Test shows phase3-tme to 1st trigger frm phs start is significantly different as a function of trigger condition, p = 0.016093679395204296\n",
      "phase3-tme to 1st trigger frm phs start Trigger Condition 1 Mean: 0.0452222222222392\n",
      "phase3-tme to 1st trigger frm phs start Trigger Condition 2 Mean: 0.03937692307692067\n",
      "\n",
      "Welchs T-Test shows phase3-tme to 1st trigger_plus1 frm phs start is significantly different as a function of trigger condition, p = 0.04061014844206878\n",
      "phase3-tme to 1st trigger_plus1 frm phs start Trigger Condition 1 Mean: 0.04456250000001205\n",
      "phase3-tme to 1st trigger_plus1 frm phs start Trigger Condition 2 Mean: 0.03935454545454708\n",
      "\n"
     ]
    }
   ],
   "source": [
    "print(f'Trigger Conditions: {df.trigger.unique()}')\n",
    "print()\n",
    "\n",
    "from scipy.stats import ttest_ind\n",
    "\n",
    "# performs welch's t-test (does not assume equal variances) on all floats and prints any that are signficantly different as a function of trigger\n",
    "for i in df.select_dtypes(include=['float64']).columns:\n",
    "    ttest_result = ttest_ind(df[df.trigger == df.trigger.unique()[0]][i], df[df.trigger == df.trigger.unique()[1]][i], equal_var=False, nan_policy='omit')\n",
    "    \n",
    "    if ttest_result.pvalue < .05:\n",
    "        print(f'Welchs T-Test shows {i} is significantly different as a function of trigger condition, p = {ttest_result.pvalue}')\n",
    "        print(f'{i} Trigger Condition 1 Mean: {df[df.trigger == df.trigger.unique()[0]][i].mean()}')\n",
    "        print(f'{i} Trigger Condition 2 Mean: {df[df.trigger == df.trigger.unique()[1]][i].mean()}')\n",
    "        print()"
   ]
  },
  {
   "cell_type": "markdown",
   "metadata": {},
   "source": [
    "## Cleaning: Checking for Box Variations\n",
    "to do (ANOVA?) "
   ]
  },
  {
   "cell_type": "code",
   "execution_count": 15,
   "metadata": {},
   "outputs": [
    {
     "data": {
      "text/plain": [
       "<matplotlib.axes._subplots.AxesSubplot at 0x2b3d899d5630>"
      ]
     },
     "execution_count": 15,
     "metadata": {},
     "output_type": "execute_result"
    },
    {
     "data": {
      "image/png": "[encoded data removed]",
      "text/plain": [
       "<Figure size 432x432 with 1 Axes>"
      ]
     },
     "metadata": {},
     "output_type": "display_data"
    }
   ],
   "source": [
    "fig, ax = plt.subplots(1, 1, figsize=(6, 6))\n",
    "df.boxplot(column='all|%Valid datapoints', by='box', ax=ax)"
   ]
  },
  {
   "cell_type": "code",
   "execution_count": 16,
   "metadata": {},
   "outputs": [
    {
     "data": {
      "text/plain": [
       "<matplotlib.axes._subplots.AxesSubplot at 0x2b3d87539048>"
      ]
     },
     "execution_count": 16,
     "metadata": {},
     "output_type": "execute_result"
    },
    {
     "data": {
      "image/png": "[encoded data removed]",
      "text/plain": [
       "<Figure size 432x432 with 1 Axes>"
      ]
     },
     "metadata": {},
     "output_type": "display_data"
    }
   ],
   "source": [
    "fig, ax = plt.subplots(1, 1, figsize=(6, 6))\n",
    "df.boxplot(column='all|Avg. normed x coordinate', by='box', ax=ax)"
   ]
  },
  {
   "cell_type": "code",
   "execution_count": 17,
   "metadata": {},
   "outputs": [
    {
     "data": {
      "text/plain": [
       "<matplotlib.axes._subplots.AxesSubplot at 0x2b3d899fcf28>"
      ]
     },
     "execution_count": 17,
     "metadata": {},
     "output_type": "execute_result"
    },
    {
     "data": {
      "image/png": "[encoded data removed]",
      "text/plain": [
       "<Figure size 432x432 with 1 Axes>"
      ]
     },
     "metadata": {},
     "output_type": "display_data"
    }
   ],
   "source": [
    "fig, ax = plt.subplots(1, 1, figsize=(6, 6)) \n",
    "df.boxplot(column='phase 2|Avg. normed x coordinate', by='box', ax=ax)"
   ]
  },
  {
   "cell_type": "markdown",
   "metadata": {},
   "source": [
    "## Basic Descriptives"
   ]
  },
  {
   "cell_type": "code",
   "execution_count": 18,
   "metadata": {},
   "outputs": [
    {
     "data": {
      "text/plain": [
       "<matplotlib.axes._subplots.AxesSubplot at 0x2b3d89ad6eb8>"
      ]
     },
     "execution_count": 18,
     "metadata": {},
     "output_type": "execute_result"
    },
    {
     "data": {
      "image/png": "[encoded data removed]",
      "text/plain": [
       "<Figure size 360x360 with 1 Axes>"
      ]
     },
     "metadata": {},
     "output_type": "display_data"
    }
   ],
   "source": [
    "fig, ax = plt.subplots(1, 1, figsize=(5, 5)) \n",
    "df.boxplot(column=['phase 1|Avg. normed x coordinate', 'phase 2|Avg. normed x coordinate', 'phase 3|Avg. normed x coordinate'], ax=ax)"
   ]
  },
  {
   "cell_type": "code",
   "execution_count": 19,
   "metadata": {},
   "outputs": [
    {
     "name": "stderr",
     "output_type": "stream",
     "text": [
      "/share/apps/jhub/lib64/python3.6/site-packages/pandas/plotting/_core.py:2257: UserWarning: To output multiple subplots, the figure containing the passed axes is being cleared\n",
      "  return_type=return_type, **kwds)\n"
     ]
    },
    {
     "data": {
      "text/plain": [
       "array([[<matplotlib.axes._subplots.AxesSubplot object at 0x2b3d89b4c128>,\n",
       "        <matplotlib.axes._subplots.AxesSubplot object at 0x2b3d89bf25c0>],\n",
       "       [<matplotlib.axes._subplots.AxesSubplot object at 0x2b3d89c1a9b0>,\n",
       "        <matplotlib.axes._subplots.AxesSubplot object at 0x2b3d89c44da0>]],\n",
       "      dtype=object)"
      ]
     },
     "execution_count": 19,
     "metadata": {},
     "output_type": "execute_result"
    },
    {
     "data": {
      "image/png": "[encoded data removed]",
      "text/plain": [
       "<Figure size 720x720 with 4 Axes>"
      ]
     },
     "metadata": {},
     "output_type": "display_data"
    }
   ],
   "source": [
    "fig, ax = plt.subplots(1, 1, figsize=(10, 10))\n",
    " \n",
    "df.boxplot(column=['phase 1|Avg. normed x coordinate', 'phase 2|Avg. normed x coordinate', 'phase 3|Avg. normed x coordinate'], by='box', ax=ax)"
   ]
  },
  {
   "cell_type": "markdown",
   "metadata": {},
   "source": [
    "## Analysis/Viz"
   ]
  },
  {
   "cell_type": "code",
   "execution_count": 20,
   "metadata": {},
   "outputs": [
    {
     "data": {
      "text/plain": [
       "<matplotlib.axes._subplots.AxesSubplot at 0x2b3d8a088400>"
      ]
     },
     "execution_count": 20,
     "metadata": {},
     "output_type": "execute_result"
    },
    {
     "data": {
      "image/png": "[encoded data removed]",
      "text/plain": [
       "<Figure size 432x288 with 1 Axes>"
      ]
     },
     "metadata": {},
     "output_type": "display_data"
    }
   ],
   "source": [
    "df.plot(kind=\"scatter\", x=('all|Avg. normed x coordinate'), y=('all|Avg. y coordinate'))"
   ]
  },
  {
   "cell_type": "code",
   "execution_count": 21,
   "metadata": {},
   "outputs": [
    {
     "name": "stderr",
     "output_type": "stream",
     "text": [
      "/share/apps/jhub/lib64/python3.6/site-packages/matplotlib/axes/_axes.py:6462: UserWarning: The 'normed' kwarg is deprecated, and has been replaced by the 'density' kwarg.\n",
      "  warnings.warn(\"The 'normed' kwarg is deprecated, and has been \"\n"
     ]
    },
    {
     "data": {
      "text/plain": [
       "<seaborn.axisgrid.JointGrid at 0x2b3d8a0b2358>"
      ]
     },
     "execution_count": 21,
     "metadata": {},
     "output_type": "execute_result"
    },
    {
     "data": {
      "image/png": "[encoded data removed]",
      "text/plain": [
       "<Figure size 360x360 with 3 Axes>"
      ]
     },
     "metadata": {},
     "output_type": "display_data"
    }
   ],
   "source": [
    "seaborn.jointplot(x=('all|Avg. normed x coordinate'), y=('all|Avg. y coordinate'), data=df, size=5)"
   ]
  },
  {
   "cell_type": "code",
   "execution_count": 22,
   "metadata": {},
   "outputs": [
    {
     "data": {
      "text/plain": [
       "<seaborn.axisgrid.FacetGrid at 0x2b3d89f7fef0>"
      ]
     },
     "execution_count": 22,
     "metadata": {},
     "output_type": "execute_result"
    },
    {
     "data": {
      "image/png": "[encoded data removed]",
      "text/plain": [
       "<Figure size 426.75x360 with 1 Axes>"
      ]
     },
     "metadata": {},
     "output_type": "display_data"
    }
   ],
   "source": [
    "seaborn.FacetGrid(df, hue=\"box\", size=5) \\\n",
    "   .map(plt.scatter, ('all|Avg. normed x coordinate'), ('all|Avg. y coordinate')) \\\n",
    "   .add_legend()"
   ]
  },
  {
   "cell_type": "code",
   "execution_count": 23,
   "metadata": {},
   "outputs": [
    {
     "data": {
      "text/plain": [
       "<seaborn.axisgrid.FacetGrid at 0x2b3d89fd9208>"
      ]
     },
     "execution_count": 23,
     "metadata": {},
     "output_type": "execute_result"
    },
    {
     "data": {
      "image/png": "[encoded data removed]",
      "text/plain": [
       "<Figure size 456x360 with 1 Axes>"
      ]
     },
     "metadata": {},
     "output_type": "display_data"
    }
   ],
   "source": [
    "seaborn.FacetGrid(df, hue=\"trigger\", size=5) \\\n",
    "   .map(plt.scatter, ('all|Avg. normed x coordinate'), ('all|Avg. y coordinate')) \\\n",
    "   .add_legend()"
   ]
  },
  {
   "cell_type": "code",
   "execution_count": null,
   "metadata": {},
   "outputs": [],
   "source": []
  },
  {
   "cell_type": "markdown",
   "metadata": {},
   "source": [
    "## Viz: Heatmaps Per Phase"
   ]
  },
  {
   "cell_type": "code",
   "execution_count": 24,
   "metadata": {},
   "outputs": [
    {
     "data": {
      "image/png": "[encoded data removed]",
      "text/plain": [
       "<Figure size 432x144 with 3 Axes>"
      ]
     },
     "metadata": {},
     "output_type": "display_data"
    }
   ],
   "source": [
    "plotter = TrackPlotter(processor)\n",
    "plotter.plot_heatmap(plot_type='per-phase')"
   ]
  },
  {
   "cell_type": "code",
   "execution_count": null,
   "metadata": {},
   "outputs": [],
   "source": []
  },
  {
   "cell_type": "code",
   "execution_count": null,
   "metadata": {},
   "outputs": [],
   "source": [
    "# import pandas_profiling\n",
    "# pandas_profiling.ProfileReport(df.loc[:, df.columns.str.contains('all')])\n"
   ]
  },
  {
   "cell_type": "code",
   "execution_count": null,
   "metadata": {},
   "outputs": [],
   "source": []
  }
 ],
 "metadata": {
  "kernelspec": {
   "display_name": "Python 3",
   "language": "python",
   "name": "python3"
  },
  "language_info": {
   "codemirror_mode": {
    "name": "ipython",
    "version": 3
   },
   "file_extension": ".py",
   "mimetype": "text/x-python",
   "name": "python",
   "nbconvert_exporter": "python",
   "pygments_lexer": "ipython3",
   "version": "3.6.5"
  }
 },
 "nbformat": 4,
 "nbformat_minor": 2
}
